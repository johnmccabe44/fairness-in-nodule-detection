{
 "cells": [
  {
   "cell_type": "code",
   "execution_count": 7,
   "metadata": {},
   "outputs": [],
   "source": [
    "import torch\n",
    "import pandas as pd\n",
    "import numpy as np\n",
    "from sklearn.preprocessing import LabelEncoder as LE\n",
    "from sklearn.preprocessing import MinMaxScaler\n",
    "import torch.nn as nn\n",
    "import torch.nn.functional as F\n",
    "from torch.utils.data import DataLoader\n",
    "import torch.optim as optim\n",
    "import sys\n",
    "import time\n",
    "from tqdm import tqdm\n",
    "from sklearn.ensemble import RandomForestClassifier as RFC\n",
    "from sklearn.metrics import confusion_matrix as cm\n",
    "from sklearn.preprocessing import OneHotEncoder as OHE\n",
    "from netcal.scaling import LogisticCalibration as LC \n",
    "from netcal.binning import IsotonicRegression as IR \n",
    "from netcal.binning import BBQ"
   ]
  },
  {
   "cell_type": "markdown",
   "metadata": {},
   "source": [
    "From the ADNIMERGE file, select the baseline cases and restrict the dataset to diagnosis, sex, age, hippocamppus, MMSE and ICV at baseline along with subject ID (RID)"
   ]
  },
  {
   "cell_type": "code",
   "execution_count": 111,
   "metadata": {},
   "outputs": [
    {
     "name": "stderr",
     "output_type": "stream",
     "text": [
      "/var/folders/9x/f7zq7s_d1fv5z99dsps_gk2m0000gn/T/ipykernel_25858/3545597063.py:1: DtypeWarning: Columns (19,20,21,50,51,104,105,106) have mixed types. Specify dtype option on import or set low_memory=False.\n",
      "  df_adni = pd.read_csv('ADNI/ADNIMERGE.csv')\n",
      "/var/folders/9x/f7zq7s_d1fv5z99dsps_gk2m0000gn/T/ipykernel_25858/3545597063.py:7: SettingWithCopyWarning: \n",
      "A value is trying to be set on a copy of a slice from a DataFrame.\n",
      "Try using .loc[row_indexer,col_indexer] = value instead\n",
      "\n",
      "See the caveats in the documentation: https://pandas.pydata.org/pandas-docs/stable/user_guide/indexing.html#returning-a-view-versus-a-copy\n",
      "  df_adnia['diagnosis'] = diag\n"
     ]
    }
   ],
   "source": [
    "df_adni = pd.read_csv('ADNI/ADNIMERGE.csv')\n",
    "df_adni = df_adni.sort_values('EXAMDATE').drop_duplicates('RID')\n",
    "df_adni['SEX'] = np.where(df_adni['PTGENDER']=='Female',1,0)\n",
    "df_adnia = df_adni.dropna(subset=['DX_bl','SEX','AGE','Hippocampus_bl','MMSE_bl','ICV_bl'])\n",
    "le = LE()\n",
    "diag = le.fit_transform(df_adnia['DX_bl'])\n",
    "df_adnia['diagnosis'] = diag"
   ]
  },
  {
   "cell_type": "code",
   "execution_count": 8,
   "metadata": {},
   "outputs": [],
   "source": [
    "class DatasetADNI(torch.utils.data.Dataset):\n",
    "  'Characterizes a dataset for PyTorch'\n",
    "  def __init__(self, dataframe, list_values):\n",
    "        'Initialization'\n",
    "        self.labels = np.asarray(dataframe['diagnosis'])\n",
    "        self.list_IDs = np.asarray(dataframe['RID'])\n",
    "        self.list_values = list_values\n",
    "        self.dataframe = dataframe\n",
    "\n",
    "  def __len__(self):\n",
    "        'Denotes the total number of samples'\n",
    "        return len(self.list_IDs)\n",
    "\n",
    "  def __getitem__(self, index):\n",
    "        'Generates one sample of data'\n",
    "        # Select sample\n",
    "        ID = self.list_IDs[index]\n",
    "\n",
    "        # Load data and get label\n",
    "        X = np.asarray(self.dataframe.iloc[index][self.list_values])\n",
    "        y = self.labels[index]\n",
    "        sample = {'data': X, 'label': y}\n",
    "\n",
    "        return sample"
   ]
  },
  {
   "cell_type": "markdown",
   "metadata": {},
   "source": [
    "Let's create a validation/calibration and a test subset of the original dataset"
   ]
  },
  {
   "cell_type": "code",
   "execution_count": 14,
   "metadata": {},
   "outputs": [],
   "source": [
    "valid = df_adnia.sample(frac=0.1, replace=False)\n",
    "remain = df_adnia.drop(valid.index)\n",
    "test = remain.sample(frac=0.2, replace=False)\n",
    "train = remain.drop(test.index)\n",
    "test = df_adnia.sample(frac=0.2, replace=False)"
   ]
  },
  {
   "cell_type": "markdown",
   "metadata": {},
   "source": [
    "We now standardise the range of values of the features and create the associated dataframes"
   ]
  },
  {
   "cell_type": "code",
   "execution_count": 15,
   "metadata": {},
   "outputs": [
    {
     "data": {
      "text/html": [
       "<style>#sk-container-id-1 {color: black;background-color: white;}#sk-container-id-1 pre{padding: 0;}#sk-container-id-1 div.sk-toggleable {background-color: white;}#sk-container-id-1 label.sk-toggleable__label {cursor: pointer;display: block;width: 100%;margin-bottom: 0;padding: 0.3em;box-sizing: border-box;text-align: center;}#sk-container-id-1 label.sk-toggleable__label-arrow:before {content: \"▸\";float: left;margin-right: 0.25em;color: #696969;}#sk-container-id-1 label.sk-toggleable__label-arrow:hover:before {color: black;}#sk-container-id-1 div.sk-estimator:hover label.sk-toggleable__label-arrow:before {color: black;}#sk-container-id-1 div.sk-toggleable__content {max-height: 0;max-width: 0;overflow: hidden;text-align: left;background-color: #f0f8ff;}#sk-container-id-1 div.sk-toggleable__content pre {margin: 0.2em;color: black;border-radius: 0.25em;background-color: #f0f8ff;}#sk-container-id-1 input.sk-toggleable__control:checked~div.sk-toggleable__content {max-height: 200px;max-width: 100%;overflow: auto;}#sk-container-id-1 input.sk-toggleable__control:checked~label.sk-toggleable__label-arrow:before {content: \"▾\";}#sk-container-id-1 div.sk-estimator input.sk-toggleable__control:checked~label.sk-toggleable__label {background-color: #d4ebff;}#sk-container-id-1 div.sk-label input.sk-toggleable__control:checked~label.sk-toggleable__label {background-color: #d4ebff;}#sk-container-id-1 input.sk-hidden--visually {border: 0;clip: rect(1px 1px 1px 1px);clip: rect(1px, 1px, 1px, 1px);height: 1px;margin: -1px;overflow: hidden;padding: 0;position: absolute;width: 1px;}#sk-container-id-1 div.sk-estimator {font-family: monospace;background-color: #f0f8ff;border: 1px dotted black;border-radius: 0.25em;box-sizing: border-box;margin-bottom: 0.5em;}#sk-container-id-1 div.sk-estimator:hover {background-color: #d4ebff;}#sk-container-id-1 div.sk-parallel-item::after {content: \"\";width: 100%;border-bottom: 1px solid gray;flex-grow: 1;}#sk-container-id-1 div.sk-label:hover label.sk-toggleable__label {background-color: #d4ebff;}#sk-container-id-1 div.sk-serial::before {content: \"\";position: absolute;border-left: 1px solid gray;box-sizing: border-box;top: 0;bottom: 0;left: 50%;z-index: 0;}#sk-container-id-1 div.sk-serial {display: flex;flex-direction: column;align-items: center;background-color: white;padding-right: 0.2em;padding-left: 0.2em;position: relative;}#sk-container-id-1 div.sk-item {position: relative;z-index: 1;}#sk-container-id-1 div.sk-parallel {display: flex;align-items: stretch;justify-content: center;background-color: white;position: relative;}#sk-container-id-1 div.sk-item::before, #sk-container-id-1 div.sk-parallel-item::before {content: \"\";position: absolute;border-left: 1px solid gray;box-sizing: border-box;top: 0;bottom: 0;left: 50%;z-index: -1;}#sk-container-id-1 div.sk-parallel-item {display: flex;flex-direction: column;z-index: 1;position: relative;background-color: white;}#sk-container-id-1 div.sk-parallel-item:first-child::after {align-self: flex-end;width: 50%;}#sk-container-id-1 div.sk-parallel-item:last-child::after {align-self: flex-start;width: 50%;}#sk-container-id-1 div.sk-parallel-item:only-child::after {width: 0;}#sk-container-id-1 div.sk-dashed-wrapped {border: 1px dashed gray;margin: 0 0.4em 0.5em 0.4em;box-sizing: border-box;padding-bottom: 0.4em;background-color: white;}#sk-container-id-1 div.sk-label label {font-family: monospace;font-weight: bold;display: inline-block;line-height: 1.2em;}#sk-container-id-1 div.sk-label-container {text-align: center;}#sk-container-id-1 div.sk-container {/* jupyter's `normalize.less` sets `[hidden] { display: none; }` but bootstrap.min.css set `[hidden] { display: none !important; }` so we also need the `!important` here to be able to override the default hidden behavior on the sphinx rendered scikit-learn.org. See: https://github.com/scikit-learn/scikit-learn/issues/21755 */display: inline-block !important;position: relative;}#sk-container-id-1 div.sk-text-repr-fallback {display: none;}</style><div id=\"sk-container-id-1\" class=\"sk-top-container\"><div class=\"sk-text-repr-fallback\"><pre>MinMaxScaler()</pre><b>In a Jupyter environment, please rerun this cell to show the HTML representation or trust the notebook. <br />On GitHub, the HTML representation is unable to render, please try loading this page with nbviewer.org.</b></div><div class=\"sk-container\" hidden><div class=\"sk-item\"><div class=\"sk-estimator sk-toggleable\"><input class=\"sk-toggleable__control sk-hidden--visually\" id=\"sk-estimator-id-1\" type=\"checkbox\" checked><label for=\"sk-estimator-id-1\" class=\"sk-toggleable__label sk-toggleable__label-arrow\">MinMaxScaler</label><div class=\"sk-toggleable__content\"><pre>MinMaxScaler()</pre></div></div></div></div></div>"
      ],
      "text/plain": [
       "MinMaxScaler()"
      ]
     },
     "execution_count": 15,
     "metadata": {},
     "output_type": "execute_result"
    }
   ],
   "source": [
    "MMS = MinMaxScaler()\n",
    "train_mms = MMS.fit_transform(train[['Hippocampus_bl','ICV_bl','AGE','MMSE_bl']])\n",
    "MMS.fit(train[['Hippocampus_bl','ICV_bl','AGE','MMSE_bl']])"
   ]
  },
  {
   "cell_type": "code",
   "execution_count": 16,
   "metadata": {},
   "outputs": [],
   "source": [
    "test_mms = MMS.transform(test[['Hippocampus_bl','ICV_bl','AGE','MMSE_bl']])\n",
    "valid_mms = MMS.transform(valid[['Hippocampus_bl','ICV_bl','AGE','MMSE_bl']])"
   ]
  },
  {
   "cell_type": "code",
   "execution_count": 17,
   "metadata": {},
   "outputs": [],
   "source": [
    "dict_data = {'RID': train['RID'],'diagnosis': train['diagnosis'], 'sex': train['SEX'], 'hipp':train_mms[:,0], 'icv': train_mms[:,1],'age':train_mms[:,2], 'mmse': train_mms[:,3]}\n",
    "df_train = pd.DataFrame(dict_data)"
   ]
  },
  {
   "cell_type": "code",
   "execution_count": 18,
   "metadata": {},
   "outputs": [],
   "source": [
    "dict_data = {'RID': test['RID'],'diagnosis': test['diagnosis'], 'sex': test['SEX'], 'hipp':test_mms[:,0], 'icv': test_mms[:,1],'age':test_mms[:,2], 'mmse': test_mms[:,3]}\n",
    "df_test = pd.DataFrame(dict_data)"
   ]
  },
  {
   "cell_type": "code",
   "execution_count": 19,
   "metadata": {},
   "outputs": [],
   "source": [
    "dict_data = {'RID': valid['RID'],'diagnosis': valid['diagnosis'], 'sex': valid['SEX'], 'hipp':valid_mms[:,0], 'icv': valid_mms[:,1],'age':valid_mms[:,2], 'mmse': valid_mms[:,3]}\n",
    "df_valid = pd.DataFrame(dict_data)"
   ]
  },
  {
   "cell_type": "code",
   "execution_count": 81,
   "metadata": {},
   "outputs": [],
   "source": [
    "list_feat = ['sex','hipp','age','icv','mmse']"
   ]
  },
  {
   "cell_type": "code",
   "execution_count": 20,
   "metadata": {},
   "outputs": [
    {
     "data": {
      "text/html": [
       "<div>\n",
       "<style scoped>\n",
       "    .dataframe tbody tr th:only-of-type {\n",
       "        vertical-align: middle;\n",
       "    }\n",
       "\n",
       "    .dataframe tbody tr th {\n",
       "        vertical-align: top;\n",
       "    }\n",
       "\n",
       "    .dataframe thead th {\n",
       "        text-align: right;\n",
       "    }\n",
       "</style>\n",
       "<table border=\"1\" class=\"dataframe\">\n",
       "  <thead>\n",
       "    <tr style=\"text-align: right;\">\n",
       "      <th></th>\n",
       "      <th>RID</th>\n",
       "      <th>diagnosis</th>\n",
       "      <th>sex</th>\n",
       "      <th>hipp</th>\n",
       "      <th>icv</th>\n",
       "      <th>age</th>\n",
       "      <th>mmse</th>\n",
       "    </tr>\n",
       "  </thead>\n",
       "  <tbody>\n",
       "    <tr>\n",
       "      <th>count</th>\n",
       "      <td>1491.000000</td>\n",
       "      <td>1491.000000</td>\n",
       "      <td>1491.000000</td>\n",
       "      <td>1491.000000</td>\n",
       "      <td>1491.000000</td>\n",
       "      <td>1491.000000</td>\n",
       "      <td>1491.000000</td>\n",
       "    </tr>\n",
       "    <tr>\n",
       "      <th>mean</th>\n",
       "      <td>3772.873239</td>\n",
       "      <td>2.022803</td>\n",
       "      <td>0.479544</td>\n",
       "      <td>0.508212</td>\n",
       "      <td>0.220118</td>\n",
       "      <td>0.560118</td>\n",
       "      <td>0.805190</td>\n",
       "    </tr>\n",
       "    <tr>\n",
       "      <th>std</th>\n",
       "      <td>2386.338918</td>\n",
       "      <td>1.317722</td>\n",
       "      <td>0.499749</td>\n",
       "      <td>0.151916</td>\n",
       "      <td>0.087060</td>\n",
       "      <td>0.184098</td>\n",
       "      <td>0.200107</td>\n",
       "    </tr>\n",
       "    <tr>\n",
       "      <th>min</th>\n",
       "      <td>2.000000</td>\n",
       "      <td>0.000000</td>\n",
       "      <td>0.000000</td>\n",
       "      <td>0.000000</td>\n",
       "      <td>0.000000</td>\n",
       "      <td>0.000000</td>\n",
       "      <td>0.000000</td>\n",
       "    </tr>\n",
       "    <tr>\n",
       "      <th>25%</th>\n",
       "      <td>1124.500000</td>\n",
       "      <td>1.000000</td>\n",
       "      <td>0.000000</td>\n",
       "      <td>0.406898</td>\n",
       "      <td>0.158975</td>\n",
       "      <td>0.438596</td>\n",
       "      <td>0.692308</td>\n",
       "    </tr>\n",
       "    <tr>\n",
       "      <th>50%</th>\n",
       "      <td>4414.000000</td>\n",
       "      <td>2.000000</td>\n",
       "      <td>0.000000</td>\n",
       "      <td>0.522936</td>\n",
       "      <td>0.213290</td>\n",
       "      <td>0.563910</td>\n",
       "      <td>0.846154</td>\n",
       "    </tr>\n",
       "    <tr>\n",
       "      <th>75%</th>\n",
       "      <td>6174.000000</td>\n",
       "      <td>3.000000</td>\n",
       "      <td>1.000000</td>\n",
       "      <td>0.609025</td>\n",
       "      <td>0.273642</td>\n",
       "      <td>0.689223</td>\n",
       "      <td>0.923077</td>\n",
       "    </tr>\n",
       "    <tr>\n",
       "      <th>max</th>\n",
       "      <td>7100.000000</td>\n",
       "      <td>4.000000</td>\n",
       "      <td>1.000000</td>\n",
       "      <td>1.000000</td>\n",
       "      <td>1.000000</td>\n",
       "      <td>1.000000</td>\n",
       "      <td>1.000000</td>\n",
       "    </tr>\n",
       "  </tbody>\n",
       "</table>\n",
       "</div>"
      ],
      "text/plain": [
       "               RID    diagnosis          sex         hipp          icv  \\\n",
       "count  1491.000000  1491.000000  1491.000000  1491.000000  1491.000000   \n",
       "mean   3772.873239     2.022803     0.479544     0.508212     0.220118   \n",
       "std    2386.338918     1.317722     0.499749     0.151916     0.087060   \n",
       "min       2.000000     0.000000     0.000000     0.000000     0.000000   \n",
       "25%    1124.500000     1.000000     0.000000     0.406898     0.158975   \n",
       "50%    4414.000000     2.000000     0.000000     0.522936     0.213290   \n",
       "75%    6174.000000     3.000000     1.000000     0.609025     0.273642   \n",
       "max    7100.000000     4.000000     1.000000     1.000000     1.000000   \n",
       "\n",
       "               age         mmse  \n",
       "count  1491.000000  1491.000000  \n",
       "mean      0.560118     0.805190  \n",
       "std       0.184098     0.200107  \n",
       "min       0.000000     0.000000  \n",
       "25%       0.438596     0.692308  \n",
       "50%       0.563910     0.846154  \n",
       "75%       0.689223     0.923077  \n",
       "max       1.000000     1.000000  "
      ]
     },
     "execution_count": 20,
     "metadata": {},
     "output_type": "execute_result"
    }
   ],
   "source": [
    "df_train.describe()"
   ]
  },
  {
   "cell_type": "code",
   "execution_count": 21,
   "metadata": {},
   "outputs": [],
   "source": [
    "dataset = DatasetADNI(df_train, ['hipp','icv','age','mmse','sex'])"
   ]
  },
  {
   "cell_type": "markdown",
   "metadata": {},
   "source": [
    "Create a small network with 3 fully connected layers and leaky ReLu as activation function. The intermediary feature number should be 16 and 32"
   ]
  },
  {
   "cell_type": "code",
   "execution_count": null,
   "metadata": {},
   "outputs": [],
   "source": [
    "def initialize_weights(*models):\n",
    "    for model in models:\n",
    "        for module in model.modules():\n",
    "            if isinstance(module, nn.Conv2d) or isinstance(module, nn.Linear):\n",
    "                nn.init.kaiming_normal(module.weight)\n",
    "                if module.bias is not None:\n",
    "                    module.bias.data.zero_()\n",
    "            elif isinstance(module, nn.BatchNorm2d):\n",
    "                module.weight.data.fill_(1)\n",
    "                module.bias.data.zero_()"
   ]
  },
  {
   "cell_type": "code",
   "execution_count": 23,
   "metadata": {},
   "outputs": [],
   "source": [
    "\n",
    "class MultiFCn(nn.Module):\n",
    "    def __init__(self, num_classes, num_channels):\n",
    "        super(MultiFCn, self).__init__()\n",
    "        self.fc1 = nn.Linear(num_channels, 16)\n",
    "        self.fc2 = nn.Linear(16,32)\n",
    "        self.fc3 = nn.Linear(32, num_classes)\n",
    "        initialize_weights(self)\n",
    "\n",
    "    def forward(self, x):\n",
    "        x = F.leaky_relu(self.fc1(x))\n",
    "        x = F.leaky_relu(self.fc2(x))\n",
    "        x = F.leaky_relu(self.fc3(x))\n",
    "        return x"
   ]
  },
  {
   "cell_type": "code",
   "execution_count": 26,
   "metadata": {},
   "outputs": [],
   "source": [
    "\n",
    "dataloader = DataLoader(dataset, shuffle=True, batch_size=20)"
   ]
  },
  {
   "cell_type": "code",
   "execution_count": 27,
   "metadata": {},
   "outputs": [],
   "source": [
    "dataset_test = DatasetADNI(df_test, ['hipp','icv','age','mmse','sex'])\n",
    "dataset_valid = DatasetADNI(df_valid, ['hipp','icv','age','mmse','sex'])\n",
    "testloader = DataLoader(dataset_test, shuffle=False, batch_size=20)\n",
    "validloader = DataLoader(dataset_valid, shuffle=False, batch_size=20)"
   ]
  },
  {
   "cell_type": "code",
   "execution_count": 28,
   "metadata": {},
   "outputs": [],
   "source": [
    "\n",
    "def cross_entropy(pred, label, weight=None, reduction='mean',\n",
    "                  avg_factor=None):\n",
    "    # element-wise losses\n",
    "    # print((pred[:,:]*weight).sum(), label.sum(), pred.shape)\n",
    "    loss = F.cross_entropy(pred, label.type(torch.LongTensor), reduction=reduction)\n",
    "\n",
    "    # apply weights and do the reduction\n",
    "    if weight is not None:\n",
    "        weight = weight.float()\n",
    "        loss = (loss * weight).sum()/weight.sum()\n",
    "\n",
    "    return loss"
   ]
  },
  {
   "cell_type": "markdown",
   "metadata": {},
   "source": [
    "Let's train our network for 300 epochs"
   ]
  },
  {
   "cell_type": "code",
   "execution_count": 29,
   "metadata": {},
   "outputs": [
    {
     "name": "stderr",
     "output_type": "stream",
     "text": [
      "/var/folders/9x/f7zq7s_d1fv5z99dsps_gk2m0000gn/T/ipykernel_25858/659818287.py:5: UserWarning: nn.init.kaiming_normal is now deprecated in favor of nn.init.kaiming_normal_.\n",
      "  nn.init.kaiming_normal(module.weight)\n"
     ]
    },
    {
     "name": "stdout",
     "output_type": "stream",
     "text": [
      " 57%|█████▋    | 43/75 [00:00<00:00, 227.82it/s]Epoch  0  Loss  1.6063970446586608\n",
      "100%|██████████| 75/75 [00:00<00:00, 246.81it/s]\n",
      " 59%|█████▊    | 44/75 [00:00<00:00, 436.13it/s]Epoch  1  Loss  1.5773651838302611\n",
      "100%|██████████| 75/75 [00:00<00:00, 437.85it/s]\n",
      " 60%|██████    | 45/75 [00:00<00:00, 444.13it/s]Epoch  2  Loss  1.6016354084014892\n",
      "100%|██████████| 75/75 [00:00<00:00, 442.25it/s]\n",
      " 59%|█████▊    | 44/75 [00:00<00:00, 439.54it/s]Epoch  3  Loss  1.6089473485946655\n",
      "100%|██████████| 75/75 [00:00<00:00, 434.58it/s]\n",
      " 60%|██████    | 45/75 [00:00<00:00, 448.16it/s]Epoch  4  Loss  1.5582687735557557\n",
      "100%|██████████| 75/75 [00:00<00:00, 446.16it/s]\n",
      " 59%|█████▊    | 44/75 [00:00<00:00, 438.30it/s]Epoch  5  Loss  1.5895958304405213\n",
      "100%|██████████| 75/75 [00:00<00:00, 440.42it/s]\n",
      " 60%|██████    | 45/75 [00:00<00:00, 440.59it/s]Epoch  6  Loss  1.6129998087882995\n",
      "100%|██████████| 75/75 [00:00<00:00, 439.41it/s]\n",
      " 60%|██████    | 45/75 [00:00<00:00, 447.26it/s]Epoch  7  Loss  1.5478288054466247\n",
      "100%|██████████| 75/75 [00:00<00:00, 445.11it/s]\n",
      " 61%|██████▏   | 46/75 [00:00<00:00, 451.85it/s]Epoch  8  Loss  1.5724713206291199\n",
      "100%|██████████| 75/75 [00:00<00:00, 439.86it/s]\n",
      " 57%|█████▋    | 43/75 [00:00<00:00, 424.91it/s]Epoch  9  Loss  1.55612370967865\n",
      "100%|██████████| 75/75 [00:00<00:00, 433.70it/s]\n",
      " 60%|██████    | 45/75 [00:00<00:00, 444.59it/s]Epoch  10  Loss  1.513864004611969\n",
      "100%|██████████| 75/75 [00:00<00:00, 443.40it/s]\n",
      " 60%|██████    | 45/75 [00:00<00:00, 445.54it/s]Epoch  11  Loss  1.5150065898895264\n",
      "100%|██████████| 75/75 [00:00<00:00, 444.45it/s]\n",
      " 60%|██████    | 45/75 [00:00<00:00, 446.47it/s]Epoch  12  Loss  1.561588454246521\n",
      "100%|██████████| 75/75 [00:00<00:00, 445.03it/s]\n",
      " 60%|██████    | 45/75 [00:00<00:00, 448.79it/s]Epoch  13  Loss  1.5468952417373658\n",
      "100%|██████████| 75/75 [00:00<00:00, 447.02it/s]\n",
      " 61%|██████▏   | 46/75 [00:00<00:00, 450.83it/s]Epoch  14  Loss  1.545796000957489\n",
      "100%|██████████| 75/75 [00:00<00:00, 446.84it/s]\n",
      " 60%|██████    | 45/75 [00:00<00:00, 442.44it/s]Epoch  15  Loss  1.544241237640381\n",
      "100%|██████████| 75/75 [00:00<00:00, 439.42it/s]\n",
      " 57%|█████▋    | 43/75 [00:00<00:00, 426.75it/s]Epoch  16  Loss  1.5179681539535523\n",
      "100%|██████████| 75/75 [00:00<00:00, 422.00it/s]\n",
      " 59%|█████▊    | 44/75 [00:00<00:00, 434.71it/s]Epoch  17  Loss  1.535762321949005\n",
      "100%|██████████| 75/75 [00:00<00:00, 438.48it/s]\n",
      " 60%|██████    | 45/75 [00:00<00:00, 448.05it/s]Epoch  18  Loss  1.5172933220863343\n",
      "100%|██████████| 75/75 [00:00<00:00, 444.97it/s]\n",
      " 55%|█████▍    | 41/75 [00:00<00:00, 404.41it/s]Epoch  19  Loss  1.5191828727722168\n",
      "100%|██████████| 75/75 [00:00<00:00, 391.22it/s]\n",
      " 53%|█████▎    | 40/75 [00:00<00:00, 399.15it/s]Epoch  20  Loss  1.533897626399994\n",
      "100%|██████████| 75/75 [00:00<00:00, 404.13it/s]\n",
      " 57%|█████▋    | 43/75 [00:00<00:00, 426.95it/s]Epoch  21  Loss  1.5178412437438964\n",
      "100%|██████████| 75/75 [00:00<00:00, 363.21it/s]\n",
      " 57%|█████▋    | 43/75 [00:00<00:00, 426.46it/s]Epoch  22  Loss  1.506393015384674\n",
      "100%|██████████| 75/75 [00:00<00:00, 424.95it/s]\n",
      " 59%|█████▊    | 44/75 [00:00<00:00, 433.90it/s]Epoch  23  Loss  1.5018067717552186\n",
      "100%|██████████| 75/75 [00:00<00:00, 434.76it/s]\n",
      " 59%|█████▊    | 44/75 [00:00<00:00, 437.63it/s]Epoch  24  Loss  1.4911747932434083\n",
      "100%|██████████| 75/75 [00:00<00:00, 435.52it/s]\n",
      " 59%|█████▊    | 44/75 [00:00<00:00, 437.65it/s]Epoch  25  Loss  1.5039249539375306\n",
      "100%|██████████| 75/75 [00:00<00:00, 436.94it/s]\n",
      " 60%|██████    | 45/75 [00:00<00:00, 444.45it/s]Epoch  26  Loss  1.4855019211769105\n",
      "100%|██████████| 75/75 [00:00<00:00, 440.61it/s]\n",
      " 59%|█████▊    | 44/75 [00:00<00:00, 435.91it/s]Epoch  27  Loss  1.5030138850212098\n",
      "100%|██████████| 75/75 [00:00<00:00, 437.55it/s]\n",
      " 60%|██████    | 45/75 [00:00<00:00, 447.25it/s]Epoch  28  Loss  1.4949900150299071\n",
      "100%|██████████| 75/75 [00:00<00:00, 443.90it/s]\n",
      " 60%|██████    | 45/75 [00:00<00:00, 445.93it/s]Epoch  29  Loss  1.5263654947280885\n",
      "100%|██████████| 75/75 [00:00<00:00, 444.55it/s]\n",
      " 60%|██████    | 45/75 [00:00<00:00, 449.55it/s]Epoch  30  Loss  1.4758365631103516\n",
      "100%|██████████| 75/75 [00:00<00:00, 448.28it/s]\n",
      " 60%|██████    | 45/75 [00:00<00:00, 444.40it/s]Epoch  31  Loss  1.48906569480896\n",
      "100%|██████████| 75/75 [00:00<00:00, 441.79it/s]\n",
      " 60%|██████    | 45/75 [00:00<00:00, 442.10it/s]Epoch  32  Loss  1.4933058500289917\n",
      "100%|██████████| 75/75 [00:00<00:00, 442.03it/s]\n",
      " 60%|██████    | 45/75 [00:00<00:00, 444.77it/s]Epoch  33  Loss  1.5043473720550538\n",
      "100%|██████████| 75/75 [00:00<00:00, 438.04it/s]\n",
      " 59%|█████▊    | 44/75 [00:00<00:00, 431.64it/s]Epoch  34  Loss  1.5166934370994567\n",
      "100%|██████████| 75/75 [00:00<00:00, 435.65it/s]\n",
      " 61%|██████▏   | 46/75 [00:00<00:00, 451.29it/s]Epoch  35  Loss  1.4909961462020873\n",
      "100%|██████████| 75/75 [00:00<00:00, 446.84it/s]\n",
      " 61%|██████▏   | 46/75 [00:00<00:00, 450.71it/s]Epoch  36  Loss  1.485711121559143\n",
      "100%|██████████| 75/75 [00:00<00:00, 446.55it/s]\n",
      " 60%|██████    | 45/75 [00:00<00:00, 443.31it/s]Epoch  37  Loss  1.4476370096206665\n",
      "100%|██████████| 75/75 [00:00<00:00, 440.82it/s]\n",
      " 60%|██████    | 45/75 [00:00<00:00, 441.90it/s]Epoch  38  Loss  1.5040961623191833\n",
      "100%|██████████| 75/75 [00:00<00:00, 440.59it/s]\n",
      " 60%|██████    | 45/75 [00:00<00:00, 448.64it/s]Epoch  39  Loss  1.4507962584495544\n",
      "100%|██████████| 75/75 [00:00<00:00, 415.15it/s]\n",
      " 61%|██████▏   | 46/75 [00:00<00:00, 451.32it/s]Epoch  40  Loss  1.3907492399215697\n",
      "100%|██████████| 75/75 [00:00<00:00, 444.22it/s]\n",
      " 60%|██████    | 45/75 [00:00<00:00, 444.42it/s]Epoch  41  Loss  1.4458834648132324\n",
      "100%|██████████| 75/75 [00:00<00:00, 443.25it/s]\n",
      " 61%|██████▏   | 46/75 [00:00<00:00, 451.23it/s]Epoch  42  Loss  1.4721832156181336\n",
      "100%|██████████| 75/75 [00:00<00:00, 446.61it/s]\n",
      " 60%|██████    | 45/75 [00:00<00:00, 444.24it/s]Epoch  43  Loss  1.4354729652404785\n",
      "100%|██████████| 75/75 [00:00<00:00, 391.71it/s]\n",
      " 60%|██████    | 45/75 [00:00<00:00, 445.50it/s]Epoch  44  Loss  1.3701515674591065\n",
      "100%|██████████| 75/75 [00:00<00:00, 444.89it/s]\n",
      " 60%|██████    | 45/75 [00:00<00:00, 448.52it/s]Epoch  45  Loss  1.4404216051101684\n",
      "100%|██████████| 75/75 [00:00<00:00, 444.11it/s]\n",
      " 60%|██████    | 45/75 [00:00<00:00, 448.63it/s]Epoch  46  Loss  1.4769840478897094\n",
      "100%|██████████| 75/75 [00:00<00:00, 445.84it/s]\n",
      " 60%|██████    | 45/75 [00:00<00:00, 443.90it/s]Epoch  47  Loss  1.4250678062438964\n",
      "100%|██████████| 75/75 [00:00<00:00, 430.87it/s]\n",
      " 60%|██████    | 45/75 [00:00<00:00, 444.88it/s]Epoch  48  Loss  1.418867826461792\n",
      "100%|██████████| 75/75 [00:00<00:00, 441.27it/s]\n",
      " 60%|██████    | 45/75 [00:00<00:00, 443.70it/s]Epoch  49  Loss  1.4561598420143127\n",
      "100%|██████████| 75/75 [00:00<00:00, 442.64it/s]\n",
      " 60%|██████    | 45/75 [00:00<00:00, 446.05it/s]Epoch  50  Loss  1.4574792981147766\n",
      "100%|██████████| 75/75 [00:00<00:00, 441.89it/s]\n",
      " 60%|██████    | 45/75 [00:00<00:00, 443.58it/s]Epoch  51  Loss  1.37760671377182\n",
      "100%|██████████| 75/75 [00:00<00:00, 443.04it/s]\n",
      " 60%|██████    | 45/75 [00:00<00:00, 447.13it/s]Epoch  52  Loss  1.3849704623222352\n",
      "100%|██████████| 75/75 [00:00<00:00, 445.02it/s]\n",
      " 60%|██████    | 45/75 [00:00<00:00, 442.58it/s]Epoch  53  Loss  1.4137198328971863\n",
      "100%|██████████| 75/75 [00:00<00:00, 443.97it/s]\n",
      " 60%|██████    | 45/75 [00:00<00:00, 448.67it/s]Epoch  54  Loss  1.4321752071380616\n",
      "100%|██████████| 75/75 [00:00<00:00, 444.33it/s]\n",
      " 61%|██████▏   | 46/75 [00:00<00:00, 451.13it/s]Epoch  55  Loss  1.3795331597328186\n",
      "100%|██████████| 75/75 [00:00<00:00, 445.82it/s]\n",
      " 60%|██████    | 45/75 [00:00<00:00, 447.48it/s]Epoch  56  Loss  1.3267722249031066\n",
      "100%|██████████| 75/75 [00:00<00:00, 444.92it/s]\n",
      " 60%|██████    | 45/75 [00:00<00:00, 446.92it/s]Epoch  57  Loss  1.3755152821540833\n",
      "100%|██████████| 75/75 [00:00<00:00, 444.71it/s]\n",
      " 60%|██████    | 45/75 [00:00<00:00, 447.82it/s]Epoch  58  Loss  1.3737667679786683\n",
      "100%|██████████| 75/75 [00:00<00:00, 446.09it/s]\n",
      " 61%|██████▏   | 46/75 [00:00<00:00, 451.26it/s]Epoch  59  Loss  1.375489056110382\n",
      "100%|██████████| 75/75 [00:00<00:00, 447.80it/s]\n",
      " 60%|██████    | 45/75 [00:00<00:00, 449.13it/s]Epoch  60  Loss  1.4162266969680786\n",
      "100%|██████████| 75/75 [00:00<00:00, 447.09it/s]\n",
      " 60%|██████    | 45/75 [00:00<00:00, 447.24it/s]Epoch  61  Loss  1.39819096326828\n",
      "100%|██████████| 75/75 [00:00<00:00, 444.21it/s]\n",
      " 60%|██████    | 45/75 [00:00<00:00, 444.84it/s]Epoch  62  Loss  1.381385052204132\n",
      "100%|██████████| 75/75 [00:00<00:00, 446.02it/s]\n",
      " 60%|██████    | 45/75 [00:00<00:00, 442.47it/s]Epoch  63  Loss  1.3656620383262634\n",
      "100%|██████████| 75/75 [00:00<00:00, 439.52it/s]\n",
      " 60%|██████    | 45/75 [00:00<00:00, 449.96it/s]Epoch  64  Loss  1.4020649433135985\n",
      "100%|██████████| 75/75 [00:00<00:00, 434.35it/s]\n",
      " 44%|████▍     | 33/75 [00:00<00:00, 323.13it/s]Epoch  65  Loss  1.3421499371528625\n",
      "100%|██████████| 75/75 [00:00<00:00, 381.04it/s]\n",
      " 59%|█████▊    | 44/75 [00:00<00:00, 439.96it/s]Epoch  66  Loss  1.3981820821762085\n",
      "100%|██████████| 75/75 [00:00<00:00, 438.23it/s]\n",
      " 57%|█████▋    | 43/75 [00:00<00:00, 429.66it/s]Epoch  67  Loss  1.379138958454132\n",
      "100%|██████████| 75/75 [00:00<00:00, 435.62it/s]\n",
      " 60%|██████    | 45/75 [00:00<00:00, 447.61it/s]Epoch  68  Loss  1.3174726366996765\n",
      "100%|██████████| 75/75 [00:00<00:00, 445.12it/s]\n",
      " 60%|██████    | 45/75 [00:00<00:00, 444.85it/s]Epoch  69  Loss  1.3725237846374512\n",
      "100%|██████████| 75/75 [00:00<00:00, 443.66it/s]\n",
      " 57%|█████▋    | 43/75 [00:00<00:00, 429.67it/s]Epoch  70  Loss  1.414705264568329\n",
      "100%|██████████| 75/75 [00:00<00:00, 429.36it/s]\n",
      " 59%|█████▊    | 44/75 [00:00<00:00, 435.95it/s]Epoch  71  Loss  1.3650163888931275\n",
      "100%|██████████| 75/75 [00:00<00:00, 433.39it/s]\n",
      " 60%|██████    | 45/75 [00:00<00:00, 442.06it/s]Epoch  72  Loss  1.4109577298164369\n",
      "100%|██████████| 75/75 [00:00<00:00, 441.84it/s]\n",
      " 61%|██████▏   | 46/75 [00:00<00:00, 453.13it/s]Epoch  73  Loss  1.3946312069892883\n",
      "100%|██████████| 75/75 [00:00<00:00, 448.50it/s]\n",
      " 60%|██████    | 45/75 [00:00<00:00, 446.34it/s]Epoch  74  Loss  1.3798032402992249\n",
      "100%|██████████| 75/75 [00:00<00:00, 445.00it/s]\n",
      " 60%|██████    | 45/75 [00:00<00:00, 448.07it/s]Epoch  75  Loss  1.3188420414924622\n",
      "100%|██████████| 75/75 [00:00<00:00, 444.29it/s]\n",
      " 60%|██████    | 45/75 [00:00<00:00, 445.65it/s]Epoch  76  Loss  1.3150379061698914\n",
      "100%|██████████| 75/75 [00:00<00:00, 438.81it/s]\n",
      " 59%|█████▊    | 44/75 [00:00<00:00, 433.84it/s]Epoch  77  Loss  1.3080321550369263\n",
      "100%|██████████| 75/75 [00:00<00:00, 434.78it/s]\n",
      " 60%|██████    | 45/75 [00:00<00:00, 449.41it/s]Epoch  78  Loss  1.3895951986312867\n",
      "100%|██████████| 75/75 [00:00<00:00, 445.54it/s]\n",
      " 60%|██████    | 45/75 [00:00<00:00, 442.26it/s]Epoch  79  Loss  1.331608784198761\n",
      "100%|██████████| 75/75 [00:00<00:00, 441.40it/s]\n",
      " 60%|██████    | 45/75 [00:00<00:00, 445.15it/s]Epoch  80  Loss  1.3372332215309144\n",
      "100%|██████████| 75/75 [00:00<00:00, 420.15it/s]\n",
      " 60%|██████    | 45/75 [00:00<00:00, 448.95it/s]Epoch  81  Loss  1.3462332725524901\n",
      "100%|██████████| 75/75 [00:00<00:00, 444.39it/s]\n",
      " 56%|█████▌    | 42/75 [00:00<00:00, 416.27it/s]Epoch  82  Loss  1.4237719178199768\n",
      "100%|██████████| 75/75 [00:00<00:00, 423.50it/s]\n",
      " 60%|██████    | 45/75 [00:00<00:00, 448.13it/s]Epoch  83  Loss  1.3398061394691467\n",
      "100%|██████████| 75/75 [00:00<00:00, 445.84it/s]\n",
      " 60%|██████    | 45/75 [00:00<00:00, 448.70it/s]Epoch  84  Loss  1.3006744623184203\n",
      "100%|██████████| 75/75 [00:00<00:00, 446.48it/s]\n",
      " 60%|██████    | 45/75 [00:00<00:00, 443.16it/s]Epoch  85  Loss  1.3125287115573883\n",
      "100%|██████████| 75/75 [00:00<00:00, 440.46it/s]\n",
      " 57%|█████▋    | 43/75 [00:00<00:00, 426.91it/s]Epoch  86  Loss  1.3572993159294129\n",
      "100%|██████████| 75/75 [00:00<00:00, 387.67it/s]\n",
      " 60%|██████    | 45/75 [00:00<00:00, 446.96it/s]Epoch  87  Loss  1.3399775862693786\n",
      "100%|██████████| 75/75 [00:00<00:00, 444.78it/s]\n",
      " 60%|██████    | 45/75 [00:00<00:00, 446.53it/s]Epoch  88  Loss  1.3557788372039794\n",
      "100%|██████████| 75/75 [00:00<00:00, 439.68it/s]\n",
      " 61%|██████▏   | 46/75 [00:00<00:00, 450.39it/s]Epoch  89  Loss  1.3545061230659485\n",
      "100%|██████████| 75/75 [00:00<00:00, 448.22it/s]\n",
      " 60%|██████    | 45/75 [00:00<00:00, 447.05it/s]Epoch  90  Loss  1.3778707385063171\n",
      "100%|██████████| 75/75 [00:00<00:00, 440.84it/s]\n",
      " 60%|██████    | 45/75 [00:00<00:00, 444.73it/s]Epoch  91  Loss  1.3306639671325684\n",
      "100%|██████████| 75/75 [00:00<00:00, 441.98it/s]\n",
      " 59%|█████▊    | 44/75 [00:00<00:00, 435.63it/s]Epoch  92  Loss  1.3866590976715087\n",
      "100%|██████████| 75/75 [00:00<00:00, 438.23it/s]\n",
      " 60%|██████    | 45/75 [00:00<00:00, 441.74it/s]Epoch  93  Loss  1.3723194599151611\n",
      "100%|██████████| 75/75 [00:00<00:00, 440.99it/s]\n",
      " 60%|██████    | 45/75 [00:00<00:00, 449.48it/s]Epoch  94  Loss  1.318265402317047\n",
      "100%|██████████| 75/75 [00:00<00:00, 447.44it/s]\n",
      " 60%|██████    | 45/75 [00:00<00:00, 447.41it/s]Epoch  95  Loss  1.318843924999237\n",
      "100%|██████████| 75/75 [00:00<00:00, 442.73it/s]\n",
      " 60%|██████    | 45/75 [00:00<00:00, 445.91it/s]Epoch  96  Loss  1.317538893222809\n",
      "100%|██████████| 75/75 [00:00<00:00, 444.54it/s]\n",
      " 60%|██████    | 45/75 [00:00<00:00, 440.40it/s]Epoch  97  Loss  1.2988237977027892\n",
      "100%|██████████| 75/75 [00:00<00:00, 439.97it/s]\n",
      " 60%|██████    | 45/75 [00:00<00:00, 447.38it/s]Epoch  98  Loss  1.323484754562378\n",
      "100%|██████████| 75/75 [00:00<00:00, 444.48it/s]\n",
      " 59%|█████▊    | 44/75 [00:00<00:00, 436.80it/s]Epoch  99  Loss  1.3381782293319702\n",
      "100%|██████████| 75/75 [00:00<00:00, 437.95it/s]\n",
      " 60%|██████    | 45/75 [00:00<00:00, 448.54it/s]Epoch  100  Loss  1.4144149661064147\n",
      "100%|██████████| 75/75 [00:00<00:00, 442.29it/s]\n",
      " 60%|██████    | 45/75 [00:00<00:00, 445.96it/s]Epoch  101  Loss  1.360621178150177\n",
      "100%|██████████| 75/75 [00:00<00:00, 444.46it/s]\n",
      " 60%|██████    | 45/75 [00:00<00:00, 448.55it/s]Epoch  102  Loss  1.338390827178955\n",
      "100%|██████████| 75/75 [00:00<00:00, 435.00it/s]\n",
      " 57%|█████▋    | 43/75 [00:00<00:00, 425.08it/s]Epoch  103  Loss  1.3504526972770692\n",
      "100%|██████████| 75/75 [00:00<00:00, 431.46it/s]\n",
      " 60%|██████    | 45/75 [00:00<00:00, 446.06it/s]Epoch  104  Loss  1.3502925872802733\n",
      "100%|██████████| 75/75 [00:00<00:00, 444.92it/s]\n",
      " 59%|█████▊    | 44/75 [00:00<00:00, 431.19it/s]Epoch  105  Loss  1.3436619520187378\n",
      "100%|██████████| 75/75 [00:00<00:00, 411.55it/s]\n",
      " 47%|████▋     | 35/75 [00:00<00:00, 345.76it/s]Epoch  106  Loss  1.408714234828949\n",
      "100%|██████████| 75/75 [00:00<00:00, 394.77it/s]\n",
      " 60%|██████    | 45/75 [00:00<00:00, 449.36it/s]Epoch  107  Loss  1.2908979177474975\n",
      "100%|██████████| 75/75 [00:00<00:00, 442.68it/s]\n",
      " 60%|██████    | 45/75 [00:00<00:00, 443.58it/s]Epoch  108  Loss  1.3423913598060608\n",
      "100%|██████████| 75/75 [00:00<00:00, 443.15it/s]\n",
      " 60%|██████    | 45/75 [00:00<00:00, 444.47it/s]Epoch  109  Loss  1.3272801041603088\n",
      "100%|██████████| 75/75 [00:00<00:00, 443.05it/s]\n",
      " 60%|██████    | 45/75 [00:00<00:00, 447.00it/s]Epoch  110  Loss  1.3151054620742797\n",
      "100%|██████████| 75/75 [00:00<00:00, 442.85it/s]\n",
      " 60%|██████    | 45/75 [00:00<00:00, 442.22it/s]Epoch  111  Loss  1.4053009510040284\n",
      "100%|██████████| 75/75 [00:00<00:00, 442.49it/s]\n",
      " 60%|██████    | 45/75 [00:00<00:00, 441.38it/s]Epoch  112  Loss  1.349177646636963\n",
      "100%|██████████| 75/75 [00:00<00:00, 439.75it/s]\n",
      " 60%|██████    | 45/75 [00:00<00:00, 446.91it/s]Epoch  113  Loss  1.309656548500061\n",
      "100%|██████████| 75/75 [00:00<00:00, 442.48it/s]\n",
      " 60%|██████    | 45/75 [00:00<00:00, 448.02it/s]Epoch  114  Loss  1.34012930393219\n",
      "100%|██████████| 75/75 [00:00<00:00, 445.83it/s]\n",
      " 60%|██████    | 45/75 [00:00<00:00, 445.58it/s]Epoch  115  Loss  1.2527330756187438\n",
      "100%|██████████| 75/75 [00:00<00:00, 445.51it/s]\n",
      " 60%|██████    | 45/75 [00:00<00:00, 446.82it/s]Epoch  116  Loss  1.3136143803596496\n",
      "100%|██████████| 75/75 [00:00<00:00, 444.38it/s]\n",
      " 60%|██████    | 45/75 [00:00<00:00, 446.29it/s]Epoch  117  Loss  1.3658079385757447\n",
      "100%|██████████| 75/75 [00:00<00:00, 441.92it/s]\n",
      " 60%|██████    | 45/75 [00:00<00:00, 442.18it/s]Epoch  118  Loss  1.3645235180854798\n",
      "100%|██████████| 75/75 [00:00<00:00, 442.87it/s]\n",
      " 60%|██████    | 45/75 [00:00<00:00, 448.24it/s]Epoch  119  Loss  1.223298478126526\n",
      "100%|██████████| 75/75 [00:00<00:00, 442.94it/s]\n",
      " 60%|██████    | 45/75 [00:00<00:00, 445.37it/s]Epoch  120  Loss  1.2651365280151368\n",
      "100%|██████████| 75/75 [00:00<00:00, 441.48it/s]\n",
      " 60%|██████    | 45/75 [00:00<00:00, 442.40it/s]Epoch  121  Loss  1.289705264568329\n",
      "100%|██████████| 75/75 [00:00<00:00, 442.09it/s]\n",
      " 60%|██████    | 45/75 [00:00<00:00, 446.82it/s]Epoch  122  Loss  1.2791215658187867\n",
      "100%|██████████| 75/75 [00:00<00:00, 443.36it/s]\n",
      " 60%|██████    | 45/75 [00:00<00:00, 448.95it/s]Epoch  123  Loss  1.2517324090003967\n",
      "100%|██████████| 75/75 [00:00<00:00, 446.48it/s]\n",
      " 60%|██████    | 45/75 [00:00<00:00, 448.35it/s]Epoch  124  Loss  1.2934621930122376\n",
      "100%|██████████| 75/75 [00:00<00:00, 446.17it/s]\n",
      " 57%|█████▋    | 43/75 [00:00<00:00, 415.54it/s]Epoch  125  Loss  1.2206002473831177\n",
      "100%|██████████| 75/75 [00:00<00:00, 372.01it/s]\n",
      " 60%|██████    | 45/75 [00:00<00:00, 442.66it/s]Epoch  126  Loss  1.2356611967086792\n",
      "100%|██████████| 75/75 [00:00<00:00, 441.26it/s]\n",
      " 60%|██████    | 45/75 [00:00<00:00, 445.29it/s]Epoch  127  Loss  1.234346127510071\n",
      "100%|██████████| 75/75 [00:00<00:00, 429.97it/s]\n",
      " 57%|█████▋    | 43/75 [00:00<00:00, 426.73it/s]Epoch  128  Loss  1.2946343660354613\n",
      "100%|██████████| 75/75 [00:00<00:00, 433.72it/s]\n",
      " 59%|█████▊    | 44/75 [00:00<00:00, 436.51it/s]Epoch  129  Loss  1.2416884779930115\n",
      "100%|██████████| 75/75 [00:00<00:00, 440.61it/s]\n",
      " 60%|██████    | 45/75 [00:00<00:00, 447.89it/s]Epoch  130  Loss  1.2446356534957885\n",
      "100%|██████████| 75/75 [00:00<00:00, 443.86it/s]\n",
      " 59%|█████▊    | 44/75 [00:00<00:00, 432.92it/s]Epoch  131  Loss  1.2172658920288086\n",
      "100%|██████████| 75/75 [00:00<00:00, 435.79it/s]\n",
      " 60%|██████    | 45/75 [00:00<00:00, 445.12it/s]Epoch  132  Loss  1.2212835669517517\n",
      "100%|██████████| 75/75 [00:00<00:00, 444.14it/s]\n",
      " 60%|██████    | 45/75 [00:00<00:00, 443.95it/s]Epoch  133  Loss  1.252346670627594\n",
      "100%|██████████| 75/75 [00:00<00:00, 440.65it/s]\n",
      " 60%|██████    | 45/75 [00:00<00:00, 441.38it/s]Epoch  134  Loss  1.2186245322227478\n",
      "100%|██████████| 75/75 [00:00<00:00, 432.80it/s]\n",
      " 60%|██████    | 45/75 [00:00<00:00, 443.66it/s]Epoch  135  Loss  1.212353950738907\n",
      "100%|██████████| 75/75 [00:00<00:00, 441.59it/s]\n",
      " 61%|██████▏   | 46/75 [00:00<00:00, 450.67it/s]Epoch  136  Loss  1.25100976228714\n",
      "100%|██████████| 75/75 [00:00<00:00, 447.19it/s]\n",
      " 60%|██████    | 45/75 [00:00<00:00, 441.96it/s]Epoch  137  Loss  1.2004511117935182\n",
      "100%|██████████| 75/75 [00:00<00:00, 440.96it/s]\n",
      " 60%|██████    | 45/75 [00:00<00:00, 447.91it/s]Epoch  138  Loss  1.2213724970817565\n",
      "100%|██████████| 75/75 [00:00<00:00, 438.99it/s]\n",
      " 60%|██████    | 45/75 [00:00<00:00, 446.32it/s]Epoch  139  Loss  1.1734153509140015\n",
      "100%|██████████| 75/75 [00:00<00:00, 444.89it/s]\n",
      " 60%|██████    | 45/75 [00:00<00:00, 441.68it/s]Epoch  140  Loss  1.1949865400791169\n",
      "100%|██████████| 75/75 [00:00<00:00, 441.47it/s]\n",
      " 60%|██████    | 45/75 [00:00<00:00, 441.90it/s]Epoch  141  Loss  1.2165126085281373\n",
      "100%|██████████| 75/75 [00:00<00:00, 441.77it/s]\n",
      " 60%|██████    | 45/75 [00:00<00:00, 446.72it/s]Epoch  142  Loss  1.206170928478241\n",
      "100%|██████████| 75/75 [00:00<00:00, 445.32it/s]\n",
      " 47%|████▋     | 35/75 [00:00<00:00, 349.60it/s]Epoch  143  Loss  1.24974205493927\n",
      "100%|██████████| 75/75 [00:00<00:00, 392.76it/s]\n",
      " 60%|██████    | 45/75 [00:00<00:00, 448.69it/s]Epoch  144  Loss  1.2351982593536377\n",
      "100%|██████████| 75/75 [00:00<00:00, 446.61it/s]\n",
      " 60%|██████    | 45/75 [00:00<00:00, 441.09it/s]Epoch  145  Loss  1.2617008566856385\n",
      "100%|██████████| 75/75 [00:00<00:00, 440.65it/s]\n",
      " 60%|██████    | 45/75 [00:00<00:00, 447.68it/s]Epoch  146  Loss  1.2230023264884948\n",
      "100%|██████████| 75/75 [00:00<00:00, 438.20it/s]\n",
      " 60%|██████    | 45/75 [00:00<00:00, 448.27it/s]Epoch  147  Loss  1.2071317791938783\n",
      "100%|██████████| 75/75 [00:00<00:00, 446.16it/s]\n",
      " 60%|██████    | 45/75 [00:00<00:00, 449.66it/s]Epoch  148  Loss  1.2392035484313966\n",
      "100%|██████████| 75/75 [00:00<00:00, 421.23it/s]\n",
      " 60%|██████    | 45/75 [00:00<00:00, 443.23it/s]Epoch  149  Loss  1.1851088166236878\n",
      "100%|██████████| 75/75 [00:00<00:00, 438.65it/s]\n",
      " 60%|██████    | 45/75 [00:00<00:00, 446.46it/s]Epoch  150  Loss  1.23719779253006\n",
      "100%|██████████| 75/75 [00:00<00:00, 445.28it/s]\n",
      " 60%|██████    | 45/75 [00:00<00:00, 443.22it/s]Epoch  151  Loss  1.2400262475013732\n",
      "100%|██████████| 75/75 [00:00<00:00, 441.03it/s]\n",
      " 60%|██████    | 45/75 [00:00<00:00, 446.31it/s]Epoch  152  Loss  1.198575758934021\n",
      "100%|██████████| 75/75 [00:00<00:00, 444.16it/s]\n",
      " 60%|██████    | 45/75 [00:00<00:00, 441.94it/s]Epoch  153  Loss  1.1886797666549682\n",
      "100%|██████████| 75/75 [00:00<00:00, 438.81it/s]\n",
      " 60%|██████    | 45/75 [00:00<00:00, 442.68it/s]Epoch  154  Loss  1.194646453857422\n",
      "100%|██████████| 75/75 [00:00<00:00, 439.59it/s]\n",
      " 60%|██████    | 45/75 [00:00<00:00, 445.90it/s]Epoch  155  Loss  1.2045831322669982\n",
      "100%|██████████| 75/75 [00:00<00:00, 443.80it/s]\n",
      " 60%|██████    | 45/75 [00:00<00:00, 447.16it/s]Epoch  156  Loss  1.168556547164917\n",
      "100%|██████████| 75/75 [00:00<00:00, 445.30it/s]\n",
      " 60%|██████    | 45/75 [00:00<00:00, 443.20it/s]Epoch  157  Loss  1.2145633220672607\n",
      "100%|██████████| 75/75 [00:00<00:00, 441.89it/s]\n",
      " 60%|██████    | 45/75 [00:00<00:00, 447.56it/s]Epoch  158  Loss  1.2491368770599365\n",
      "100%|██████████| 75/75 [00:00<00:00, 444.64it/s]\n",
      " 60%|██████    | 45/75 [00:00<00:00, 447.20it/s]Epoch  159  Loss  1.2142838954925537\n",
      "100%|██████████| 75/75 [00:00<00:00, 445.52it/s]\n",
      " 60%|██████    | 45/75 [00:00<00:00, 447.01it/s]Epoch  160  Loss  1.2207101583480835\n",
      "100%|██████████| 75/75 [00:00<00:00, 445.01it/s]\n",
      " 45%|████▌     | 34/75 [00:00<00:00, 334.66it/s]Epoch  161  Loss  1.1746135115623475\n",
      "100%|██████████| 75/75 [00:00<00:00, 385.04it/s]\n",
      " 60%|██████    | 45/75 [00:00<00:00, 443.60it/s]Epoch  162  Loss  1.150927770137787\n",
      "100%|██████████| 75/75 [00:00<00:00, 442.26it/s]\n",
      " 60%|██████    | 45/75 [00:00<00:00, 443.32it/s]Epoch  163  Loss  1.2063962817192078\n",
      "100%|██████████| 75/75 [00:00<00:00, 440.68it/s]\n",
      " 60%|██████    | 45/75 [00:00<00:00, 442.98it/s]Epoch  164  Loss  1.1947768807411194\n",
      "100%|██████████| 75/75 [00:00<00:00, 442.55it/s]\n",
      " 60%|██████    | 45/75 [00:00<00:00, 443.72it/s]Epoch  165  Loss  1.2445175528526307\n",
      "100%|██████████| 75/75 [00:00<00:00, 444.81it/s]\n",
      " 57%|█████▋    | 43/75 [00:00<00:00, 427.35it/s]Epoch  166  Loss  1.2439011335372925\n",
      "100%|██████████| 75/75 [00:00<00:00, 433.51it/s]\n",
      " 60%|██████    | 45/75 [00:00<00:00, 445.18it/s]Epoch  167  Loss  1.1651370584964753\n",
      "100%|██████████| 75/75 [00:00<00:00, 408.10it/s]\n",
      " 60%|██████    | 45/75 [00:00<00:00, 441.73it/s]Epoch  168  Loss  1.2133602976799012\n",
      "100%|██████████| 75/75 [00:00<00:00, 441.37it/s]\n",
      " 60%|██████    | 45/75 [00:00<00:00, 445.43it/s]Epoch  169  Loss  1.166501224040985\n",
      "100%|██████████| 75/75 [00:00<00:00, 441.72it/s]\n",
      " 60%|██████    | 45/75 [00:00<00:00, 445.17it/s]Epoch  170  Loss  1.2167887330055236\n",
      "100%|██████████| 75/75 [00:00<00:00, 442.54it/s]\n",
      " 60%|██████    | 45/75 [00:00<00:00, 444.71it/s]Epoch  171  Loss  1.2255165934562684\n",
      "100%|██████████| 75/75 [00:00<00:00, 442.70it/s]\n",
      " 60%|██████    | 45/75 [00:00<00:00, 446.87it/s]Epoch  172  Loss  1.1846662700176238\n",
      "100%|██████████| 75/75 [00:00<00:00, 444.55it/s]\n",
      " 60%|██████    | 45/75 [00:00<00:00, 445.63it/s]Epoch  173  Loss  1.175537896156311\n",
      "100%|██████████| 75/75 [00:00<00:00, 444.32it/s]\n",
      " 60%|██████    | 45/75 [00:00<00:00, 443.91it/s]Epoch  174  Loss  1.1595383405685424\n",
      "100%|██████████| 75/75 [00:00<00:00, 441.13it/s]\n",
      " 60%|██████    | 45/75 [00:00<00:00, 446.38it/s]Epoch  175  Loss  1.2181831479072571\n",
      "100%|██████████| 75/75 [00:00<00:00, 443.77it/s]\n",
      " 60%|██████    | 45/75 [00:00<00:00, 441.20it/s]Epoch  176  Loss  1.1804159820079803\n",
      "100%|██████████| 75/75 [00:00<00:00, 441.66it/s]\n",
      " 60%|██████    | 45/75 [00:00<00:00, 444.77it/s]Epoch  177  Loss  1.200113159418106\n",
      "100%|██████████| 75/75 [00:00<00:00, 368.49it/s]\n",
      " 60%|██████    | 45/75 [00:00<00:00, 440.70it/s]Epoch  178  Loss  1.1806974172592164\n",
      "100%|██████████| 75/75 [00:00<00:00, 441.20it/s]\n",
      " 59%|█████▊    | 44/75 [00:00<00:00, 438.70it/s]Epoch  179  Loss  1.1781251668930053\n",
      "100%|██████████| 75/75 [00:00<00:00, 438.89it/s]\n",
      " 60%|██████    | 45/75 [00:00<00:00, 443.87it/s]Epoch  180  Loss  1.2009360313415527\n",
      "100%|██████████| 75/75 [00:00<00:00, 441.21it/s]\n",
      " 60%|██████    | 45/75 [00:00<00:00, 443.95it/s]Epoch  181  Loss  1.2509231925010682\n",
      "100%|██████████| 75/75 [00:00<00:00, 442.54it/s]\n",
      " 60%|██████    | 45/75 [00:00<00:00, 447.53it/s]Epoch  182  Loss  1.262240183353424\n",
      "100%|██████████| 75/75 [00:00<00:00, 440.21it/s]\n",
      " 57%|█████▋    | 43/75 [00:00<00:00, 424.75it/s]Epoch  183  Loss  1.1276990473270416\n",
      "100%|██████████| 75/75 [00:00<00:00, 429.65it/s]\n",
      " 60%|██████    | 45/75 [00:00<00:00, 446.50it/s]Epoch  184  Loss  1.1783870816230775\n",
      "100%|██████████| 75/75 [00:00<00:00, 426.04it/s]\n",
      " 60%|██████    | 45/75 [00:00<00:00, 444.33it/s]Epoch  185  Loss  1.1523551166057586\n",
      "100%|██████████| 75/75 [00:00<00:00, 436.57it/s]\n",
      " 60%|██████    | 45/75 [00:00<00:00, 444.75it/s]Epoch  186  Loss  1.2565948843955994\n",
      "100%|██████████| 75/75 [00:00<00:00, 443.17it/s]\n",
      " 60%|██████    | 45/75 [00:00<00:00, 447.02it/s]Epoch  187  Loss  1.181544589996338\n",
      "100%|██████████| 75/75 [00:00<00:00, 444.05it/s]\n",
      " 59%|█████▊    | 44/75 [00:00<00:00, 437.75it/s]Epoch  188  Loss  1.1401670396327972\n",
      "100%|██████████| 75/75 [00:00<00:00, 438.63it/s]\n",
      " 59%|█████▊    | 44/75 [00:00<00:00, 432.85it/s]Epoch  189  Loss  1.1650358319282532\n",
      "100%|██████████| 75/75 [00:00<00:00, 435.50it/s]\n",
      " 60%|██████    | 45/75 [00:00<00:00, 447.13it/s]Epoch  190  Loss  1.191581904888153\n",
      "100%|██████████| 75/75 [00:00<00:00, 444.14it/s]\n",
      " 60%|██████    | 45/75 [00:00<00:00, 445.61it/s]Epoch  191  Loss  1.1855948209762572\n",
      "100%|██████████| 75/75 [00:00<00:00, 443.05it/s]\n",
      " 59%|█████▊    | 44/75 [00:00<00:00, 437.79it/s]Epoch  192  Loss  1.1843011677265167\n",
      "100%|██████████| 75/75 [00:00<00:00, 431.47it/s]\n",
      " 60%|██████    | 45/75 [00:00<00:00, 445.92it/s]Epoch  193  Loss  1.1421330451965332\n",
      "100%|██████████| 75/75 [00:00<00:00, 440.97it/s]\n",
      " 47%|████▋     | 35/75 [00:00<00:00, 343.17it/s]Epoch  194  Loss  1.1305606603622436\n",
      "100%|██████████| 75/75 [00:00<00:00, 389.45it/s]\n",
      " 60%|██████    | 45/75 [00:00<00:00, 443.82it/s]Epoch  195  Loss  1.2152347207069396\n",
      "100%|██████████| 75/75 [00:00<00:00, 442.21it/s]\n",
      " 59%|█████▊    | 44/75 [00:00<00:00, 438.96it/s]Epoch  196  Loss  1.137933623790741\n",
      "100%|██████████| 75/75 [00:00<00:00, 438.63it/s]\n",
      " 60%|██████    | 45/75 [00:00<00:00, 448.19it/s]Epoch  197  Loss  1.160263365507126\n",
      "100%|██████████| 75/75 [00:00<00:00, 443.52it/s]\n",
      " 59%|█████▊    | 44/75 [00:00<00:00, 438.27it/s]Epoch  198  Loss  1.2225089430809022\n",
      "100%|██████████| 75/75 [00:00<00:00, 438.66it/s]\n",
      " 60%|██████    | 45/75 [00:00<00:00, 444.05it/s]Epoch  199  Loss  1.1622672438621522\n",
      "100%|██████████| 75/75 [00:00<00:00, 441.42it/s]\n",
      " 60%|██████    | 45/75 [00:00<00:00, 444.97it/s]Epoch  200  Loss  1.1823609828948975\n",
      "100%|██████████| 75/75 [00:00<00:00, 417.54it/s]\n",
      " 60%|██████    | 45/75 [00:00<00:00, 442.41it/s]Epoch  201  Loss  1.1883478999137878\n",
      "100%|██████████| 75/75 [00:00<00:00, 431.62it/s]\n",
      " 60%|██████    | 45/75 [00:00<00:00, 443.59it/s]Epoch  202  Loss  1.1643391013145448\n",
      "100%|██████████| 75/75 [00:00<00:00, 438.09it/s]\n",
      " 59%|█████▊    | 44/75 [00:00<00:00, 433.92it/s]Epoch  203  Loss  1.1762338161468506\n",
      "100%|██████████| 75/75 [00:00<00:00, 436.03it/s]\n",
      " 60%|██████    | 45/75 [00:00<00:00, 443.40it/s]Epoch  204  Loss  1.2628008127212524\n",
      "100%|██████████| 75/75 [00:00<00:00, 438.81it/s]\n",
      " 60%|██████    | 45/75 [00:00<00:00, 443.24it/s]Epoch  205  Loss  1.1353555202484131\n",
      "100%|██████████| 75/75 [00:00<00:00, 439.22it/s]\n",
      " 60%|██████    | 45/75 [00:00<00:00, 443.86it/s]Epoch  206  Loss  1.2069246768951416\n",
      "100%|██████████| 75/75 [00:00<00:00, 443.56it/s]\n",
      " 60%|██████    | 45/75 [00:00<00:00, 446.93it/s]Epoch  207  Loss  1.133860021829605\n",
      "100%|██████████| 75/75 [00:00<00:00, 443.54it/s]\n",
      " 55%|█████▍    | 41/75 [00:00<00:00, 401.45it/s]Epoch  208  Loss  1.2502538681030273\n",
      "100%|██████████| 75/75 [00:00<00:00, 412.26it/s]\n",
      " 59%|█████▊    | 44/75 [00:00<00:00, 431.38it/s]Epoch  209  Loss  1.211865246295929\n",
      "100%|██████████| 75/75 [00:00<00:00, 365.99it/s]\n",
      " 59%|█████▊    | 44/75 [00:00<00:00, 439.03it/s]Epoch  210  Loss  1.1310859322547913\n",
      "100%|██████████| 75/75 [00:00<00:00, 439.54it/s]\n",
      " 56%|█████▌    | 42/75 [00:00<00:00, 417.47it/s]Epoch  211  Loss  1.1703894019126893\n",
      "100%|██████████| 75/75 [00:00<00:00, 415.15it/s]\n",
      " 55%|█████▍    | 41/75 [00:00<00:00, 405.35it/s]Epoch  212  Loss  1.1322839915752412\n",
      "100%|██████████| 75/75 [00:00<00:00, 357.30it/s]\n",
      " 51%|█████     | 38/75 [00:00<00:00, 376.25it/s]Epoch  213  Loss  1.16042463183403\n",
      "100%|██████████| 75/75 [00:00<00:00, 397.16it/s]\n",
      " 56%|█████▌    | 42/75 [00:00<00:00, 418.42it/s]Epoch  214  Loss  1.1692284941673279\n",
      "100%|██████████| 75/75 [00:00<00:00, 422.47it/s]\n",
      " 55%|█████▍    | 41/75 [00:00<00:00, 340.25it/s]Epoch  215  Loss  1.2196274518966674\n",
      "100%|██████████| 75/75 [00:00<00:00, 311.26it/s]\n",
      " 53%|█████▎    | 40/75 [00:00<00:00, 391.08it/s]Epoch  216  Loss  1.1390331268310547\n",
      "100%|██████████| 75/75 [00:00<00:00, 413.19it/s]\n",
      " 49%|████▉     | 37/75 [00:00<00:00, 369.42it/s]Epoch  217  Loss  1.1500498235225678\n",
      "100%|██████████| 75/75 [00:00<00:00, 397.72it/s]\n",
      " 59%|█████▊    | 44/75 [00:00<00:00, 439.22it/s]Epoch  218  Loss  1.224479502439499\n",
      "100%|██████████| 75/75 [00:00<00:00, 437.15it/s]\n",
      " 60%|██████    | 45/75 [00:00<00:00, 445.79it/s]Epoch  219  Loss  1.135603928565979\n",
      "100%|██████████| 75/75 [00:00<00:00, 445.70it/s]\n",
      " 61%|██████▏   | 46/75 [00:00<00:00, 456.54it/s]Epoch  220  Loss  1.1803532063961029\n",
      "100%|██████████| 75/75 [00:00<00:00, 445.51it/s]\n",
      " 61%|██████▏   | 46/75 [00:00<00:00, 451.90it/s]Epoch  221  Loss  1.1495465993881226\n",
      "100%|██████████| 75/75 [00:00<00:00, 451.50it/s]\n",
      " 61%|██████▏   | 46/75 [00:00<00:00, 453.89it/s]Epoch  222  Loss  1.1934216260910033\n",
      "100%|██████████| 75/75 [00:00<00:00, 448.79it/s]\n",
      " 61%|██████▏   | 46/75 [00:00<00:00, 451.35it/s]Epoch  223  Loss  1.1164995074272155\n",
      "100%|██████████| 75/75 [00:00<00:00, 452.14it/s]\n",
      " 61%|██████▏   | 46/75 [00:00<00:00, 450.88it/s]Epoch  224  Loss  1.1780623853206635\n",
      "100%|██████████| 75/75 [00:00<00:00, 450.24it/s]\n",
      " 61%|██████▏   | 46/75 [00:00<00:00, 457.43it/s]Epoch  225  Loss  1.1900953888893127\n",
      "100%|██████████| 75/75 [00:00<00:00, 456.18it/s]\n",
      " 44%|████▍     | 33/75 [00:00<00:00, 327.85it/s]Epoch  226  Loss  1.1781569480895997\n",
      "100%|██████████| 75/75 [00:00<00:00, 385.23it/s]\n",
      " 61%|██████▏   | 46/75 [00:00<00:00, 453.32it/s]Epoch  227  Loss  1.2094398736953735\n",
      "100%|██████████| 75/75 [00:00<00:00, 449.08it/s]\n",
      " 61%|██████▏   | 46/75 [00:00<00:00, 455.38it/s]Epoch  228  Loss  1.1456435441970825\n",
      "100%|██████████| 75/75 [00:00<00:00, 454.58it/s]\n",
      " 61%|██████▏   | 46/75 [00:00<00:00, 452.35it/s]Epoch  229  Loss  1.1413907051086425\n",
      "100%|██████████| 75/75 [00:00<00:00, 426.37it/s]\n",
      " 61%|██████▏   | 46/75 [00:00<00:00, 450.56it/s]Epoch  230  Loss  1.175124180316925\n",
      "100%|██████████| 75/75 [00:00<00:00, 449.20it/s]\n",
      " 61%|██████▏   | 46/75 [00:00<00:00, 451.30it/s]Epoch  231  Loss  1.1456229507923126\n",
      "100%|██████████| 75/75 [00:00<00:00, 451.64it/s]\n",
      " 61%|██████▏   | 46/75 [00:00<00:00, 456.22it/s]Epoch  232  Loss  1.168124258518219\n",
      "100%|██████████| 75/75 [00:00<00:00, 449.75it/s]\n",
      " 61%|██████▏   | 46/75 [00:00<00:00, 454.25it/s]Epoch  233  Loss  1.1888942003250123\n",
      "100%|██████████| 75/75 [00:00<00:00, 454.14it/s]\n",
      " 61%|██████▏   | 46/75 [00:00<00:00, 454.42it/s]Epoch  234  Loss  1.166709303855896\n",
      "100%|██████████| 75/75 [00:00<00:00, 448.46it/s]\n",
      " 60%|██████    | 45/75 [00:00<00:00, 448.12it/s]Epoch  235  Loss  1.199899971485138\n",
      "100%|██████████| 75/75 [00:00<00:00, 449.01it/s]\n",
      " 55%|█████▍    | 41/75 [00:00<00:00, 407.99it/s]Epoch  236  Loss  1.1250205159187316\n",
      "100%|██████████| 75/75 [00:00<00:00, 386.37it/s]\n",
      " 43%|████▎     | 32/75 [00:00<00:00, 304.51it/s]Epoch  237  Loss  1.1558960318565368\n",
      "100%|██████████| 75/75 [00:00<00:00, 324.61it/s]\n",
      " 59%|█████▊    | 44/75 [00:00<00:00, 438.86it/s]Epoch  238  Loss  1.109838354587555\n",
      "100%|██████████| 75/75 [00:00<00:00, 442.34it/s]\n",
      " 59%|█████▊    | 44/75 [00:00<00:00, 432.12it/s]Epoch  239  Loss  1.156519454717636\n",
      "100%|██████████| 75/75 [00:00<00:00, 433.05it/s]\n",
      " 61%|██████▏   | 46/75 [00:00<00:00, 452.88it/s]Epoch  240  Loss  1.1743259847164154\n",
      "100%|██████████| 75/75 [00:00<00:00, 450.55it/s]\n",
      " 61%|██████▏   | 46/75 [00:00<00:00, 451.55it/s]Epoch  241  Loss  1.1258886098861693\n",
      "100%|██████████| 75/75 [00:00<00:00, 448.80it/s]\n",
      " 56%|█████▌    | 42/75 [00:00<00:00, 412.91it/s]Epoch  242  Loss  1.1607834935188293\n",
      "100%|██████████| 75/75 [00:00<00:00, 423.88it/s]\n",
      " 61%|██████▏   | 46/75 [00:00<00:00, 451.51it/s]Epoch  243  Loss  1.1639774084091186\n",
      "100%|██████████| 75/75 [00:00<00:00, 449.11it/s]\n",
      " 61%|██████▏   | 46/75 [00:00<00:00, 450.68it/s]Epoch  244  Loss  1.1771072626113892\n",
      "100%|██████████| 75/75 [00:00<00:00, 450.38it/s]\n",
      " 60%|██████    | 45/75 [00:00<00:00, 449.78it/s]Epoch  245  Loss  1.165992295742035\n",
      "100%|██████████| 75/75 [00:00<00:00, 447.80it/s]\n",
      " 61%|██████▏   | 46/75 [00:00<00:00, 451.92it/s]Epoch  246  Loss  1.1062075734138488\n",
      "100%|██████████| 75/75 [00:00<00:00, 398.41it/s]\n",
      " 60%|██████    | 45/75 [00:00<00:00, 445.20it/s]Epoch  247  Loss  1.1212574541568756\n",
      "100%|██████████| 75/75 [00:00<00:00, 439.99it/s]\n",
      " 60%|██████    | 45/75 [00:00<00:00, 448.45it/s]Epoch  248  Loss  1.2068106293678285\n",
      "100%|██████████| 75/75 [00:00<00:00, 446.68it/s]\n",
      " 57%|█████▋    | 43/75 [00:00<00:00, 425.95it/s]Epoch  249  Loss  1.1583790183067322\n",
      "100%|██████████| 75/75 [00:00<00:00, 431.46it/s]\n",
      " 61%|██████▏   | 46/75 [00:00<00:00, 455.44it/s]Epoch  250  Loss  1.134702867269516\n",
      "100%|██████████| 75/75 [00:00<00:00, 453.26it/s]\n",
      " 61%|██████▏   | 46/75 [00:00<00:00, 454.97it/s]Epoch  251  Loss  1.229910397529602\n",
      "100%|██████████| 75/75 [00:00<00:00, 442.13it/s]\n",
      " 60%|██████    | 45/75 [00:00<00:00, 447.52it/s]Epoch  252  Loss  1.165931236743927\n",
      "100%|██████████| 75/75 [00:00<00:00, 448.98it/s]\n",
      " 60%|██████    | 45/75 [00:00<00:00, 449.93it/s]Epoch  253  Loss  1.2266614198684693\n",
      "100%|██████████| 75/75 [00:00<00:00, 450.16it/s]\n",
      " 61%|██████▏   | 46/75 [00:00<00:00, 452.20it/s]Epoch  254  Loss  1.0954120874404907\n",
      "100%|██████████| 75/75 [00:00<00:00, 429.11it/s]\n",
      " 59%|█████▊    | 44/75 [00:00<00:00, 437.13it/s]Epoch  255  Loss  1.0420570492744445\n",
      "100%|██████████| 75/75 [00:00<00:00, 440.84it/s]\n",
      " 61%|██████▏   | 46/75 [00:00<00:00, 455.18it/s]Epoch  256  Loss  1.1824979305267334\n",
      "100%|██████████| 75/75 [00:00<00:00, 450.72it/s]\n",
      " 61%|██████▏   | 46/75 [00:00<00:00, 455.43it/s]Epoch  257  Loss  1.1245474457740783\n",
      "100%|██████████| 75/75 [00:00<00:00, 452.88it/s]\n",
      " 61%|██████▏   | 46/75 [00:00<00:00, 453.26it/s]Epoch  258  Loss  1.2533752083778382\n",
      "100%|██████████| 75/75 [00:00<00:00, 450.47it/s]\n",
      " 61%|██████▏   | 46/75 [00:00<00:00, 454.26it/s]Epoch  259  Loss  1.1747504591941833\n",
      "100%|██████████| 75/75 [00:00<00:00, 451.45it/s]\n",
      " 61%|██████▏   | 46/75 [00:00<00:00, 454.56it/s]Epoch  260  Loss  1.2804312586784363\n",
      "100%|██████████| 75/75 [00:00<00:00, 451.23it/s]\n",
      " 44%|████▍     | 33/75 [00:00<00:00, 329.52it/s]Epoch  261  Loss  1.2138954401016235\n",
      "100%|██████████| 75/75 [00:00<00:00, 382.74it/s]\n",
      " 61%|██████▏   | 46/75 [00:00<00:00, 452.70it/s]Epoch  262  Loss  1.1228939831256866\n",
      "100%|██████████| 75/75 [00:00<00:00, 452.45it/s]\n",
      " 60%|██████    | 45/75 [00:00<00:00, 444.05it/s]Epoch  263  Loss  1.1627468287944793\n",
      "100%|██████████| 75/75 [00:00<00:00, 443.82it/s]\n",
      " 55%|█████▍    | 41/75 [00:00<00:00, 373.78it/s]Epoch  264  Loss  1.1748649060726166\n",
      "100%|██████████| 75/75 [00:00<00:00, 335.89it/s]\n",
      " 55%|█████▍    | 41/75 [00:00<00:00, 402.62it/s]Epoch  265  Loss  1.0443912506103517\n",
      "100%|██████████| 75/75 [00:00<00:00, 419.52it/s]\n",
      " 60%|██████    | 45/75 [00:00<00:00, 448.43it/s]Epoch  266  Loss  1.1350860357284547\n",
      "100%|██████████| 75/75 [00:00<00:00, 449.27it/s]\n",
      " 61%|██████▏   | 46/75 [00:00<00:00, 452.96it/s]Epoch  267  Loss  1.2308942258358002\n",
      "100%|██████████| 75/75 [00:00<00:00, 451.26it/s]\n",
      " 24%|██▍       | 18/75 [00:00<00:00, 159.72it/s]Epoch  268  Loss  1.1394091367721557\n",
      "100%|██████████| 75/75 [00:00<00:00, 278.50it/s]\n",
      " 56%|█████▌    | 42/75 [00:00<00:00, 414.28it/s]Epoch  269  Loss  1.1584858536720275\n",
      "100%|██████████| 75/75 [00:00<00:00, 422.00it/s]\n",
      " 59%|█████▊    | 44/75 [00:00<00:00, 438.04it/s]Epoch  270  Loss  1.1754546642303467\n",
      "100%|██████████| 75/75 [00:00<00:00, 363.56it/s]\n",
      " 55%|█████▍    | 41/75 [00:00<00:00, 395.04it/s]Epoch  271  Loss  1.1394991397857666\n",
      "100%|██████████| 75/75 [00:00<00:00, 353.82it/s]\n",
      " 56%|█████▌    | 42/75 [00:00<00:00, 413.66it/s]Epoch  272  Loss  1.2249406099319458\n",
      "100%|██████████| 75/75 [00:00<00:00, 420.23it/s]\n",
      " 36%|███▌      | 27/75 [00:00<00:00, 269.99it/s]Epoch  273  Loss  1.1160414934158325\n",
      "100%|██████████| 75/75 [00:00<00:00, 324.62it/s]\n",
      " 49%|████▉     | 37/75 [00:00<00:00, 365.17it/s]Epoch  274  Loss  1.1493764638900756\n",
      "100%|██████████| 75/75 [00:00<00:00, 259.22it/s]\n",
      " 52%|█████▏    | 39/75 [00:00<00:00, 386.44it/s]Epoch  275  Loss  1.1322525143623352\n",
      "100%|██████████| 75/75 [00:00<00:00, 300.58it/s]\n",
      " 56%|█████▌    | 42/75 [00:00<00:00, 419.30it/s]Epoch  276  Loss  1.1134893774986268\n",
      "100%|██████████| 75/75 [00:00<00:00, 403.95it/s]\n",
      " 56%|█████▌    | 42/75 [00:00<00:00, 419.51it/s]Epoch  277  Loss  1.205244743824005\n",
      "100%|██████████| 75/75 [00:00<00:00, 420.36it/s]\n",
      " 57%|█████▋    | 43/75 [00:00<00:00, 421.55it/s]Epoch  278  Loss  1.1488308012485504\n",
      "100%|██████████| 75/75 [00:00<00:00, 416.42it/s]\n",
      " 59%|█████▊    | 44/75 [00:00<00:00, 432.33it/s]Epoch  279  Loss  1.1142553210258483\n",
      "100%|██████████| 75/75 [00:00<00:00, 432.98it/s]\n",
      " 59%|█████▊    | 44/75 [00:00<00:00, 437.06it/s]Epoch  280  Loss  1.10819730758667\n",
      "100%|██████████| 75/75 [00:00<00:00, 425.89it/s]\n",
      " 55%|█████▍    | 41/75 [00:00<00:00, 401.77it/s]Epoch  281  Loss  1.2009749293327332\n",
      "100%|██████████| 75/75 [00:00<00:00, 412.47it/s]\n",
      " 59%|█████▊    | 44/75 [00:00<00:00, 432.22it/s]Epoch  282  Loss  1.1504246711730957\n",
      "100%|██████████| 75/75 [00:00<00:00, 429.93it/s]\n",
      " 60%|██████    | 45/75 [00:00<00:00, 440.20it/s]Epoch  283  Loss  1.1922615766525269\n",
      "100%|██████████| 75/75 [00:00<00:00, 436.49it/s]\n",
      " 57%|█████▋    | 43/75 [00:00<00:00, 424.63it/s]Epoch  284  Loss  1.118509477376938\n",
      "100%|██████████| 75/75 [00:00<00:00, 359.09it/s]\n",
      " 59%|█████▊    | 44/75 [00:00<00:00, 439.67it/s]Epoch  285  Loss  1.1717981457710267\n",
      "100%|██████████| 75/75 [00:00<00:00, 440.18it/s]\n",
      " 59%|█████▊    | 44/75 [00:00<00:00, 436.27it/s]Epoch  286  Loss  1.1775105834007262\n",
      "100%|██████████| 75/75 [00:00<00:00, 437.47it/s]\n",
      " 59%|█████▊    | 44/75 [00:00<00:00, 435.23it/s]Epoch  287  Loss  1.1375427305698396\n",
      "100%|██████████| 75/75 [00:00<00:00, 414.23it/s]\n",
      " 59%|█████▊    | 44/75 [00:00<00:00, 435.52it/s]Epoch  288  Loss  1.165578806400299\n",
      "100%|██████████| 75/75 [00:00<00:00, 433.46it/s]\n",
      " 59%|█████▊    | 44/75 [00:00<00:00, 430.53it/s]Epoch  289  Loss  1.0984727025032044\n",
      "100%|██████████| 75/75 [00:00<00:00, 432.71it/s]\n",
      " 60%|██████    | 45/75 [00:00<00:00, 441.28it/s]Epoch  290  Loss  1.1593141436576844\n",
      "100%|██████████| 75/75 [00:00<00:00, 438.64it/s]\n",
      " 59%|█████▊    | 44/75 [00:00<00:00, 432.41it/s]Epoch  291  Loss  1.1511833727359773\n",
      "100%|██████████| 75/75 [00:00<00:00, 430.18it/s]\n",
      " 59%|█████▊    | 44/75 [00:00<00:00, 437.71it/s]Epoch  292  Loss  1.0638139367103576\n",
      "100%|██████████| 75/75 [00:00<00:00, 437.83it/s]\n",
      " 59%|█████▊    | 44/75 [00:00<00:00, 437.26it/s]Epoch  293  Loss  1.1092682123184203\n",
      "100%|██████████| 75/75 [00:00<00:00, 435.71it/s]\n",
      " 55%|█████▍    | 41/75 [00:00<00:00, 408.49it/s]Epoch  294  Loss  1.1172037661075591\n",
      "100%|██████████| 75/75 [00:00<00:00, 416.69it/s]\n",
      " 59%|█████▊    | 44/75 [00:00<00:00, 437.66it/s]Epoch  295  Loss  1.1114811599254608\n",
      "100%|██████████| 75/75 [00:00<00:00, 433.15it/s]\n",
      " 59%|█████▊    | 44/75 [00:00<00:00, 436.84it/s]Epoch  296  Loss  1.0953523814678192\n",
      "100%|██████████| 75/75 [00:00<00:00, 437.56it/s]\n",
      " 57%|█████▋    | 43/75 [00:00<00:00, 427.45it/s]Epoch  297  Loss  1.0902570247650147\n",
      "100%|██████████| 75/75 [00:00<00:00, 431.37it/s]\n",
      " 27%|██▋       | 20/75 [00:00<00:00, 195.96it/s]Epoch  298  Loss  1.136327362060547\n",
      "100%|██████████| 75/75 [00:00<00:00, 327.40it/s]\n",
      " 60%|██████    | 45/75 [00:00<00:00, 440.44it/s]Epoch  299  Loss  1.155362492799759\n",
      "100%|██████████| 75/75 [00:00<00:00, 439.12it/s]\n"
     ]
    },
    {
     "data": {
      "text/plain": [
       "[<matplotlib.lines.Line2D at 0x297de8990>]"
      ]
     },
     "execution_count": 29,
     "metadata": {},
     "output_type": "execute_result"
    },
    {
     "data": {
      "image/png": "[encoded data removed]",
      "text/plain": [
       "<Figure size 640x480 with 1 Axes>"
      ]
     },
     "metadata": {},
     "output_type": "display_data"
    }
   ],
   "source": [
    "\n",
    "net = MultiFCn(5,5)\n",
    "number_of_epochs = 300\n",
    "optimizer = optim.Adam(net.parameters(), lr=1e-4)\n",
    "list_loss = []\n",
    "running_loss = 0\n",
    "for epoch in range(number_of_epochs):\n",
    "    net.train()\n",
    "    indb = 0\n",
    "    with tqdm(total=len(dataloader), file=sys.stdout) as pbar:\n",
    "        start_time = time.time()\n",
    "        for (i,sample) in enumerate(dataloader):\n",
    "            output = net(sample['data'].float())\n",
    "            loss = cross_entropy(output,sample['label'])\n",
    "            net.zero_grad()\n",
    "            loss.backward()\n",
    "            optimizer.step()\n",
    "            running_loss += loss.item()\n",
    "            # print(loss.item())\n",
    "            indb += 1\n",
    "            if i%10 == 9:\n",
    "                if i%50 == 49:\n",
    "                    print('Epoch ', epoch, ' Loss ', running_loss/10)\n",
    "                list_loss.append(running_loss/10)\n",
    "                running_loss = 0\n",
    "            pbar.update(1)\n",
    "from matplotlib import pyplot as plt\n",
    "plt.plot(np.asarray(list_loss))"
   ]
  },
  {
   "cell_type": "markdown",
   "metadata": {},
   "source": [
    "As an alternative let's build a random forest classifier\n"
   ]
  },
  {
   "cell_type": "code",
   "execution_count": 83,
   "metadata": {},
   "outputs": [],
   "source": [
    "rfc = RFC()\n",
    "rfc.fit(df_train[list_feat], df_train['diagnosis'])\n",
    "pred_rfc = rfc.predict_proba(df_test[list_feat])\n",
    "pred_rfc_val = rfc.predict_proba(df_valid[list_feat])\n",
    "final_class_rfc = np.argmax(pred_rfc,1)"
   ]
  },
  {
   "cell_type": "code",
   "execution_count": 84,
   "metadata": {},
   "outputs": [],
   "source": []
  },
  {
   "cell_type": "code",
   "execution_count": 30,
   "metadata": {},
   "outputs": [],
   "source": [
    "def get_whole_test_output(model, testloader):\n",
    "    model.eval()\n",
    "    sig = nn.Softmax(dim=1)\n",
    "    list_output = []\n",
    "    list_labels = []\n",
    "    for (i, sample) in enumerate(testloader):\n",
    "        labels = sample['label']\n",
    "        output = sig(model(sample['data'].float()))\n",
    "        list_output.append(output)\n",
    "        list_labels.append(labels)\n",
    "    tot_out = torch.cat(list_output)\n",
    "    tot_lab = torch.cat(list_labels)\n",
    "    return tot_out, tot_lab"
   ]
  },
  {
   "cell_type": "code",
   "execution_count": 112,
   "metadata": {},
   "outputs": [
    {
     "data": {
      "text/plain": [
       "array([[61,  0,  1,  4,  0],\n",
       "       [ 0, 96,  6,  7,  4],\n",
       "       [ 1,  4, 52,  1,  2],\n",
       "       [ 7,  3,  4, 98,  3],\n",
       "       [ 0,  3,  5,  2, 50]])"
      ]
     },
     "execution_count": 112,
     "metadata": {},
     "output_type": "execute_result"
    }
   ],
   "source": [
    "cm(final_class_rfc, lab)"
   ]
  },
  {
   "cell_type": "code",
   "execution_count": 114,
   "metadata": {},
   "outputs": [],
   "source": [
    "out_pred, out_lab = get_whole_test_output(net, testloader)\n",
    "out_pred_val, out_lab_val = get_whole_test_output(net, validloader)\n",
    "pred_net = out_pred.detach().numpy()\n",
    "val_net = out_pred_val.detach().numpy()\n",
    "lab = out_lab.numpy()"
   ]
  },
  {
   "cell_type": "code",
   "execution_count": 115,
   "metadata": {},
   "outputs": [],
   "source": [
    "final_class = np.argmax(pred_net,1)"
   ]
  },
  {
   "cell_type": "code",
   "execution_count": 33,
   "metadata": {},
   "outputs": [
    {
     "data": {
      "text/plain": [
       "array([[48,  0,  2,  9,  0],\n",
       "       [ 1, 76, 28, 23, 38],\n",
       "       [ 1,  4,  7,  3,  3],\n",
       "       [19, 16, 27, 76,  6],\n",
       "       [ 0, 10,  4,  1, 12]])"
      ]
     },
     "execution_count": 33,
     "metadata": {},
     "output_type": "execute_result"
    }
   ],
   "source": [
    "\n",
    "cm(final_class,lab)"
   ]
  },
  {
   "cell_type": "markdown",
   "metadata": {},
   "source": [
    "Let's implement the class ECE and the brier score and apply it to our two types of prediction"
   ]
  },
  {
   "cell_type": "code",
   "execution_count": 107,
   "metadata": {},
   "outputs": [],
   "source": [
    "def class_ece_ing(prob, pred, lab, bins=10):\n",
    "\n",
    "    numb_classes = prob.shape[1]\n",
    "    step = 1/bins\n",
    "    a_bm = np.zeros([numb_classes, bins])\n",
    "    a_fin = np.zeros([numb_classes, bins])\n",
    "    a_conf = np.zeros([numb_classes, bins])\n",
    "    a_acc = np.zeros([numb_classes, bins])\n",
    "    for vc in range(numb_classes):\n",
    "        prob_tmp = prob[:,vc]\n",
    "        for k in range(bins):\n",
    "            border_inf = k * step\n",
    "            border_sup = (k+1)*step\n",
    "            if border_sup < 1:\n",
    "                selected_ind = np.where(np.logical_and(prob_tmp>=border_inf, prob_tmp<border_sup))\n",
    "            else:\n",
    "                selected_ind = np.where(np.logical_and(prob_tmp>=border_inf, prob_tmp<=border_sup))\n",
    "            bm = np.asarray(selected_ind).size\n",
    "            \n",
    "            a_bm[vc,k] = bm\n",
    "            if bm == 0:\n",
    "                a_conf[vc, k] = 0\n",
    "                a_acc[vc, k] = 0\n",
    "                a_fin[vc, k] = 0\n",
    "            else:\n",
    "                prob_bm = prob_tmp[selected_ind]\n",
    "                conf_bm = np.mean(prob_bm)\n",
    "                pred_bm = pred[selected_ind]\n",
    "                pred_bin = np.where(pred_bm==vc, np.ones_like(pred_bm), np.zeros_like(pred_bm))\n",
    "                \n",
    "                lab_bm = lab[selected_ind]\n",
    "                lab_bin = np.where(lab_bm==vc, np.ones_like(lab_bm), np.zeros_like(pred_bm))\n",
    "                numb_true = np.where(lab_bin * pred_bin == 1, np.ones_like(lab_bm), np.zeros_like(pred_bm))\n",
    "                \n",
    "                acc_bm = np.mean(numb_true)\n",
    "                a_conf[vc, k] = conf_bm\n",
    "                a_acc[vc, k] = acc_bm\n",
    "                a_fin[vc, k] = np.abs(acc_bm - conf_bm)/np.size(prob)*bm\n",
    "    return  a_fin, a_bm, a_conf, a_acc\n",
    "        "
   ]
  },
  {
   "cell_type": "code",
   "execution_count": 35,
   "metadata": {},
   "outputs": [],
   "source": [
    "def brier_score(prob, lab_ohe):\n",
    "    diff = np.square(prob - lab_ohe)\n",
    "    bs = np.sum(diff)/diff.shape[0]\n",
    "    return bs"
   ]
  },
  {
   "cell_type": "code",
   "execution_count": 42,
   "metadata": {},
   "outputs": [],
   "source": [
    "\n",
    "ohe = OHE(sparse_output=False)\n",
    "label_ohe = ohe.fit_transform(np.reshape(out_lab,[-1,1]))\n",
    "\n",
    "ohe_val = OHE(sparse_output=False)\n",
    "label_ohe_val= ohe_val.fit_transform(np.reshape(out_lab_val,[-1,1]))"
   ]
  },
  {
   "cell_type": "code",
   "execution_count": 38,
   "metadata": {},
   "outputs": [
    {
     "data": {
      "text/plain": [
       "0.6063839464612178"
      ]
     },
     "execution_count": 38,
     "metadata": {},
     "output_type": "execute_result"
    }
   ],
   "source": [
    "brier_score(pred_net, label_ohe)"
   ]
  },
  {
   "cell_type": "code",
   "execution_count": 102,
   "metadata": {},
   "outputs": [
    {
     "data": {
      "text/plain": [
       "0.24621207729468597"
      ]
     },
     "execution_count": 102,
     "metadata": {},
     "output_type": "execute_result"
    }
   ],
   "source": [
    "brier_score(pred_rfc, label_ohe)"
   ]
  },
  {
   "cell_type": "markdown",
   "metadata": {},
   "source": [
    "Let's compare the calibration of output probabilities for the network and the random forest"
   ]
  },
  {
   "cell_type": "code",
   "execution_count": 116,
   "metadata": {},
   "outputs": [
    {
     "data": {
      "text/plain": [
       "<BarContainer object of 10 artists>"
      ]
     },
     "execution_count": 116,
     "metadata": {},
     "output_type": "execute_result"
    },
    {
     "data": {
      "image/png": "[encoded data removed]",
      "text/plain": [
       "<Figure size 640x480 with 1 Axes>"
      ]
     },
     "metadata": {},
     "output_type": "display_data"
    }
   ],
   "source": [
    "net_fin, net_bm, net_conf, net_acc = class_ece_ing(pred_net, final_class, lab)\n",
    "plt.bar(np.arange(10),net_conf[0,:],alpha=0.3)\n",
    "plt.bar(np.arange(10),net_acc[0,:], alpha=0.5, color='darkred')"
   ]
  },
  {
   "cell_type": "code",
   "execution_count": 117,
   "metadata": {},
   "outputs": [
    {
     "data": {
      "text/plain": [
       "<BarContainer object of 10 artists>"
      ]
     },
     "execution_count": 117,
     "metadata": {},
     "output_type": "execute_result"
    },
    {
     "data": {
      "image/png": "[encoded data removed]",
      "text/plain": [
       "<Figure size 640x480 with 1 Axes>"
      ]
     },
     "metadata": {},
     "output_type": "display_data"
    }
   ],
   "source": [
    "rfc_fin, rfc_bm, rfc_conf, rfc_acc = class_ece_ing(pred_rfc, final_class_rfc, lab)\n",
    "plt.bar(np.arange(10),rfc_conf[0,:],alpha=0.3)\n",
    "plt.bar(np.arange(10),rfc_acc[0,:], alpha=0.5, color='darkred')"
   ]
  },
  {
   "cell_type": "code",
   "execution_count": null,
   "metadata": {},
   "outputs": [],
   "source": []
  },
  {
   "cell_type": "code",
   "execution_count": 62,
   "metadata": {},
   "outputs": [
    {
     "name": "stderr",
     "output_type": "stream",
     "text": [
      "100%|██████████| 42/42 [00:00<00:00, 9137.92it/s]\n",
      "100%|██████████| 42/42 [00:00<00:00, 8729.91it/s]\n",
      "100%|██████████| 42/42 [00:00<00:00, 10403.40it/s]\n",
      "100%|██████████| 42/42 [00:00<00:00, 10566.26it/s]\n",
      "100%|██████████| 42/42 [00:00<00:00, 9934.62it/s]\n"
     ]
    }
   ],
   "source": [
    "\n",
    "\n",
    "ir = IR()\n",
    "lc = LC()\n",
    "bbq = BBQ()\n",
    "ir.fit(out_pred_val.detach().numpy(), label_ohe_val)\n",
    "lc.fit(out_pred_val.detach().numpy(),label_ohe_val)\n",
    "bbq.fit(out_pred_val.detach().numpy(), label_ohe_val)\n",
    "pred_ir = ir.transform(pred_net)\n",
    "pred_lc = lc.transform(pred_net)\n",
    "pred_bbq = bbq.transform(pred_net)\n"
   ]
  },
  {
   "cell_type": "code",
   "execution_count": 104,
   "metadata": {},
   "outputs": [
    {
     "name": "stderr",
     "output_type": "stream",
     "text": [
      "100%|██████████| 42/42 [00:00<00:00, 10105.60it/s]\n",
      "100%|██████████| 42/42 [00:00<00:00, 10370.33it/s]\n",
      "100%|██████████| 42/42 [00:00<00:00, 7434.83it/s]\n",
      "100%|██████████| 42/42 [00:00<00:00, 10274.16it/s]\n",
      "100%|██████████| 42/42 [00:00<00:00, 10339.89it/s]\n"
     ]
    }
   ],
   "source": [
    "\n",
    "\n",
    "ir_rfc = IR()\n",
    "lc_rfc = LC()\n",
    "bbq_rfc = BBQ()\n",
    "ir_rfc.fit(pred_rfc_val, label_ohe_val)\n",
    "lc_rfc.fit(pred_rfc_val,label_ohe_val)\n",
    "bbq_rfc.fit(pred_rfc_val, label_ohe_val)\n",
    "pred_ir_rfc = ir_rfc.transform(pred_rfc)\n",
    "pred_lc_rfc = lc_rfc.transform(pred_rfc)\n",
    "pred_bbq_rfc = bbq_rfc.transform(pred_rfc)\n"
   ]
  },
  {
   "cell_type": "code",
   "execution_count": 108,
   "metadata": {},
   "outputs": [],
   "source": [
    "\n",
    "\n",
    "list_fini, list_bmi, list_confi, list_acci = class_ece_ing(pred_ir, pred, lab)\n",
    "list_finl, list_bml, list_confl, list_accl = class_ece_ing(pred_lc, pred, lab)\n",
    "list_finb, list_bmb, list_confb, list_accb = class_ece_ing(pred_bbq, pred, lab)\n",
    "\n",
    "rfc_finb, rfc_bmb, rfc_confb, rfc_accb = class_ece_ing(pred_bbq_rfc, final_class_rfc, lab)\n",
    "rfc_fini, rfc_bmi, rfc_confi, rfc_acci = class_ece_ing(pred_ir_rfc, final_class_rfc, lab)"
   ]
  },
  {
   "cell_type": "code",
   "execution_count": null,
   "metadata": {},
   "outputs": [],
   "source": [
    "rfc"
   ]
  },
  {
   "cell_type": "code",
   "execution_count": 101,
   "metadata": {},
   "outputs": [
    {
     "data": {
      "text/plain": [
       "<BarContainer object of 10 artists>"
      ]
     },
     "execution_count": 101,
     "metadata": {},
     "output_type": "execute_result"
    },
    {
     "data": {
      "image/png": "[encoded data removed]",
      "text/plain": [
       "<Figure size 640x480 with 1 Axes>"
      ]
     },
     "metadata": {},
     "output_type": "display_data"
    }
   ],
   "source": [
    "plt.bar(np.arange(10),rfc_conf[0,:],alpha=0.3)\n",
    "plt.bar(np.arange(10),rfc_acc[0,:], alpha=0.5, color='darkred')"
   ]
  },
  {
   "cell_type": "code",
   "execution_count": 109,
   "metadata": {},
   "outputs": [
    {
     "data": {
      "text/plain": [
       "<BarContainer object of 10 artists>"
      ]
     },
     "execution_count": 109,
     "metadata": {},
     "output_type": "execute_result"
    },
    {
     "data": {
      "image/png": "[encoded data removed]",
      "text/plain": [
       "<Figure size 640x480 with 1 Axes>"
      ]
     },
     "metadata": {},
     "output_type": "display_data"
    }
   ],
   "source": [
    "plt.bar(np.arange(10),rfc_confi[0,:],alpha=0.3)\n",
    "plt.bar(np.arange(10),rfc_acci[0,:], alpha=0.5, color='darkred')"
   ]
  },
  {
   "cell_type": "code",
   "execution_count": 110,
   "metadata": {},
   "outputs": [
    {
     "data": {
      "text/plain": [
       "<BarContainer object of 10 artists>"
      ]
     },
     "execution_count": 110,
     "metadata": {},
     "output_type": "execute_result"
    },
    {
     "data": {
      "image/png": "[encoded data removed]",
      "text/plain": [
       "<Figure size 640x480 with 1 Axes>"
      ]
     },
     "metadata": {},
     "output_type": "display_data"
    }
   ],
   "source": [
    "plt.bar(np.arange(10),rfc_confb[0,:],alpha=0.3)\n",
    "plt.bar(np.arange(10),rfc_accb[0,:], alpha=0.5, color='darkred')"
   ]
  },
  {
   "cell_type": "code",
   "execution_count": 68,
   "metadata": {},
   "outputs": [
    {
     "data": {
      "text/plain": [
       "[<matplotlib.lines.Line2D at 0x1615f3b50>]"
      ]
     },
     "execution_count": 68,
     "metadata": {},
     "output_type": "execute_result"
    },
    {
     "data": {
      "image/png": "[encoded data removed]",
      "text/plain": [
       "<Figure size 640x480 with 1 Axes>"
      ]
     },
     "metadata": {},
     "output_type": "display_data"
    }
   ],
   "source": [
    "plt.plot(list_confb, list_accb, color='darkgreen')\n",
    "plt.plot(list_conf, list_acc, color='grey')\n",
    "plt.plot(list_confi[~np.isnan(list_confi)], list_acci[~np.isnan(list_acci)], color='blue')\n",
    "plt.plot(list_confl, list_accl, color='darkred')"
   ]
  },
  {
   "cell_type": "code",
   "execution_count": null,
   "metadata": {},
   "outputs": [],
   "source": [
    "# Part 3 Conformal Prediction"
   ]
  },
  {
   "cell_type": "markdown",
   "metadata": {},
   "source": [
    "Let's look into conformal predictions for both our RF output and our network output"
   ]
  },
  {
   "cell_type": "code",
   "execution_count": 126,
   "metadata": {},
   "outputs": [],
   "source": [
    "out_pred_val, out_lab_val = get_whole_test_output(net, validloader)\n",
    "val_smx = out_pred_val.detach().numpy()\n",
    "lab_val = out_lab_val.numpy()\n",
    "test_smx = pred_net\n",
    "n = val_smx.shape[0]\n",
    "val_scores = 1- val_smx[np.arange(n),lab_val]\n",
    "alpha=0.1\n",
    "q = np.ceil((n+1)*(1-alpha)/n*100)/100\n",
    "qhat = np.quantile(val_scores,q)\n",
    "pred_test_set = test_smx >= (1-qhat)"
   ]
  },
  {
   "cell_type": "code",
   "execution_count": 127,
   "metadata": {},
   "outputs": [],
   "source": [
    "val_scores_rfc = 1 - pred_rfc_val[np.arange(n),lab_val]\n",
    "qhat_rfc = np.quantile(val_scores_rfc, q)\n",
    "pred_test_set_rfc = pred_rfc >= (1-qhat)"
   ]
  },
  {
   "cell_type": "code",
   "execution_count": 120,
   "metadata": {},
   "outputs": [
    {
     "data": {
      "text/plain": [
       "0.8424728846549988"
      ]
     },
     "execution_count": 120,
     "metadata": {},
     "output_type": "execute_result"
    }
   ],
   "source": [
    "qhat"
   ]
  },
  {
   "cell_type": "code",
   "execution_count": 121,
   "metadata": {},
   "outputs": [
    {
     "data": {
      "text/plain": [
       "array([[False,  True,  True,  True,  True],\n",
       "       [False,  True,  True,  True, False],\n",
       "       [ True, False, False, False, False],\n",
       "       ...,\n",
       "       [ True, False, False, False, False],\n",
       "       [False,  True,  True,  True, False],\n",
       "       [False,  True,  True,  True,  True]])"
      ]
     },
     "execution_count": 121,
     "metadata": {},
     "output_type": "execute_result"
    }
   ],
   "source": [
    "pred_test_set"
   ]
  },
  {
   "cell_type": "code",
   "execution_count": 146,
   "metadata": {},
   "outputs": [
    {
     "data": {
      "text/plain": [
       "(array([1, 2, 3, 4]), array([ 46, 120, 126, 122]))"
      ]
     },
     "execution_count": 146,
     "metadata": {},
     "output_type": "execute_result"
    }
   ],
   "source": [
    "size_pred_test = np.sum(pred_test_set.astype(int),1)\n",
    "np.unique(size_pred_test, return_counts=True)"
   ]
  },
  {
   "cell_type": "code",
   "execution_count": 128,
   "metadata": {},
   "outputs": [
    {
     "data": {
      "text/plain": [
       "(array([1, 2, 3, 4]), array([194, 174,  42,   4]))"
      ]
     },
     "execution_count": 128,
     "metadata": {},
     "output_type": "execute_result"
    }
   ],
   "source": [
    "size_pred_test_rfc = np.sum(pred_test_set_rfc.astype(int),1)\n",
    "np.unique(size_pred_test_rfc, return_counts=True)"
   ]
  },
  {
   "cell_type": "markdown",
   "metadata": {},
   "source": [
    "Let's evaluate the quality of our conformal prediction according to the size coverage index metric"
   ]
  },
  {
   "cell_type": "code",
   "execution_count": 123,
   "metadata": {},
   "outputs": [],
   "source": [
    "def ssc(pred_test_set, label_ohe):\n",
    "    comp_agreement = np.diag(np.dot(pred_test_set, label_ohe.T))\n",
    "    size_pred_test = np.sum(pred_test_set.astype(int),1) \n",
    "    list_valid = []\n",
    "    for k in range(1,5):\n",
    "        ind = np.where(size_pred_test == k)\n",
    "        valid_set_mean = np.mean(comp_agreement[ind])\n",
    "        list_valid.append(valid_set_mean)\n",
    "    return list_valid\n",
    "    "
   ]
  },
  {
   "cell_type": "code",
   "execution_count": 124,
   "metadata": {},
   "outputs": [
    {
     "data": {
      "text/plain": [
       "[0.9090909090909091,\n",
       " 0.8421052631578947,\n",
       " 0.8934010152284264,\n",
       " 0.9830508474576272]"
      ]
     },
     "execution_count": 124,
     "metadata": {},
     "output_type": "execute_result"
    }
   ],
   "source": [
    "ssc(pred_test_set, label_ohe)"
   ]
  },
  {
   "cell_type": "code",
   "execution_count": 129,
   "metadata": {},
   "outputs": [
    {
     "data": {
      "text/plain": [
       "[0.9742268041237113, 0.9310344827586207, 0.8571428571428571, 1.0]"
      ]
     },
     "execution_count": 129,
     "metadata": {},
     "output_type": "execute_result"
    }
   ],
   "source": [
    "ssc(pred_test_set_rfc, label_ohe)"
   ]
  }
 ],
 "metadata": {
  "kernelspec": {
   "display_name": "generic",
   "language": "python",
   "name": "python3"
  },
  "language_info": {
   "codemirror_mode": {
    "name": "ipython",
    "version": 3
   },
   "file_extension": ".py",
   "mimetype": "text/x-python",
   "name": "python",
   "nbconvert_exporter": "python",
   "pygments_lexer": "ipython3",
   "version": "3.11.3"
  }
 },
 "nbformat": 4,
 "nbformat_minor": 2
}
