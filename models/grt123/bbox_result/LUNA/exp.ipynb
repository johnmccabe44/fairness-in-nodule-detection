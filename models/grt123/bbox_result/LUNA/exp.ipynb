{
 "cells": [
  {
   "cell_type": "code",
   "execution_count": 22,
   "metadata": {},
   "outputs": [
    {
     "data": {
      "text/plain": [
       "(-0.009746736846864223, -0.009746736846864223)"
      ]
     },
     "execution_count": 22,
     "metadata": {},
     "output_type": "execute_result"
    }
   ],
   "source": [
    "import numpy as np\n",
    "import matplotlib.pyplot as plt\n",
    "\n",
    "\n",
    "def histogram(data, bins=100):\n",
    "    plt.hist(data, bins=bins)\n",
    "    plt.show()\n",
    "\n",
    "arm1_pbb = np.load('/Users/john/Projects/SOTAEvaluationNoduleDetection/models/grt123/bbox_result/LUNA/arm2/1.3.6.1.4.1.14519.5.2.1.6279.6001.100530488926682752765845212286_pbb.npy')\n",
    "arm1_lbb = np.load('/Users/john/Projects/SOTAEvaluationNoduleDetection/models/grt123/bbox_result/LUNA/arm2/1.3.6.1.4.1.14519.5.2.1.6279.6001.100530488926682752765845212286_lbb.npy')\n",
    "\n",
    "arm1_selected = arm1_pbb[arm1_pbb[:, 0] >= -0.00974674]\n",
    "\n",
    "np.min(arm1_selected[:, 0]), np.max(arm1_selected[:, 0])"
   ]
  }
 ],
 "metadata": {
  "kernelspec": {
   "display_name": "grt123",
   "language": "python",
   "name": "python3"
  },
  "language_info": {
   "name": "python",
   "version": "3.10.12"
  }
 },
 "nbformat": 4,
 "nbformat_minor": 2
}
