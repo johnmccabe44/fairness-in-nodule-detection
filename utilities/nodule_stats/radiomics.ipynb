{
 "cells": [
  {
   "cell_type": "code",
   "execution_count": 18,
   "metadata": {},
   "outputs": [
    {
     "data": {
      "text/plain": [
       "Index(['original_shape_Elongation', 'original_shape_Flatness',\n",
       "       'original_shape_LeastAxisLength', 'original_shape_MajorAxisLength',\n",
       "       'original_shape_Maximum2DDiameterColumn',\n",
       "       'original_shape_Maximum2DDiameterRow',\n",
       "       'original_shape_Maximum2DDiameterSlice',\n",
       "       'original_shape_Maximum3DDiameter', 'original_shape_MeshVolume',\n",
       "       'original_shape_MinorAxisLength', 'original_shape_Sphericity',\n",
       "       'original_shape_SurfaceArea', 'original_shape_SurfaceVolumeRatio',\n",
       "       'original_shape_VoxelVolume', 'original_firstorder_10Percentile',\n",
       "       'original_firstorder_90Percentile', 'original_firstorder_Energy',\n",
       "       'original_firstorder_Entropy', 'original_firstorder_InterquartileRange',\n",
       "       'original_firstorder_Kurtosis', 'original_firstorder_Maximum',\n",
       "       'original_firstorder_MeanAbsoluteDeviation', 'original_firstorder_Mean',\n",
       "       'original_firstorder_Median', 'original_firstorder_Minimum',\n",
       "       'original_firstorder_Range',\n",
       "       'original_firstorder_RobustMeanAbsoluteDeviation',\n",
       "       'original_firstorder_RootMeanSquared', 'original_firstorder_Skewness',\n",
       "       'original_firstorder_TotalEnergy', 'original_firstorder_Uniformity',\n",
       "       'original_firstorder_Variance', 'scan_id', 'nodule_id',\n",
       "       'participant_id', 'timepoint'],\n",
       "      dtype='object')"
      ]
     },
     "execution_count": 18,
     "metadata": {},
     "output_type": "execute_result"
    }
   ],
   "source": [
    "import pandas as pd\n",
    "from pathlib import Path\n",
    "\n",
    "nodule_radiomics = (\n",
    "    pd.concat([\n",
    "        pd.read_csv(radiomics_file)\n",
    "        for radiomics_file in Path('.').rglob('*.csv')\n",
    "    ])\n",
    "    .drop(columns=[\n",
    "        'Unnamed: 0',\n",
    "        'diagnostics_Versions_PyRadiomics',\n",
    "        'diagnostics_Versions_Numpy',\n",
    "        'diagnostics_Versions_SimpleITK',\n",
    "        'diagnostics_Versions_PyWavelet',\n",
    "        'diagnostics_Versions_Python',\n",
    "        'diagnostics_Configuration_Settings',\n",
    "        'diagnostics_Configuration_EnabledImageTypes',\n",
    "        'diagnostics_Image-original_Hash',\n",
    "        'diagnostics_Image-original_Dimensionality',\n",
    "        'diagnostics_Image-original_Spacing',\n",
    "        'diagnostics_Image-original_Size',\n",
    "        'diagnostics_Image-original_Mean',\n",
    "        'diagnostics_Image-original_Minimum',\n",
    "        'diagnostics_Image-original_Maximum',\n",
    "        'diagnostics_Mask-original_Hash',\n",
    "        'diagnostics_Mask-original_Spacing',\n",
    "        'diagnostics_Mask-original_Size',\n",
    "        'diagnostics_Mask-original_BoundingBox',\n",
    "        'diagnostics_Mask-original_VoxelNum',\n",
    "        'diagnostics_Mask-original_VolumeNum',\n",
    "        'diagnostics_Mask-original_CenterOfMassIndex',\n",
    "        'diagnostics_Mask-original_CenterOfMass'\n",
    "    ]))\n",
    "\n",
    "nodule_radiomics[['participant_id','timepoint']] = nodule_radiomics['scan_id'].str.split('_', n=1, expand=True)\n",
    "\n",
    "baseline_nodule_radiomics = nodule_radiomics[nodule_radiomics['timepoint'] == 'Y0_BASELINE_A']\n",
    "\n",
    "baseline_nodule_radiomics.columns\n",
    "\n",
    "\n"
   ]
  },
  {
   "cell_type": "code",
   "execution_count": 22,
   "metadata": {},
   "outputs": [
    {
     "data": {
      "text/plain": [
       "PERIFISSURAL    2368\n",
       "SOLID           1231\n",
       "CALCIFIED        360\n",
       "NON_SOLID        251\n",
       "PART_SOLID       232\n",
       "Name: nodule_type, dtype: int64"
      ]
     },
     "execution_count": 22,
     "metadata": {},
     "output_type": "execute_result"
    }
   ],
   "source": [
    "test_balanced_trn_data = (\n",
    "    pd.read_csv('/Users/john/Projects/SOTAEvaluationNoduleDetection/metadata/summit/test_balanced/training_metadata.csv')\n",
    "    .assign(scan_id=lambda x: x['participant_id'] + '_Y0_BASELINE_A')\n",
    "    .assign(dimeter_cats=)\n",
    ")\n",
    "\n",
    "test_balanced_trn_data = test_balanced_trn_data.merge(\n",
    "    baseline_nodule_radiomics,\n",
    "    left_on=['scan_id','nodule_lesion_id'],\n",
    "    right_on=['scan_id','nodule_id'],\n",
    "    how='left'\n",
    ")\n",
    "\n",
    "\n",
    "missing_radiomics = test_balanced_trn_data.nodule_id.isna()\n",
    "\n",
    "test_balanced_trn_data[missing_radiomics].nodule_type.value_counts()\n"
   ]
  }
 ],
 "metadata": {
  "kernelspec": {
   "display_name": "summit",
   "language": "python",
   "name": "python3"
  },
  "language_info": {
   "codemirror_mode": {
    "name": "ipython",
    "version": 3
   },
   "file_extension": ".py",
   "mimetype": "text/x-python",
   "name": "python",
   "nbconvert_exporter": "python",
   "pygments_lexer": "ipython3",
   "version": "3.11.4"
  }
 },
 "nbformat": 4,
 "nbformat_minor": 2
}
