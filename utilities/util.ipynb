{
 "cells": [
  {
   "cell_type": "code",
   "execution_count": 1,
   "metadata": {},
   "outputs": [],
   "source": [
    "from utils import *"
   ]
  },
  {
   "cell_type": "code",
   "execution_count": 16,
   "metadata": {},
   "outputs": [
    {
     "name": "stdout",
     "output_type": "stream",
     "text": [
      "IrcTuple(index=198, row=179, col=405)\n",
      "IrcTuple(index=445, row=321, col=305)\n",
      "IrcTuple(index=346, row=167, col=270)\n",
      "IrcTuple(index=152, row=227, col=158)\n",
      "IrcTuple(index=368, row=153, col=146)\n",
      "IrcTuple(index=434, row=180, col=175)\n",
      "IrcTuple(index=273, row=107, col=334)\n",
      "IrcTuple(index=299, row=391, col=334)\n",
      "IrcTuple(index=267, row=435, col=416)\n",
      "IrcTuple(index=321, row=339, col=228)\n",
      "IrcTuple(index=290, row=286, col=109)\n",
      "IrcTuple(index=186, row=192, col=414)\n",
      "IrcTuple(index=282, row=412, col=330)\n",
      "IrcTuple(index=298, row=408, col=180)\n",
      "**********\n",
      "IrcTuple(index=445, row=321, col=305)\n",
      "IrcTuple(index=198, row=178, col=406)\n",
      "IrcTuple(index=347, row=167, col=269)\n"
     ]
    }
   ],
   "source": [
    "from re import split\n",
    "import numpy as np\n",
    "\n",
    "candidates = [\n",
    "    XyzTuple(z=-235.90625,y=-74.78495789,x=108.3604584),\n",
    "    XyzTuple(z=-81.453125,y=34.55097961,x=31.65391541),\n",
    "    XyzTuple(z=-143.09375,y=-84.10136414,x=4.363876343),\n",
    "    XyzTuple(z=-264.3828125,y=-38.13456726,x=-81.85682678),\n",
    "    XyzTuple(z=-129.1875,y=-94.91191101,x=-91.17323303),\n",
    "    XyzTuple(z=-88.09375,y=-74.34550476,x=-68.58534241),\n",
    "    XyzTuple(z=-188.640625,y=-130.068161,x=53.97813416),\n",
    "    XyzTuple(z=-172.703125,y=88.51582336,x=53.49473572),\n",
    "    XyzTuple(z=-192.625,y=122.9689484,x=117.0176849),\n",
    "    XyzTuple(z=-158.796875,y=48.52558899,x=-27.71620178),\n",
    "    XyzTuple(z=-178.25,y=7.964065552,x=-119.3861237),\n",
    "    XyzTuple(z=-243.171875,y=-64.58964539,x=115.2378998),\n",
    "    XyzTuple(z=-182.9375,y=105.2589874,x=50.59434509),\n",
    "    XyzTuple(z=-172.9375,y=102.1168976,x=-64.63026428)\n",
    "    ]\n",
    "\n",
    "\n",
    "nodules = [\n",
    "    XyzTuple(z=-81.27,y=34.59,x=31.7),\n",
    "    XyzTuple(z=-235.9,y=-75.42,x=109.13),\n",
    "    XyzTuple(z=-142.69,y=-83.98,x=4.07)\n",
    "    ]\n",
    "\n",
    "candidates\n",
    "\n",
    "origin = [-203.8, -212.9, -359.5]\n",
    "spacing = [0.771484, 0.771484, 0.625]\n",
    "\n",
    "for c in candidates:\n",
    "\n",
    "    print(xyz2irc(c, origin, spacing))\n",
    "\n",
    "print('*' * 10)\n",
    "\n",
    "for c in nodules:\n",
    "    print(xyz2irc(c, origin, spacing))"
   ]
  }
 ],
 "metadata": {
  "kernelspec": {
   "display_name": "summit",
   "language": "python",
   "name": "python3"
  },
  "language_info": {
   "codemirror_mode": {
    "name": "ipython",
    "version": 3
   },
   "file_extension": ".py",
   "mimetype": "text/x-python",
   "name": "python",
   "nbconvert_exporter": "python",
   "pygments_lexer": "ipython3",
   "version": "3.11.4"
  },
  "orig_nbformat": 4
 },
 "nbformat": 4,
 "nbformat_minor": 2
}
