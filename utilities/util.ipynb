{
 "cells": [
  {
   "cell_type": "code",
   "execution_count": 2,
   "metadata": {},
   "outputs": [],
   "source": [
    "from utils import *"
   ]
  },
  {
   "cell_type": "code",
   "execution_count": 3,
   "metadata": {},
   "outputs": [
    {
     "name": "stdout",
     "output_type": "stream",
     "text": [
      "IrcTuple(index=113, row=362, col=396)\n"
     ]
    }
   ],
   "source": [
    "from re import split\n",
    "import numpy as np\n",
    "\n",
    "\n",
    "nodules = [\n",
    "    XyzTuple(z=-162,y=66,x=96)\n",
    "    ]\n",
    "\n",
    "origin = [-151.5, -160, -232.5]\n",
    "spacing = [0.625, 0.625, 0.625]\n",
    "\n",
    "\n",
    "for c in nodules:\n",
    "    print(xyz2irc(c, origin, spacing))"
   ]
  },
  {
   "cell_type": "code",
   "execution_count": 5,
   "metadata": {},
   "outputs": [
    {
     "data": {
      "text/html": [
       "<div>\n",
       "<style scoped>\n",
       "    .dataframe tbody tr th:only-of-type {\n",
       "        vertical-align: middle;\n",
       "    }\n",
       "\n",
       "    .dataframe tbody tr th {\n",
       "        vertical-align: top;\n",
       "    }\n",
       "\n",
       "    .dataframe thead th {\n",
       "        text-align: right;\n",
       "    }\n",
       "</style>\n",
       "<table border=\"1\" class=\"dataframe\">\n",
       "  <thead>\n",
       "    <tr style=\"text-align: right;\">\n",
       "      <th></th>\n",
       "      <th>nodule_diameter_mm</th>\n",
       "    </tr>\n",
       "    <tr>\n",
       "      <th>nodule_type</th>\n",
       "      <th></th>\n",
       "    </tr>\n",
       "  </thead>\n",
       "  <tbody>\n",
       "    <tr>\n",
       "      <th>CALCIFIED</th>\n",
       "      <td>11.619538</td>\n",
       "    </tr>\n",
       "    <tr>\n",
       "      <th>NON_SOLID</th>\n",
       "      <td>11.373487</td>\n",
       "    </tr>\n",
       "    <tr>\n",
       "      <th>PART_SOLID</th>\n",
       "      <td>14.127329</td>\n",
       "    </tr>\n",
       "    <tr>\n",
       "      <th>PERIFISSURAL</th>\n",
       "      <td>6.083534</td>\n",
       "    </tr>\n",
       "    <tr>\n",
       "      <th>SOLID</th>\n",
       "      <td>8.726602</td>\n",
       "    </tr>\n",
       "  </tbody>\n",
       "</table>\n",
       "</div>"
      ],
      "text/plain": [
       "              nodule_diameter_mm\n",
       "nodule_type                     \n",
       "CALCIFIED              11.619538\n",
       "NON_SOLID              11.373487\n",
       "PART_SOLID             14.127329\n",
       "PERIFISSURAL            6.083534\n",
       "SOLID                   8.726602"
      ]
     },
     "execution_count": 5,
     "metadata": {},
     "output_type": "execute_result"
    }
   ],
   "source": [
    "# Assign the average diameter of the nodules where the diameter 0\n",
    "import pandas as pd\n",
    "\n",
    "trn = pd.read_csv('/Users/john/Projects/SOTAEvaluationNoduleDetection/metadata/summit/partial/training_metadata.csv')\n",
    "\n",
    "trn.groupby('nodule_type').agg({'nodule_diameter_mm': 'mean'})"
   ]
  },
  {
   "cell_type": "code",
   "execution_count": 8,
   "metadata": {},
   "outputs": [
    {
     "data": {
      "text/plain": [
       "CALCIFIED       37\n",
       "PERIFISSURAL     1\n",
       "Name: nodule_type, dtype: int64"
      ]
     },
     "execution_count": 8,
     "metadata": {},
     "output_type": "execute_result"
    }
   ],
   "source": [
    "# check how many are 0\n",
    "trn[trn['nodule_diameter_mm'] < 1].nodule_type.value_counts()\n"
   ]
  },
  {
   "cell_type": "code",
   "execution_count": 8,
   "metadata": {},
   "outputs": [
    {
     "data": {
      "text/plain": [
       "9.705075445816187"
      ]
     },
     "execution_count": 8,
     "metadata": {},
     "output_type": "execute_result"
    }
   ],
   "source": [
    "import datetime\n",
    "\n",
    "\n",
    "d1 = datetime.datetime(2024, 11, 13, 11, 40, 0)\n",
    "d2 = datetime.datetime(2024, 11, 21, 8, 20, 0)\n",
    "\n",
    "avg_epoch_time = ((d2 - d1).total_seconds() / 60 / 60) / 162\n",
    "\n",
    "(avg_epoch_time * 200) / 24\n",
    "\n"
   ]
  },
  {
   "cell_type": "code",
   "execution_count": 3,
   "metadata": {},
   "outputs": [
    {
     "name": "stdout",
     "output_type": "stream",
     "text": [
      "Names in _annotations and not in _metadata: 131\n",
      "Names in _metadata and not in _annotations: 141\n"
     ]
    }
   ],
   "source": [
    "import pandas as pd\n",
    "\n",
    "workspace_path = '/Users/john/Projects/SOTAEvaluationNoduleDetection'\n",
    "flavour = \"optimisation\"\n",
    "\n",
    "_annotations = (\n",
    "    pd.read_csv(f'{workspace_path}/models/ticnet/annotations/summit/{flavour}/test_metadata.csv').rename(columns={\n",
    "        'seriesuid' : 'name',\n",
    "        'coordX' : 'row',\n",
    "        'coordY' : 'col',\n",
    "        'coordZ' : 'index',\n",
    "        'diameter_mm' : 'diameter',\n",
    "        'probability' : 'threshold'\n",
    "    })\n",
    "    .assign(name_counter=lambda df: df.groupby('name').cumcount() + 1)\n",
    ")\n",
    "\n",
    "_metadata = (\n",
    "    pd.read_csv(f'{workspace_path}/metadata/summit/{flavour}/test_metadata.csv')\n",
    "    .assign(name=lambda df: df.participant_id + '_Y0_BASELINE_A')\n",
    "    .assign(name_counter=lambda df: df.groupby('name').cumcount() + 1)\n",
    ")\n",
    "\n",
    "annotations_names = set(_annotations['name'])\n",
    "metadata_names = set(_metadata['name'])\n",
    "\n",
    "names_in_annotations_not_in_metadata = annotations_names - metadata_names\n",
    "names_in_metadata_not_in_annotations = metadata_names - annotations_names\n",
    "\n",
    "print(\"Names in _annotations and not in _metadata:\", len(names_in_annotations_not_in_metadata))\n",
    "print(\"Names in _metadata and not in _annotations:\", len(names_in_metadata_not_in_annotations))"
   ]
  },
  {
   "cell_type": "code",
   "execution_count": 9,
   "metadata": {},
   "outputs": [
    {
     "name": "stdout",
     "output_type": "stream",
     "text": [
      "(4,) 0\n",
      "here\n"
     ]
    }
   ],
   "source": [
    "import numpy as np\n",
    "y = np.array([1,2,3,4])\n",
    "x = np.array([])\n",
    "\n",
    "print(y.shape, x.shape[0])\n",
    "\n",
    "\n",
    "if y.shape[0]>0 and x.shape[0] == 0:\n",
    "    print('here')\n",
    "\n"
   ]
  }
 ],
 "metadata": {
  "kernelspec": {
   "display_name": "summit",
   "language": "python",
   "name": "python3"
  },
  "language_info": {
   "codemirror_mode": {
    "name": "ipython",
    "version": 3
   },
   "file_extension": ".py",
   "mimetype": "text/x-python",
   "name": "python",
   "nbconvert_exporter": "python",
   "pygments_lexer": "ipython3",
   "version": "3.11.4"
  },
  "orig_nbformat": 4
 },
 "nbformat": 4,
 "nbformat_minor": 2
}
