{
 "cells": [
  {
   "cell_type": "markdown",
   "metadata": {},
   "source": [
    "# 1. Read in all the XML reports\n",
    "\n",
    "Description: Cycle through all of the xml reports and convert to 3 datasets\n",
    "\n",
    "- lungcaddata: NOT USED\n",
    "- scan_info_data: holds scan level info, including spacing, origiin etc.\n",
    "- nodule_info_dtaa: holds raw Veolity generated nodule data\n"
   ]
  },
  {
   "cell_type": "code",
   "execution_count": 1,
   "metadata": {},
   "outputs": [
    {
     "data": {
      "application/vnd.microsoft.datawrangler.viewer.v0+json": {
       "columns": [
        {
         "name": "index",
         "rawType": "int64",
         "type": "integer"
        },
        {
         "name": "ImageInfo.Dimensions.dimX",
         "rawType": "object",
         "type": "string"
        },
        {
         "name": "ImageInfo.Dimensions.dimY",
         "rawType": "object",
         "type": "string"
        },
        {
         "name": "ImageInfo.Dimensions.dimZ",
         "rawType": "object",
         "type": "string"
        },
        {
         "name": "ImageInfo.VoxelSize.voxelSizeX",
         "rawType": "object",
         "type": "string"
        },
        {
         "name": "ImageInfo.VoxelSize.voxelSizeY",
         "rawType": "object",
         "type": "string"
        },
        {
         "name": "ImageInfo.VoxelSize.voxelSizeZ",
         "rawType": "object",
         "type": "string"
        },
        {
         "name": "ImageInfo.Origin.originX",
         "rawType": "object",
         "type": "string"
        },
        {
         "name": "ImageInfo.Origin.originY",
         "rawType": "object",
         "type": "string"
        },
        {
         "name": "ImageInfo.Origin.originZ",
         "rawType": "object",
         "type": "string"
        },
        {
         "name": "ImageInfo.Orientation",
         "rawType": "object",
         "type": "string"
        },
        {
         "name": "ImageInfo.PatientName",
         "rawType": "object",
         "type": "string"
        },
        {
         "name": "ImageInfo.PatientUID",
         "rawType": "object",
         "type": "string"
        },
        {
         "name": "ImageInfo.StudyUID",
         "rawType": "object",
         "type": "string"
        },
        {
         "name": "ImageInfo.SeriesUID",
         "rawType": "object",
         "type": "string"
        }
       ],
       "conversionMethod": "pd.DataFrame",
       "ref": "a1b3a52d-4c19-4a99-aeeb-b5ac530c1575",
       "rows": [
        [
         "0",
         "512",
         "512",
         "379",
         "0.607",
         "0.607",
         "0.800049",
         "-137.978",
         "-145.79",
         "1470.6",
         "1, 0, 0, 0, 1, 0, 0, 0, 1",
         "UCLH_98028911",
         "UCLH_98028911",
         "1.3.6.1.4.1.34261.20.3748968987527872418471374419591356939584",
         "1.3.6.1.4.1.34261.20.4648852523653878362265233219967923342773"
        ],
        [
         "1",
         "512",
         "512",
         "376",
         "0.625",
         "0.625",
         "0.800049",
         "-159.688",
         "-159.688",
         "1491.5",
         "1, 0, 0, 0, 1, 0, 0, 0, 1",
         "UCLH_21103102",
         "UCLH_21103102",
         "1.3.6.1.4.1.34261.20.2444756332117177115525618821752512251238",
         "1.3.6.1.4.1.34261.20.7817782962943434523137174423248515978552"
        ],
        [
         "2",
         "512",
         "512",
         "406",
         "0.689",
         "0.689",
         "0.800049",
         "-177.78",
         "-176.218",
         "1607",
         "1, 0, 0, 0, 1, 0, 0, 0, 1",
         "UCLH_99045724",
         "UCLH_99045724",
         "1.3.6.1.4.1.34261.20.6663528461261714936272711476843352372612",
         "1.3.6.1.4.1.34261.20.3593178283751262356857845227497145716383"
        ],
        [
         "3",
         "512",
         "512",
         "351",
         "0.625",
         "0.625",
         "0.799927",
         "-160",
         "-160",
         "-1192",
         "1, 0, 0, 0, 1, 0, 0, 0, 1",
         "UCLH_93900966",
         "UCLH_93900966",
         "1.3.6.1.4.1.34261.20.4125878194452698968147989552673396657714",
         "1.3.6.1.4.1.34261.20.6748599883152668452368225989111573854924"
        ],
        [
         "4",
         "512",
         "512",
         "409",
         "0.759",
         "0.759",
         "0.800049",
         "-171.495",
         "-193.956",
         "1585.1",
         "1, 0, 0, 0, 1, 0, 0, 0, 1",
         "UCLH_85834737",
         "UCLH_85834737",
         "1.3.6.1.4.1.34261.20.2179381414341789562888862317767444723228",
         "1.3.6.1.4.1.34261.20.7862726946297783945288343515833263413882"
        ]
       ],
       "shape": {
        "columns": 14,
        "rows": 5
       }
      },
      "text/html": [
       "<div>\n",
       "<style scoped>\n",
       "    .dataframe tbody tr th:only-of-type {\n",
       "        vertical-align: middle;\n",
       "    }\n",
       "\n",
       "    .dataframe tbody tr th {\n",
       "        vertical-align: top;\n",
       "    }\n",
       "\n",
       "    .dataframe thead th {\n",
       "        text-align: right;\n",
       "    }\n",
       "</style>\n",
       "<table border=\"1\" class=\"dataframe\">\n",
       "  <thead>\n",
       "    <tr style=\"text-align: right;\">\n",
       "      <th></th>\n",
       "      <th>ImageInfo.Dimensions.dimX</th>\n",
       "      <th>ImageInfo.Dimensions.dimY</th>\n",
       "      <th>ImageInfo.Dimensions.dimZ</th>\n",
       "      <th>ImageInfo.VoxelSize.voxelSizeX</th>\n",
       "      <th>ImageInfo.VoxelSize.voxelSizeY</th>\n",
       "      <th>ImageInfo.VoxelSize.voxelSizeZ</th>\n",
       "      <th>ImageInfo.Origin.originX</th>\n",
       "      <th>ImageInfo.Origin.originY</th>\n",
       "      <th>ImageInfo.Origin.originZ</th>\n",
       "      <th>ImageInfo.Orientation</th>\n",
       "      <th>ImageInfo.PatientName</th>\n",
       "      <th>ImageInfo.PatientUID</th>\n",
       "      <th>ImageInfo.StudyUID</th>\n",
       "      <th>ImageInfo.SeriesUID</th>\n",
       "    </tr>\n",
       "  </thead>\n",
       "  <tbody>\n",
       "    <tr>\n",
       "      <th>0</th>\n",
       "      <td>512</td>\n",
       "      <td>512</td>\n",
       "      <td>379</td>\n",
       "      <td>0.607</td>\n",
       "      <td>0.607</td>\n",
       "      <td>0.800049</td>\n",
       "      <td>-137.978</td>\n",
       "      <td>-145.79</td>\n",
       "      <td>1470.6</td>\n",
       "      <td>1, 0, 0, 0, 1, 0, 0, 0, 1</td>\n",
       "      <td>UCLH_98028911</td>\n",
       "      <td>UCLH_98028911</td>\n",
       "      <td>1.3.6.1.4.1.34261.20.3748968987527872418471374...</td>\n",
       "      <td>1.3.6.1.4.1.34261.20.4648852523653878362265233...</td>\n",
       "    </tr>\n",
       "    <tr>\n",
       "      <th>1</th>\n",
       "      <td>512</td>\n",
       "      <td>512</td>\n",
       "      <td>376</td>\n",
       "      <td>0.625</td>\n",
       "      <td>0.625</td>\n",
       "      <td>0.800049</td>\n",
       "      <td>-159.688</td>\n",
       "      <td>-159.688</td>\n",
       "      <td>1491.5</td>\n",
       "      <td>1, 0, 0, 0, 1, 0, 0, 0, 1</td>\n",
       "      <td>UCLH_21103102</td>\n",
       "      <td>UCLH_21103102</td>\n",
       "      <td>1.3.6.1.4.1.34261.20.2444756332117177115525618...</td>\n",
       "      <td>1.3.6.1.4.1.34261.20.7817782962943434523137174...</td>\n",
       "    </tr>\n",
       "    <tr>\n",
       "      <th>2</th>\n",
       "      <td>512</td>\n",
       "      <td>512</td>\n",
       "      <td>406</td>\n",
       "      <td>0.689</td>\n",
       "      <td>0.689</td>\n",
       "      <td>0.800049</td>\n",
       "      <td>-177.78</td>\n",
       "      <td>-176.218</td>\n",
       "      <td>1607</td>\n",
       "      <td>1, 0, 0, 0, 1, 0, 0, 0, 1</td>\n",
       "      <td>UCLH_99045724</td>\n",
       "      <td>UCLH_99045724</td>\n",
       "      <td>1.3.6.1.4.1.34261.20.6663528461261714936272711...</td>\n",
       "      <td>1.3.6.1.4.1.34261.20.3593178283751262356857845...</td>\n",
       "    </tr>\n",
       "    <tr>\n",
       "      <th>3</th>\n",
       "      <td>512</td>\n",
       "      <td>512</td>\n",
       "      <td>351</td>\n",
       "      <td>0.625</td>\n",
       "      <td>0.625</td>\n",
       "      <td>0.799927</td>\n",
       "      <td>-160</td>\n",
       "      <td>-160</td>\n",
       "      <td>-1192</td>\n",
       "      <td>1, 0, 0, 0, 1, 0, 0, 0, 1</td>\n",
       "      <td>UCLH_93900966</td>\n",
       "      <td>UCLH_93900966</td>\n",
       "      <td>1.3.6.1.4.1.34261.20.4125878194452698968147989...</td>\n",
       "      <td>1.3.6.1.4.1.34261.20.6748599883152668452368225...</td>\n",
       "    </tr>\n",
       "    <tr>\n",
       "      <th>4</th>\n",
       "      <td>512</td>\n",
       "      <td>512</td>\n",
       "      <td>409</td>\n",
       "      <td>0.759</td>\n",
       "      <td>0.759</td>\n",
       "      <td>0.800049</td>\n",
       "      <td>-171.495</td>\n",
       "      <td>-193.956</td>\n",
       "      <td>1585.1</td>\n",
       "      <td>1, 0, 0, 0, 1, 0, 0, 0, 1</td>\n",
       "      <td>UCLH_85834737</td>\n",
       "      <td>UCLH_85834737</td>\n",
       "      <td>1.3.6.1.4.1.34261.20.2179381414341789562888862...</td>\n",
       "      <td>1.3.6.1.4.1.34261.20.7862726946297783945288343...</td>\n",
       "    </tr>\n",
       "  </tbody>\n",
       "</table>\n",
       "</div>"
      ],
      "text/plain": [
       "  ImageInfo.Dimensions.dimX ImageInfo.Dimensions.dimY  \\\n",
       "0                       512                       512   \n",
       "1                       512                       512   \n",
       "2                       512                       512   \n",
       "3                       512                       512   \n",
       "4                       512                       512   \n",
       "\n",
       "  ImageInfo.Dimensions.dimZ ImageInfo.VoxelSize.voxelSizeX  \\\n",
       "0                       379                          0.607   \n",
       "1                       376                          0.625   \n",
       "2                       406                          0.689   \n",
       "3                       351                          0.625   \n",
       "4                       409                          0.759   \n",
       "\n",
       "  ImageInfo.VoxelSize.voxelSizeY ImageInfo.VoxelSize.voxelSizeZ  \\\n",
       "0                          0.607                       0.800049   \n",
       "1                          0.625                       0.800049   \n",
       "2                          0.689                       0.800049   \n",
       "3                          0.625                       0.799927   \n",
       "4                          0.759                       0.800049   \n",
       "\n",
       "  ImageInfo.Origin.originX ImageInfo.Origin.originY ImageInfo.Origin.originZ  \\\n",
       "0                 -137.978                  -145.79                   1470.6   \n",
       "1                 -159.688                 -159.688                   1491.5   \n",
       "2                  -177.78                 -176.218                     1607   \n",
       "3                     -160                     -160                    -1192   \n",
       "4                 -171.495                 -193.956                   1585.1   \n",
       "\n",
       "       ImageInfo.Orientation ImageInfo.PatientName ImageInfo.PatientUID  \\\n",
       "0  1, 0, 0, 0, 1, 0, 0, 0, 1         UCLH_98028911        UCLH_98028911   \n",
       "1  1, 0, 0, 0, 1, 0, 0, 0, 1         UCLH_21103102        UCLH_21103102   \n",
       "2  1, 0, 0, 0, 1, 0, 0, 0, 1         UCLH_99045724        UCLH_99045724   \n",
       "3  1, 0, 0, 0, 1, 0, 0, 0, 1         UCLH_93900966        UCLH_93900966   \n",
       "4  1, 0, 0, 0, 1, 0, 0, 0, 1         UCLH_85834737        UCLH_85834737   \n",
       "\n",
       "                                  ImageInfo.StudyUID  \\\n",
       "0  1.3.6.1.4.1.34261.20.3748968987527872418471374...   \n",
       "1  1.3.6.1.4.1.34261.20.2444756332117177115525618...   \n",
       "2  1.3.6.1.4.1.34261.20.6663528461261714936272711...   \n",
       "3  1.3.6.1.4.1.34261.20.4125878194452698968147989...   \n",
       "4  1.3.6.1.4.1.34261.20.2179381414341789562888862...   \n",
       "\n",
       "                                 ImageInfo.SeriesUID  \n",
       "0  1.3.6.1.4.1.34261.20.4648852523653878362265233...  \n",
       "1  1.3.6.1.4.1.34261.20.7817782962943434523137174...  \n",
       "2  1.3.6.1.4.1.34261.20.3593178283751262356857845...  \n",
       "3  1.3.6.1.4.1.34261.20.6748599883152668452368225...  \n",
       "4  1.3.6.1.4.1.34261.20.7862726946297783945288343...  "
      ]
     },
     "metadata": {},
     "output_type": "display_data"
    },
    {
     "data": {
      "application/vnd.microsoft.datawrangler.viewer.v0+json": {
       "columns": [
        {
         "name": "index",
         "rawType": "int64",
         "type": "integer"
        },
        {
         "name": "ID",
         "rawType": "object",
         "type": "string"
        },
        {
         "name": "X",
         "rawType": "float64",
         "type": "float"
        },
        {
         "name": "Y",
         "rawType": "float64",
         "type": "float"
        },
        {
         "name": "Z",
         "rawType": "float64",
         "type": "float"
        },
        {
         "name": "Probability",
         "rawType": "float64",
         "type": "float"
        },
        {
         "name": "Volume_mm3",
         "rawType": "float64",
         "type": "float"
        },
        {
         "name": "Diameter_mm",
         "rawType": "float64",
         "type": "float"
        },
        {
         "name": "PatientUID",
         "rawType": "object",
         "type": "string"
        },
        {
         "name": "SeriesUID",
         "rawType": "object",
         "type": "string"
        }
       ],
       "conversionMethod": "pd.DataFrame",
       "ref": "3b06ddd7-0973-4b72-994f-07690d70b1ea",
       "rows": [
        [
         "0",
         "11",
         "-50.5696",
         "38.1309",
         "1725.0",
         "-784.305",
         "4.89861",
         "4.89861",
         "UCLH_98028911",
         "1.3.6.1.4.1.34261.20.4648852523653878362265233219967923342773"
        ],
        [
         "1",
         "19",
         "74.4724",
         "81.2279",
         "1625.8",
         "-1209.71",
         "4.6774",
         "4.6774",
         "UCLH_98028911",
         "1.3.6.1.4.1.34261.20.4648852523653878362265233219967923342773"
        ],
        [
         "2",
         "25",
         "60.9375",
         "66.5625",
         "1672.3",
         "-605.289",
         "4.19835",
         "4.19835",
         "UCLH_21103102",
         "1.3.6.1.4.1.34261.20.7817782962943434523137174423248515978552"
        ],
        [
         "3",
         "39",
         "62.8125",
         "69.6875",
         "1582.7",
         "-97.2982",
         "3.86332",
         "3.86332",
         "UCLH_21103102",
         "1.3.6.1.4.1.34261.20.7817782962943434523137174423248515978552"
        ],
        [
         "4",
         "15",
         "60.6139",
         "101.449",
         "1727.8",
         "2140.06",
         "6.47087",
         "6.47087",
         "UCLH_99045724",
         "1.3.6.1.4.1.34261.20.3593178283751262356857845227497145716383"
        ]
       ],
       "shape": {
        "columns": 9,
        "rows": 5
       }
      },
      "text/html": [
       "<div>\n",
       "<style scoped>\n",
       "    .dataframe tbody tr th:only-of-type {\n",
       "        vertical-align: middle;\n",
       "    }\n",
       "\n",
       "    .dataframe tbody tr th {\n",
       "        vertical-align: top;\n",
       "    }\n",
       "\n",
       "    .dataframe thead th {\n",
       "        text-align: right;\n",
       "    }\n",
       "</style>\n",
       "<table border=\"1\" class=\"dataframe\">\n",
       "  <thead>\n",
       "    <tr style=\"text-align: right;\">\n",
       "      <th></th>\n",
       "      <th>ID</th>\n",
       "      <th>X</th>\n",
       "      <th>Y</th>\n",
       "      <th>Z</th>\n",
       "      <th>Probability</th>\n",
       "      <th>Volume_mm3</th>\n",
       "      <th>Diameter_mm</th>\n",
       "      <th>PatientUID</th>\n",
       "      <th>SeriesUID</th>\n",
       "    </tr>\n",
       "  </thead>\n",
       "  <tbody>\n",
       "    <tr>\n",
       "      <th>0</th>\n",
       "      <td>11</td>\n",
       "      <td>-50.5696</td>\n",
       "      <td>38.1309</td>\n",
       "      <td>1725.0</td>\n",
       "      <td>-784.3050</td>\n",
       "      <td>4.89861</td>\n",
       "      <td>4.89861</td>\n",
       "      <td>UCLH_98028911</td>\n",
       "      <td>1.3.6.1.4.1.34261.20.4648852523653878362265233...</td>\n",
       "    </tr>\n",
       "    <tr>\n",
       "      <th>1</th>\n",
       "      <td>19</td>\n",
       "      <td>74.4724</td>\n",
       "      <td>81.2279</td>\n",
       "      <td>1625.8</td>\n",
       "      <td>-1209.7100</td>\n",
       "      <td>4.67740</td>\n",
       "      <td>4.67740</td>\n",
       "      <td>UCLH_98028911</td>\n",
       "      <td>1.3.6.1.4.1.34261.20.4648852523653878362265233...</td>\n",
       "    </tr>\n",
       "    <tr>\n",
       "      <th>2</th>\n",
       "      <td>25</td>\n",
       "      <td>60.9375</td>\n",
       "      <td>66.5625</td>\n",
       "      <td>1672.3</td>\n",
       "      <td>-605.2890</td>\n",
       "      <td>4.19835</td>\n",
       "      <td>4.19835</td>\n",
       "      <td>UCLH_21103102</td>\n",
       "      <td>1.3.6.1.4.1.34261.20.7817782962943434523137174...</td>\n",
       "    </tr>\n",
       "    <tr>\n",
       "      <th>3</th>\n",
       "      <td>39</td>\n",
       "      <td>62.8125</td>\n",
       "      <td>69.6875</td>\n",
       "      <td>1582.7</td>\n",
       "      <td>-97.2982</td>\n",
       "      <td>3.86332</td>\n",
       "      <td>3.86332</td>\n",
       "      <td>UCLH_21103102</td>\n",
       "      <td>1.3.6.1.4.1.34261.20.7817782962943434523137174...</td>\n",
       "    </tr>\n",
       "    <tr>\n",
       "      <th>4</th>\n",
       "      <td>15</td>\n",
       "      <td>60.6139</td>\n",
       "      <td>101.4490</td>\n",
       "      <td>1727.8</td>\n",
       "      <td>2140.0600</td>\n",
       "      <td>6.47087</td>\n",
       "      <td>6.47087</td>\n",
       "      <td>UCLH_99045724</td>\n",
       "      <td>1.3.6.1.4.1.34261.20.3593178283751262356857845...</td>\n",
       "    </tr>\n",
       "  </tbody>\n",
       "</table>\n",
       "</div>"
      ],
      "text/plain": [
       "   ID        X         Y       Z  Probability  Volume_mm3  Diameter_mm  \\\n",
       "0  11 -50.5696   38.1309  1725.0    -784.3050     4.89861      4.89861   \n",
       "1  19  74.4724   81.2279  1625.8   -1209.7100     4.67740      4.67740   \n",
       "2  25  60.9375   66.5625  1672.3    -605.2890     4.19835      4.19835   \n",
       "3  39  62.8125   69.6875  1582.7     -97.2982     3.86332      3.86332   \n",
       "4  15  60.6139  101.4490  1727.8    2140.0600     6.47087      6.47087   \n",
       "\n",
       "      PatientUID                                          SeriesUID  \n",
       "0  UCLH_98028911  1.3.6.1.4.1.34261.20.4648852523653878362265233...  \n",
       "1  UCLH_98028911  1.3.6.1.4.1.34261.20.4648852523653878362265233...  \n",
       "2  UCLH_21103102  1.3.6.1.4.1.34261.20.7817782962943434523137174...  \n",
       "3  UCLH_21103102  1.3.6.1.4.1.34261.20.7817782962943434523137174...  \n",
       "4  UCLH_99045724  1.3.6.1.4.1.34261.20.3593178283751262356857845...  "
      ]
     },
     "metadata": {},
     "output_type": "display_data"
    }
   ],
   "source": [
    "\n",
    "import pandas as pd\n",
    "from pathlib import Path\n",
    "import xml.etree.ElementTree as ET\n",
    "import sys\n",
    "\n",
    "if sys.platform == 'darwin':\n",
    "    workspace_path = '/Users/john/Projects/SOTAEvaluationNoduleDetection'\n",
    "else:\n",
    "    workspace_path = '/home/jmccabe/Projects/SOTAEvaluationNoduleDetection'\n",
    "\n",
    "def recursive_parse(element, parent_key=''):\n",
    "    items = {}\n",
    "    for child in element:\n",
    "        key = f\"{parent_key}.{child.tag}\" if parent_key else child.tag\n",
    "        if len(child):\n",
    "            items.update(recursive_parse(child, key))\n",
    "        else:\n",
    "            items[key] = child.text\n",
    "    return items\n",
    "\n",
    "def parse_xml(xml_file):\n",
    "    \n",
    "\n",
    "    tree = ET.parse(xml_file)\n",
    "    root = tree.getroot()\n",
    "\n",
    "    # Extracting LUNGCAD data\n",
    "    for lungcad in root.findall('LungCAD'):\n",
    "        lungcad_data = recursive_parse(lungcad)\n",
    "\n",
    "    # Extracting scan_info data\n",
    "    scan_info_data = recursive_parse(root.findall('ImageInfo'))\n",
    "\n",
    "    nodules_data = []\n",
    "    # Extracting nodules data\n",
    "    for nodule in root.findall('*Finding'):\n",
    "        nodules_data.append(recursive_parse(nodule))\n",
    "\n",
    "    return lungcad_data, scan_info_data, nodules_data\n",
    "\n",
    "\n",
    "xml_scan_data = []\n",
    "xml_nodule_data = []\n",
    "\n",
    "for xml_file in Path('Veolity/LSUT-tranche-2').rglob('*.xml'):\n",
    "    if xml_file.suffix == '.xml':\n",
    "\n",
    "        _, scan_info_data, nodules_data = parse_xml(xml_file)\n",
    "\n",
    "\n",
    "        xml_scan_data.append(scan_info_data)\n",
    "\n",
    "        for nodule in nodules_data:\n",
    "            nodule['PatientUID'] = scan_info_data['ImageInfo.PatientUID']\n",
    "            nodule['SeriesUID'] = scan_info_data['ImageInfo.SeriesUID']\n",
    "        xml_nodule_data.extend(nodules_data)\n",
    "\n",
    "\n",
    "xml_scan_data = pd.DataFrame(xml_scan_data)\n",
    "display(xml_scan_data.head())\n",
    "\n",
    "xml_nodule_data = pd.DataFrame(xml_nodule_data)\n",
    "xml_nodule_data['X'] = xml_nodule_data['X'].astype(float)\n",
    "xml_nodule_data['Y'] = xml_nodule_data['Y'].astype(float)\n",
    "xml_nodule_data['Z'] = xml_nodule_data['Z'].astype(float)\n",
    "xml_nodule_data['Probability'] = xml_nodule_data['Probability'].astype(float)\n",
    "xml_nodule_data['Volume_mm3'] = xml_nodule_data['Diameter_mm'].astype(float)\n",
    "xml_nodule_data['Diameter_mm'] = xml_nodule_data['Diameter_mm'].astype(float)\n",
    "display(xml_nodule_data.head())\n"
   ]
  },
  {
   "cell_type": "markdown",
   "metadata": {},
   "source": [
    "# 2. Get Scan Metadata\n",
    "\n",
    "For each scan there are multiple series, for consistency with SUMMIT we need to only use the soft tissue Veolity report."
   ]
  },
  {
   "cell_type": "code",
   "execution_count": 3,
   "metadata": {},
   "outputs": [
    {
     "data": {
      "application/vnd.microsoft.datawrangler.viewer.v0+json": {
       "columns": [
        {
         "name": "index",
         "rawType": "int64",
         "type": "integer"
        },
        {
         "name": "SeriesInstanceUID",
         "rawType": "object",
         "type": "string"
        },
        {
         "name": "SubjectID",
         "rawType": "object",
         "type": "string"
        },
        {
         "name": "SeriesDescription",
         "rawType": "object",
         "type": "string"
        },
        {
         "name": "NumberOfFiles",
         "rawType": "int64",
         "type": "integer"
        },
        {
         "name": "filesby10",
         "rawType": "int64",
         "type": "integer"
        },
        {
         "name": "Reconstruction",
         "rawType": "object",
         "type": "string"
        }
       ],
       "conversionMethod": "pd.DataFrame",
       "ref": "be83fc5e-ff75-4ae9-a9cc-a740c54681dd",
       "rows": [
        [
         "0",
         "1.3.6.1.4.1.34261.20.9893711945195858342155588364578282628487",
         "UCLH_00134949",
         "2.0",
         "2",
         "0",
         "DO_NOT_USE"
        ],
        [
         "1",
         "1.3.6.1.4.1.34261.20.3438257846713158166155226566919488884961",
         "UCLH_00134949",
         "Lung 1.0 hom-1082/LDLS",
         "326",
         "32",
         "Lung"
        ],
        [
         "2",
         "1.3.6.1.4.1.34261.20.4941623947498558212956748425194633894347",
         "UCLH_00134949",
         "5 hom-1082/LDLS",
         "2",
         "0",
         "DO_NOT_USE"
        ],
        [
         "3",
         "1.3.6.1.4.1.34261.20.8746993336615974177722837411718857416894",
         "UCLH_00134949",
         "Body 1.0 hom-1082/LDLS",
         "326",
         "32",
         "Soft"
        ],
        [
         "4",
         "1.3.6.1.4.1.34261.20.4727291588139957739148357674649573897152",
         "UCLH_00239233",
         "2.0",
         "2",
         "0",
         "DO_NOT_USE"
        ]
       ],
       "shape": {
        "columns": 6,
        "rows": 5
       }
      },
      "text/html": [
       "<div>\n",
       "<style scoped>\n",
       "    .dataframe tbody tr th:only-of-type {\n",
       "        vertical-align: middle;\n",
       "    }\n",
       "\n",
       "    .dataframe tbody tr th {\n",
       "        vertical-align: top;\n",
       "    }\n",
       "\n",
       "    .dataframe thead th {\n",
       "        text-align: right;\n",
       "    }\n",
       "</style>\n",
       "<table border=\"1\" class=\"dataframe\">\n",
       "  <thead>\n",
       "    <tr style=\"text-align: right;\">\n",
       "      <th></th>\n",
       "      <th>SeriesInstanceUID</th>\n",
       "      <th>SubjectID</th>\n",
       "      <th>SeriesDescription</th>\n",
       "      <th>NumberOfFiles</th>\n",
       "      <th>filesby10</th>\n",
       "      <th>Reconstruction</th>\n",
       "    </tr>\n",
       "  </thead>\n",
       "  <tbody>\n",
       "    <tr>\n",
       "      <th>0</th>\n",
       "      <td>1.3.6.1.4.1.34261.20.9893711945195858342155588...</td>\n",
       "      <td>UCLH_00134949</td>\n",
       "      <td>2.0</td>\n",
       "      <td>2</td>\n",
       "      <td>0</td>\n",
       "      <td>DO_NOT_USE</td>\n",
       "    </tr>\n",
       "    <tr>\n",
       "      <th>1</th>\n",
       "      <td>1.3.6.1.4.1.34261.20.3438257846713158166155226...</td>\n",
       "      <td>UCLH_00134949</td>\n",
       "      <td>Lung 1.0 hom-1082/LDLS</td>\n",
       "      <td>326</td>\n",
       "      <td>32</td>\n",
       "      <td>Lung</td>\n",
       "    </tr>\n",
       "    <tr>\n",
       "      <th>2</th>\n",
       "      <td>1.3.6.1.4.1.34261.20.4941623947498558212956748...</td>\n",
       "      <td>UCLH_00134949</td>\n",
       "      <td>5 hom-1082/LDLS</td>\n",
       "      <td>2</td>\n",
       "      <td>0</td>\n",
       "      <td>DO_NOT_USE</td>\n",
       "    </tr>\n",
       "    <tr>\n",
       "      <th>3</th>\n",
       "      <td>1.3.6.1.4.1.34261.20.8746993336615974177722837...</td>\n",
       "      <td>UCLH_00134949</td>\n",
       "      <td>Body 1.0 hom-1082/LDLS</td>\n",
       "      <td>326</td>\n",
       "      <td>32</td>\n",
       "      <td>Soft</td>\n",
       "    </tr>\n",
       "    <tr>\n",
       "      <th>4</th>\n",
       "      <td>1.3.6.1.4.1.34261.20.4727291588139957739148357...</td>\n",
       "      <td>UCLH_00239233</td>\n",
       "      <td>2.0</td>\n",
       "      <td>2</td>\n",
       "      <td>0</td>\n",
       "      <td>DO_NOT_USE</td>\n",
       "    </tr>\n",
       "  </tbody>\n",
       "</table>\n",
       "</div>"
      ],
      "text/plain": [
       "                                   SeriesInstanceUID      SubjectID  \\\n",
       "0  1.3.6.1.4.1.34261.20.9893711945195858342155588...  UCLH_00134949   \n",
       "1  1.3.6.1.4.1.34261.20.3438257846713158166155226...  UCLH_00134949   \n",
       "2  1.3.6.1.4.1.34261.20.4941623947498558212956748...  UCLH_00134949   \n",
       "3  1.3.6.1.4.1.34261.20.8746993336615974177722837...  UCLH_00134949   \n",
       "4  1.3.6.1.4.1.34261.20.4727291588139957739148357...  UCLH_00239233   \n",
       "\n",
       "        SeriesDescription  NumberOfFiles  filesby10 Reconstruction  \n",
       "0                     2.0              2          0     DO_NOT_USE  \n",
       "1  Lung 1.0 hom-1082/LDLS            326         32           Lung  \n",
       "2         5 hom-1082/LDLS              2          0     DO_NOT_USE  \n",
       "3  Body 1.0 hom-1082/LDLS            326         32           Soft  \n",
       "4                     2.0              2          0     DO_NOT_USE  "
      ]
     },
     "metadata": {},
     "output_type": "display_data"
    }
   ],
   "source": [
    "scan_metadata = pd.read_csv('/home/jmccabe/Projects/ScansTransfer/LSUT/dicom_metadata_with_recon.csv')\n",
    "scan_patient_uids = set(scan_metadata['SubjectID'].unique())\n",
    "\n",
    "display(scan_metadata.head())"
   ]
  },
  {
   "cell_type": "code",
   "execution_count": 4,
   "metadata": {},
   "outputs": [
    {
     "name": "stdout",
     "output_type": "stream",
     "text": [
      "Number of patients with soft reconstructions: 757\n",
      "Number of patients with xml reports: 146\n",
      "Number of patients with soft reconstructions but no xml reports: 611\n",
      "Number of patients with soft reconstructions and xml reports but no nodules: 33\n"
     ]
    }
   ],
   "source": [
    "# Run some quick checks on the numbers of xml reports we have and how many are missing\n",
    "soft_metadata = scan_metadata.query('Reconstruction == \"Soft\"')\n",
    "soft_patient_uids = set(soft_metadata['SubjectID'].unique())\n",
    "\n",
    "print(f\"Number of patients with soft reconstructions: {len(soft_patient_uids)}\")\n",
    "\n",
    "xml_patient_uids = set(xml_scan_data['ImageInfo.PatientUID'].unique())\n",
    "print(f\"Number of patients with xml reports: {len(xml_patient_uids)}\")\n",
    "\n",
    "missing_patient_uids = soft_patient_uids - xml_patient_uids\n",
    "print(f\"Number of patients with soft reconstructions but no xml reports: {len(missing_patient_uids)}\")\n",
    "\n",
    "subset_patient_uids = soft_patient_uids.intersection(xml_patient_uids) - set(xml_nodule_data['PatientUID'].unique())\n",
    "print(f\"Number of patients with soft reconstructions and xml reports but no nodules: {len(subset_patient_uids)}\")\n",
    "with open('tranche2_soft_recon_patients_with_no_nodules.txt', 'w') as f:\n",
    "    for patient_uid in subset_patient_uids:\n",
    "        f.write(f\"{patient_uid}\\n\")\n"
   ]
  },
  {
   "cell_type": "markdown",
   "metadata": {},
   "source": [
    "# 3. Isolate the Soft Tissue Generated Nodules"
   ]
  },
  {
   "cell_type": "code",
   "execution_count": 5,
   "metadata": {},
   "outputs": [
    {
     "name": "stdout",
     "output_type": "stream",
     "text": [
      "Number of scans in XML: 146\n",
      "Number of nodules in XML: 699\n"
     ]
    }
   ],
   "source": [
    "soft_series_uids = set(soft_metadata['SeriesInstanceUID'].unique())\n",
    "soft_xml_nodule_data = xml_nodule_data.query('SeriesUID in @soft_series_uids')\n",
    "\n",
    "print(f\"Number of scans in XML:\", len(xml_patient_uids))\n",
    "print(f\"Number of nodules in XML:\", len(xml_nodule_data))\n",
    "\n",
    "scan_ids_with_nodules = set(soft_xml_nodule_data['PatientUID'].unique())"
   ]
  },
  {
   "cell_type": "markdown",
   "metadata": {},
   "source": [
    "# 4. Make sure that the scan exists on disk"
   ]
  },
  {
   "cell_type": "code",
   "execution_count": 6,
   "metadata": {},
   "outputs": [
    {
     "name": "stdout",
     "output_type": "stream",
     "text": [
      "Number of patients in lung_listings: 731\n",
      "Number of patients in soft_xml_nodule_data: 96\n",
      "IDs in soft_xml_nodule_data but not in lung_listings: 2\n",
      "IDs in lung_listings but not in soft_xml_nodule_data: 637\n"
     ]
    }
   ],
   "source": [
    "lung_listings = (\n",
    "    pd.read_csv('lung_listings.txt', header=None, names=['nifti_path'])\n",
    "    .assign(patient_uid=lambda x: x['nifti_path'].str.split('/').str[-2])\n",
    ")\n",
    "\n",
    "lung_patient_uids = set(lung_listings['patient_uid'].unique())\n",
    "soft_xml_patient_uids = set(soft_xml_nodule_data['PatientUID'].unique())\n",
    "\n",
    "missing_in_lung_listings = soft_xml_patient_uids - lung_patient_uids\n",
    "missing_in_soft_xml = lung_patient_uids - soft_xml_patient_uids\n",
    "\n",
    "print(f\"Number of patients in lung_listings:\", len(lung_patient_uids))\n",
    "print(f\"Number of patients in soft_xml_nodule_data:\", len(soft_xml_patient_uids))\n",
    "print(f\"IDs in soft_xml_nodule_data but not in lung_listings:\", len(missing_in_lung_listings))\n",
    "print(f\"IDs in lung_listings but not in soft_xml_nodule_data:\", len(missing_in_soft_xml))"
   ]
  },
  {
   "cell_type": "markdown",
   "metadata": {},
   "source": [
    "# 5. Checks on scan / nodule data"
   ]
  },
  {
   "cell_type": "code",
   "execution_count": 15,
   "metadata": {},
   "outputs": [],
   "source": [
    "import nibabel as nib\n",
    "import numpy as np\n",
    "import subprocess\n",
    "\n",
    "\n",
    "def copy_and_mask(mask_id, source_path, destination_path):\n",
    "\n",
    "\n",
    "    if Path(f\"{source_path}/box-masks/{mask_id}\").exists():\n",
    "        print(f\"Box masks for {mask_id} already exists\")\n",
    "    else:\n",
    "        subprocess.run(\n",
    "            [\n",
    "                \"scp\", \n",
    "                \"-P\", \n",
    "                \"2222\", \n",
    "                \"-r\", \n",
    "                f\"jmccabe@localhost:{source_path}/box-masks/{mask_id}\",\n",
    "                f\"{destination_path}/box-masks/.\"\n",
    "            ],\n",
    "            check=True\n",
    "        )\n",
    "\n",
    "    if Path(f\"{source_path}/detection/{mask_id}\").exists():\n",
    "        print(f\"Detection masks for {mask_id} already exists\")\n",
    "    else:\n",
    "        subprocess.run(\n",
    "            [\n",
    "                \"scp\", \n",
    "                \"-P\", \n",
    "                \"2222\", \n",
    "                \"-r\", \n",
    "                f\"jmccabe@localhost:{source_path}/detection/{mask_id}\",\n",
    "                f\"{destination_path}/detection/.\"\n",
    "            ],\n",
    "            check=True\n",
    "        )\n",
    "\n",
    "    return True\n",
    "\n",
    "source_path = \"/cluster/project0/lung-triage/lsut\"\n",
    "destination_path = \"../../cache/sota/lsut\"\n",
    "\n",
    "# for mask_id in ['UCLH_00489272','UCLH_00239233','UCLH_01212990','UCLH_00948384','UCLH_01133076','UCLH_00134949']:\n",
    "#     _ = copy_and_mask(mask_id, source_path, destination_path)\n"
   ]
  },
  {
   "cell_type": "markdown",
   "metadata": {},
   "source": [
    "# 7. Run comparisons against annotations\n",
    "\n",
    "1. Check how many scans with nodules have been processed and how many are left to be processed\n",
    "2. Check that the number of nodules marries up with the number of boxes\n",
    "3. Convert the boxes to row, col, slice (for initial resolution)\n",
    "4. Check box exists for recorded nodules, convert slices-nod_slice in real world co-ordinates"
   ]
  },
  {
   "cell_type": "code",
   "execution_count": 7,
   "metadata": {},
   "outputs": [
    {
     "name": "stdout",
     "output_type": "stream",
     "text": [
      "Total number of annotations: 732\n",
      "Total number of scans with soft reconstructions: 757\n",
      "Total number of scans saved to nifti (Useable): 731\n"
     ]
    },
    {
     "data": {
      "text/plain": [
       "clinic_ethnicity\n",
       "White                                       133\n",
       "Black/ African/ Caribbean/ Black British     13\n",
       "Other ethnic group                            9\n",
       "Mixed or multiple ethnic groups               2\n",
       "Asian or Asian British                        1\n",
       "Name: count, dtype: int64"
      ]
     },
     "metadata": {},
     "output_type": "display_data"
    },
    {
     "data": {
      "text/plain": [
       "clinic_gender\n",
       "Male      91\n",
       "Female    67\n",
       "Name: count, dtype: int64"
      ]
     },
     "metadata": {},
     "output_type": "display_data"
    },
    {
     "name": "stdout",
     "output_type": "stream",
     "text": [
      "No nodules, with xml report: 73\n",
      "Whole sample\n"
     ]
    },
    {
     "data": {
      "application/vnd.microsoft.datawrangler.viewer.v0+json": {
       "columns": [
        {
         "name": "clinic_ethnicity",
         "rawType": "object",
         "type": "string"
        },
        {
         "name": "count",
         "rawType": "int64",
         "type": "integer"
        }
       ],
       "conversionMethod": "pd.DataFrame",
       "ref": "387f328c-0014-4505-be2c-2768d363f19a",
       "rows": [
        [
         "White",
         "615"
        ],
        [
         "Black/ African/ Caribbean/ Black British",
         "69"
        ],
        [
         "Other ethnic group",
         "30"
        ],
        [
         "Mixed or multiple ethnic groups",
         "8"
        ],
        [
         "Asian or Asian British",
         "7"
        ],
        [
         "Prefers not to say",
         "2"
        ]
       ],
       "shape": {
        "columns": 1,
        "rows": 6
       }
      },
      "text/html": [
       "<div>\n",
       "<style scoped>\n",
       "    .dataframe tbody tr th:only-of-type {\n",
       "        vertical-align: middle;\n",
       "    }\n",
       "\n",
       "    .dataframe tbody tr th {\n",
       "        vertical-align: top;\n",
       "    }\n",
       "\n",
       "    .dataframe thead th {\n",
       "        text-align: right;\n",
       "    }\n",
       "</style>\n",
       "<table border=\"1\" class=\"dataframe\">\n",
       "  <thead>\n",
       "    <tr style=\"text-align: right;\">\n",
       "      <th></th>\n",
       "      <th>count</th>\n",
       "    </tr>\n",
       "    <tr>\n",
       "      <th>clinic_ethnicity</th>\n",
       "      <th></th>\n",
       "    </tr>\n",
       "  </thead>\n",
       "  <tbody>\n",
       "    <tr>\n",
       "      <th>White</th>\n",
       "      <td>615</td>\n",
       "    </tr>\n",
       "    <tr>\n",
       "      <th>Black/ African/ Caribbean/ Black British</th>\n",
       "      <td>69</td>\n",
       "    </tr>\n",
       "    <tr>\n",
       "      <th>Other ethnic group</th>\n",
       "      <td>30</td>\n",
       "    </tr>\n",
       "    <tr>\n",
       "      <th>Mixed or multiple ethnic groups</th>\n",
       "      <td>8</td>\n",
       "    </tr>\n",
       "    <tr>\n",
       "      <th>Asian or Asian British</th>\n",
       "      <td>7</td>\n",
       "    </tr>\n",
       "    <tr>\n",
       "      <th>Prefers not to say</th>\n",
       "      <td>2</td>\n",
       "    </tr>\n",
       "  </tbody>\n",
       "</table>\n",
       "</div>"
      ],
      "text/plain": [
       "                                          count\n",
       "clinic_ethnicity                               \n",
       "White                                       615\n",
       "Black/ African/ Caribbean/ Black British     69\n",
       "Other ethnic group                           30\n",
       "Mixed or multiple ethnic groups               8\n",
       "Asian or Asian British                        7\n",
       "Prefers not to say                            2"
      ]
     },
     "metadata": {},
     "output_type": "display_data"
    },
    {
     "data": {
      "application/vnd.microsoft.datawrangler.viewer.v0+json": {
       "columns": [
        {
         "name": "clinic_gender",
         "rawType": "object",
         "type": "string"
        },
        {
         "name": "count",
         "rawType": "int64",
         "type": "integer"
        }
       ],
       "conversionMethod": "pd.DataFrame",
       "ref": "f23bfee2-741e-439c-bfdf-f816621897eb",
       "rows": [
        [
         "Male",
         "408"
        ],
        [
         "Female",
         "323"
        ]
       ],
       "shape": {
        "columns": 1,
        "rows": 2
       }
      },
      "text/html": [
       "<div>\n",
       "<style scoped>\n",
       "    .dataframe tbody tr th:only-of-type {\n",
       "        vertical-align: middle;\n",
       "    }\n",
       "\n",
       "    .dataframe tbody tr th {\n",
       "        vertical-align: top;\n",
       "    }\n",
       "\n",
       "    .dataframe thead th {\n",
       "        text-align: right;\n",
       "    }\n",
       "</style>\n",
       "<table border=\"1\" class=\"dataframe\">\n",
       "  <thead>\n",
       "    <tr style=\"text-align: right;\">\n",
       "      <th></th>\n",
       "      <th>count</th>\n",
       "    </tr>\n",
       "    <tr>\n",
       "      <th>clinic_gender</th>\n",
       "      <th></th>\n",
       "    </tr>\n",
       "  </thead>\n",
       "  <tbody>\n",
       "    <tr>\n",
       "      <th>Male</th>\n",
       "      <td>408</td>\n",
       "    </tr>\n",
       "    <tr>\n",
       "      <th>Female</th>\n",
       "      <td>323</td>\n",
       "    </tr>\n",
       "  </tbody>\n",
       "</table>\n",
       "</div>"
      ],
      "text/plain": [
       "               count\n",
       "clinic_gender       \n",
       "Male             408\n",
       "Female           323"
      ]
     },
     "metadata": {},
     "output_type": "display_data"
    },
    {
     "name": "stdout",
     "output_type": "stream",
     "text": [
      "No nodules, with xml report but no xml nodules recorded: 32\n"
     ]
    },
    {
     "data": {
      "application/vnd.microsoft.datawrangler.viewer.v0+json": {
       "columns": [
        {
         "name": "clinic_ethnicity",
         "rawType": "object",
         "type": "string"
        },
        {
         "name": "count",
         "rawType": "int64",
         "type": "integer"
        }
       ],
       "conversionMethod": "pd.DataFrame",
       "ref": "94df1264-65c5-4600-ae4f-a9ddbc73cf4d",
       "rows": [
        [
         "White",
         "26"
        ],
        [
         "Black/ African/ Caribbean/ Black British",
         "4"
        ],
        [
         "Mixed or multiple ethnic groups",
         "1"
        ],
        [
         "Other ethnic group",
         "1"
        ]
       ],
       "shape": {
        "columns": 1,
        "rows": 4
       }
      },
      "text/html": [
       "<div>\n",
       "<style scoped>\n",
       "    .dataframe tbody tr th:only-of-type {\n",
       "        vertical-align: middle;\n",
       "    }\n",
       "\n",
       "    .dataframe tbody tr th {\n",
       "        vertical-align: top;\n",
       "    }\n",
       "\n",
       "    .dataframe thead th {\n",
       "        text-align: right;\n",
       "    }\n",
       "</style>\n",
       "<table border=\"1\" class=\"dataframe\">\n",
       "  <thead>\n",
       "    <tr style=\"text-align: right;\">\n",
       "      <th></th>\n",
       "      <th>count</th>\n",
       "    </tr>\n",
       "    <tr>\n",
       "      <th>clinic_ethnicity</th>\n",
       "      <th></th>\n",
       "    </tr>\n",
       "  </thead>\n",
       "  <tbody>\n",
       "    <tr>\n",
       "      <th>White</th>\n",
       "      <td>26</td>\n",
       "    </tr>\n",
       "    <tr>\n",
       "      <th>Black/ African/ Caribbean/ Black British</th>\n",
       "      <td>4</td>\n",
       "    </tr>\n",
       "    <tr>\n",
       "      <th>Mixed or multiple ethnic groups</th>\n",
       "      <td>1</td>\n",
       "    </tr>\n",
       "    <tr>\n",
       "      <th>Other ethnic group</th>\n",
       "      <td>1</td>\n",
       "    </tr>\n",
       "  </tbody>\n",
       "</table>\n",
       "</div>"
      ],
      "text/plain": [
       "                                          count\n",
       "clinic_ethnicity                               \n",
       "White                                        26\n",
       "Black/ African/ Caribbean/ Black British      4\n",
       "Mixed or multiple ethnic groups               1\n",
       "Other ethnic group                            1"
      ]
     },
     "metadata": {},
     "output_type": "display_data"
    },
    {
     "data": {
      "application/vnd.microsoft.datawrangler.viewer.v0+json": {
       "columns": [
        {
         "name": "clinic_gender",
         "rawType": "object",
         "type": "string"
        },
        {
         "name": "count",
         "rawType": "int64",
         "type": "integer"
        }
       ],
       "conversionMethod": "pd.DataFrame",
       "ref": "97a594bb-2928-4eb9-a1af-b5bb465b01bf",
       "rows": [
        [
         "Male",
         "22"
        ],
        [
         "Female",
         "10"
        ]
       ],
       "shape": {
        "columns": 1,
        "rows": 2
       }
      },
      "text/html": [
       "<div>\n",
       "<style scoped>\n",
       "    .dataframe tbody tr th:only-of-type {\n",
       "        vertical-align: middle;\n",
       "    }\n",
       "\n",
       "    .dataframe tbody tr th {\n",
       "        vertical-align: top;\n",
       "    }\n",
       "\n",
       "    .dataframe thead th {\n",
       "        text-align: right;\n",
       "    }\n",
       "</style>\n",
       "<table border=\"1\" class=\"dataframe\">\n",
       "  <thead>\n",
       "    <tr style=\"text-align: right;\">\n",
       "      <th></th>\n",
       "      <th>count</th>\n",
       "    </tr>\n",
       "    <tr>\n",
       "      <th>clinic_gender</th>\n",
       "      <th></th>\n",
       "    </tr>\n",
       "  </thead>\n",
       "  <tbody>\n",
       "    <tr>\n",
       "      <th>Male</th>\n",
       "      <td>22</td>\n",
       "    </tr>\n",
       "    <tr>\n",
       "      <th>Female</th>\n",
       "      <td>10</td>\n",
       "    </tr>\n",
       "  </tbody>\n",
       "</table>\n",
       "</div>"
      ],
      "text/plain": [
       "               count\n",
       "clinic_gender       \n",
       "Male              22\n",
       "Female            10"
      ]
     },
     "metadata": {},
     "output_type": "display_data"
    },
    {
     "name": "stdout",
     "output_type": "stream",
     "text": [
      "With nodules: 158\n"
     ]
    },
    {
     "data": {
      "application/vnd.microsoft.datawrangler.viewer.v0+json": {
       "columns": [
        {
         "name": "clinic_ethnicity",
         "rawType": "object",
         "type": "string"
        },
        {
         "name": "count",
         "rawType": "int64",
         "type": "integer"
        }
       ],
       "conversionMethod": "pd.DataFrame",
       "ref": "81f841df-852b-4c0c-9bd1-534fea358f72",
       "rows": [
        [
         "White",
         "133"
        ],
        [
         "Black/ African/ Caribbean/ Black British",
         "13"
        ],
        [
         "Other ethnic group",
         "9"
        ],
        [
         "Mixed or multiple ethnic groups",
         "2"
        ],
        [
         "Asian or Asian British",
         "1"
        ]
       ],
       "shape": {
        "columns": 1,
        "rows": 5
       }
      },
      "text/html": [
       "<div>\n",
       "<style scoped>\n",
       "    .dataframe tbody tr th:only-of-type {\n",
       "        vertical-align: middle;\n",
       "    }\n",
       "\n",
       "    .dataframe tbody tr th {\n",
       "        vertical-align: top;\n",
       "    }\n",
       "\n",
       "    .dataframe thead th {\n",
       "        text-align: right;\n",
       "    }\n",
       "</style>\n",
       "<table border=\"1\" class=\"dataframe\">\n",
       "  <thead>\n",
       "    <tr style=\"text-align: right;\">\n",
       "      <th></th>\n",
       "      <th>count</th>\n",
       "    </tr>\n",
       "    <tr>\n",
       "      <th>clinic_ethnicity</th>\n",
       "      <th></th>\n",
       "    </tr>\n",
       "  </thead>\n",
       "  <tbody>\n",
       "    <tr>\n",
       "      <th>White</th>\n",
       "      <td>133</td>\n",
       "    </tr>\n",
       "    <tr>\n",
       "      <th>Black/ African/ Caribbean/ Black British</th>\n",
       "      <td>13</td>\n",
       "    </tr>\n",
       "    <tr>\n",
       "      <th>Other ethnic group</th>\n",
       "      <td>9</td>\n",
       "    </tr>\n",
       "    <tr>\n",
       "      <th>Mixed or multiple ethnic groups</th>\n",
       "      <td>2</td>\n",
       "    </tr>\n",
       "    <tr>\n",
       "      <th>Asian or Asian British</th>\n",
       "      <td>1</td>\n",
       "    </tr>\n",
       "  </tbody>\n",
       "</table>\n",
       "</div>"
      ],
      "text/plain": [
       "                                          count\n",
       "clinic_ethnicity                               \n",
       "White                                       133\n",
       "Black/ African/ Caribbean/ Black British     13\n",
       "Other ethnic group                            9\n",
       "Mixed or multiple ethnic groups               2\n",
       "Asian or Asian British                        1"
      ]
     },
     "metadata": {},
     "output_type": "display_data"
    },
    {
     "data": {
      "application/vnd.microsoft.datawrangler.viewer.v0+json": {
       "columns": [
        {
         "name": "clinic_gender",
         "rawType": "object",
         "type": "string"
        },
        {
         "name": "count",
         "rawType": "int64",
         "type": "integer"
        }
       ],
       "conversionMethod": "pd.DataFrame",
       "ref": "fba5c21a-3910-4112-bc8d-be98e3076559",
       "rows": [
        [
         "Male",
         "91"
        ],
        [
         "Female",
         "67"
        ]
       ],
       "shape": {
        "columns": 1,
        "rows": 2
       }
      },
      "text/html": [
       "<div>\n",
       "<style scoped>\n",
       "    .dataframe tbody tr th:only-of-type {\n",
       "        vertical-align: middle;\n",
       "    }\n",
       "\n",
       "    .dataframe tbody tr th {\n",
       "        vertical-align: top;\n",
       "    }\n",
       "\n",
       "    .dataframe thead th {\n",
       "        text-align: right;\n",
       "    }\n",
       "</style>\n",
       "<table border=\"1\" class=\"dataframe\">\n",
       "  <thead>\n",
       "    <tr style=\"text-align: right;\">\n",
       "      <th></th>\n",
       "      <th>count</th>\n",
       "    </tr>\n",
       "    <tr>\n",
       "      <th>clinic_gender</th>\n",
       "      <th></th>\n",
       "    </tr>\n",
       "  </thead>\n",
       "  <tbody>\n",
       "    <tr>\n",
       "      <th>Male</th>\n",
       "      <td>91</td>\n",
       "    </tr>\n",
       "    <tr>\n",
       "      <th>Female</th>\n",
       "      <td>67</td>\n",
       "    </tr>\n",
       "  </tbody>\n",
       "</table>\n",
       "</div>"
      ],
      "text/plain": [
       "               count\n",
       "clinic_gender       \n",
       "Male              91\n",
       "Female            67"
      ]
     },
     "metadata": {},
     "output_type": "display_data"
    },
    {
     "name": "stdout",
     "output_type": "stream",
     "text": [
      "**************************************************\n",
      "Total number of nifti with xml: 144\n",
      "-Usable without nodules (Total_no_nods): 105\n",
      "-Usable with nodules (Total_no_nods): 39\n",
      "--Useable with nodules but Nod1_loc is Null: 8\n",
      "--Useable with nodules with xml scan info: 39\n",
      "--Useable with nodules with xml nodules: 38\n"
     ]
    }
   ],
   "source": [
    "import numpy as np\n",
    "def pixel_to_real_world(offset, spacing, pixel_value):\n",
    "    return offset + pixel_value * spacing\n",
    "\n",
    "annotations = pd.read_csv('annotations.csv')\n",
    "metaio_metadata = pd.read_csv('lung_metadata.csv').assign(scan_id=lambda x: x['scan_id'].str.replace('.mhd', ''))\n",
    "\n",
    "annotations = pd.merge(\n",
    "    metaio_metadata,\n",
    "    annotations,\n",
    "    left_on='scan_id',\n",
    "    right_on='ScananonID',\n",
    "    how='left'\n",
    ")\n",
    "\n",
    "annotations['Nod1_floc'] = annotations.apply(\n",
    "    lambda row: row['slices'] - row['Nod1_loc'] if pd.notnull(row['Nod1_loc']) else None, axis=1\n",
    ")\n",
    "\n",
    "annotations['Nod2_floc'] = annotations.apply(\n",
    "    lambda row: row['slices'] - row['Nod2_loc'] if pd.notnull(row['Nod2_loc']) else None, axis=1\n",
    ")\n",
    "    \n",
    "annotations['Nod1_real_world'] = annotations.apply(\n",
    "    lambda row: pixel_to_real_world(row['z-offset'], row['z-spacing'], row['Nod1_floc']) if pd.notnull(row['Nod1_floc']) else (None), axis=1\n",
    ")\n",
    "\n",
    "annotations['Nod2_real_world'] = annotations.apply(\n",
    "    lambda row: pixel_to_real_world(row['z-offset'], row['z-spacing'], row['Nod2_floc']) if pd.notnull(row['Nod2_floc']) else (None), axis=1\n",
    ")\n",
    "\n",
    "\n",
    "annotations['Reader'] = np.random.choice([1, 2], size=len(annotations), p=[0.5, 0.5])\n",
    "\n",
    "print('Total number of annotations:', annotations.shape[0])\n",
    "print('Total number of scans with soft reconstructions:', soft_metadata.shape[0])\n",
    "print('Total number of scans saved to nifti (Useable):', lung_listings.shape[0])\n",
    "\n",
    "with_nodule_annotation_uids = set(annotations.query('Total_no_nods > 0')['ScananonID'])\n",
    "display(annotations.query('ScananonID in @with_nodule_annotation_uids')['clinic_ethnicity'].value_counts())\n",
    "display(annotations.query('ScananonID in @with_nodule_annotation_uids')['clinic_gender'].value_counts())\n",
    "\n",
    "no_nodule_annotation_uids = set(annotations.query('Total_no_nods == 0')['ScananonID'])\n",
    "xml_nodule_patient_uids = set(xml_nodule_data['PatientUID'])\n",
    "\n",
    "print('No nodules, with xml report:', len(no_nodule_annotation_uids.intersection(xml_nodule_patient_uids)))\n",
    "double_negative_uids = list(no_nodule_annotation_uids.intersection(xml_patient_uids) - xml_nodule_patient_uids)\n",
    "\n",
    "print('Whole sample')\n",
    "display(pd.DataFrame(annotations['clinic_ethnicity'].value_counts()))\n",
    "display(pd.DataFrame(annotations['clinic_gender'].value_counts()))\n",
    "\n",
    "print('No nodules, with xml report but no xml nodules recorded:', len(no_nodule_annotation_uids.intersection(xml_patient_uids) - xml_nodule_patient_uids))\n",
    "display(pd.DataFrame(annotations.query('ScananonID in @double_negative_uids')['clinic_ethnicity'].value_counts()))\n",
    "display(pd.DataFrame(annotations.query('ScananonID in @double_negative_uids')['clinic_gender'].value_counts()))\n",
    "\n",
    "print('With nodules:', len(with_nodule_annotation_uids))\n",
    "display(pd.DataFrame(annotations.query('ScananonID in @with_nodule_annotation_uids')['clinic_ethnicity'].value_counts()))\n",
    "display(pd.DataFrame(annotations.query('ScananonID in @with_nodule_annotation_uids')['clinic_gender'].value_counts()))\n",
    "\n",
    "nifti_patient_uids = set(lung_listings['patient_uid'])\n",
    "usable_patient_uids = nifti_patient_uids.intersection(xml_patient_uids)\n",
    "annotations = annotations.query('ScananonID in @usable_patient_uids')\n",
    "\n",
    "print('*' * 50)\n",
    "print('Total number of nifti with xml:', len(usable_patient_uids))\n",
    "\n",
    "\n",
    "print('-Usable without nodules (Total_no_nods):', annotations.query('Total_no_nods == 0').shape[0])\n",
    "print('-Usable with nodules (Total_no_nods):', annotations.query('Total_no_nods > 0').shape[0])\n",
    "print('--Useable with nodules but Nod1_loc is Null:', annotations.query('Total_no_nods > 0 and Nod1_loc.isnull()').shape[0])\n",
    "\n",
    "scans_with_xml_scan_info = set(annotations.query('Total_no_nods > 0')['ScananonID']).intersection(xml_scan_data['ImageInfo.PatientUID'])\n",
    "print('--Useable with nodules with xml scan info:', len(scans_with_xml_scan_info))\n",
    "\n",
    "scans_with_xml_nodules = set(annotations.query('Total_no_nods > 0')['ScananonID']).intersection(xml_nodule_data['PatientUID'])\n",
    "print('--Useable with nodules with xml nodules:', len(scans_with_xml_nodules))"
   ]
  },
  {
   "cell_type": "code",
   "execution_count": 8,
   "metadata": {},
   "outputs": [
    {
     "name": "stdout",
     "output_type": "stream",
     "text": [
      "\n",
      "Reader 1 samples with nodules: 23\n",
      "Reader 1 samples without nodule annotations: 6\n",
      "Reader 1 samples with nodules but no xml nodules: 1\n",
      "\n",
      "Reader 2 samples with nodules: 16\n",
      "Reader 2 samples without nodule annotations: 2\n",
      "Reader 2 samples with nodules but no xml nodules: 0\n",
      "\n"
     ]
    },
    {
     "data": {
      "text/plain": [
       "clinic_ethnicity\n",
       "White                                       122\n",
       "Black/ African/ Caribbean/ Black British     13\n",
       "Other ethnic group                            7\n",
       "Mixed or multiple ethnic groups               2\n",
       "Name: count, dtype: int64"
      ]
     },
     "metadata": {},
     "output_type": "display_data"
    },
    {
     "data": {
      "text/plain": [
       "clinic_ethnicity\n",
       "White                                       34\n",
       "Black/ African/ Caribbean/ Black British     2\n",
       "Other ethnic group                           2\n",
       "Mixed or multiple ethnic groups              1\n",
       "Name: count, dtype: int64"
      ]
     },
     "metadata": {},
     "output_type": "display_data"
    },
    {
     "data": {
      "text/plain": [
       "clinic_gender\n",
       "Male      23\n",
       "Female    16\n",
       "Name: count, dtype: int64"
      ]
     },
     "metadata": {},
     "output_type": "display_data"
    }
   ],
   "source": [
    "\n",
    "np.random.seed(42)  # For reproducibility\n",
    "\n",
    "\n",
    "reader1_nodule_samples = annotations.query('Total_no_nods > 0 and Reader == 1')\n",
    "reader2_nodule_samples = annotations.query('Total_no_nods > 0 and Reader == 2')\n",
    "\n",
    "\n",
    "print()\n",
    "print('Reader 1 samples with nodules:',len(reader1_nodule_samples))\n",
    "print('Reader 1 samples without nodule annotations:',len(reader1_nodule_samples.query('Nod1_loc.isnull()')))\n",
    "print('Reader 1 samples with nodules but no xml nodules:',len(reader1_nodule_samples.query('ScananonID not in @scans_with_xml_nodules')))\n",
    "\n",
    "\n",
    "print()\n",
    "print('Reader 2 samples with nodules:',len(reader2_nodule_samples))\n",
    "print('Reader 2 samples without nodule annotations:',len(reader2_nodule_samples.query('Nod1_loc.isnull()')))\n",
    "print('Reader 2 samples with nodules but no xml nodules:',len(reader2_nodule_samples.query('ScananonID not in @scans_with_xml_nodules')))\n",
    "\n",
    "print()\n",
    "\n",
    "display(annotations.clinic_ethnicity.value_counts())\n",
    "display(pd.concat([reader1_nodule_samples,reader2_nodule_samples]).clinic_ethnicity.value_counts())\n",
    "display(pd.concat([reader1_nodule_samples,reader2_nodule_samples]).clinic_gender.value_counts())"
   ]
  },
  {
   "cell_type": "code",
   "execution_count": 15,
   "metadata": {},
   "outputs": [],
   "source": [
    "\n",
    "import json\n",
    "def generate_json_markup(nodule_data):\n",
    "\n",
    "    slicer_markup = {\n",
    "    \"@schema\": \"https://raw.githubusercontent.com/slicer/slicer/master/Modules/Loadable/Markups/Resources/Schema/markups-schema-v1.0.3.json#\",\n",
    "    \"markups\": [\n",
    "        {\n",
    "            \"type\": \"Fiducial\",\n",
    "            \"coordinateSystem\": \"LPS\",\n",
    "            \"coordinateUnits\": \"mm\",\n",
    "            \"locked\": False,\n",
    "            \"fixedNumberOfControlPoints\": False,\n",
    "            \"labelFormat\": \"%N-%d\",\n",
    "            \"lastUsedControlPointNumber\": 1,\n",
    "            \"controlPoints\": [\n",
    "                {\n",
    "                    \"id\": f\"{nodule.ID}\",\n",
    "                    \"label\": f\"F-{i}\",\n",
    "                    \"description\": f\"{nodule.ID}\",\n",
    "                    \"associatedNodeID\": \"vtkMRMLScalarVolumeNode1\",\n",
    "                    \"position\": [\n",
    "                        nodule.X,\n",
    "                        nodule.Y,\n",
    "                        nodule.Z\n",
    "                    ],\n",
    "                    \"orientation\": [\n",
    "                        -1.0,\n",
    "                        -0.0,\n",
    "                        -0.0,\n",
    "                        -0.0,\n",
    "                        -1.0,\n",
    "                        -0.0,\n",
    "                        0.0,\n",
    "                        0.0,\n",
    "                        1.0\n",
    "                    ],\n",
    "                    \"selected\": True,\n",
    "                    \"locked\": False,\n",
    "                    \"visibility\": True,\n",
    "                    \"positionStatus\": \"defined\"\n",
    "                }\n",
    "                for i, nodule in enumerate(nodule_data.itertuples())\n",
    "            ],\n",
    "            \"measurements\": [],\n",
    "            \"display\": {\n",
    "                \"visibility\": True,\n",
    "                \"opacity\": 1.0,\n",
    "                \"color\": [\n",
    "                    0.4,\n",
    "                    1.0,\n",
    "                    1.0\n",
    "                ],\n",
    "                \"selectedColor\": [\n",
    "                    1.0,\n",
    "                    0.5000076295109483,\n",
    "                    0.5000076295109483\n",
    "                ],\n",
    "                \"activeColor\": [\n",
    "                    0.4,\n",
    "                    1.0,\n",
    "                    0.0\n",
    "                ],\n",
    "                \"propertiesLabelVisibility\": False,\n",
    "                \"pointLabelsVisibility\": True,\n",
    "                \"textScale\": 3.0,\n",
    "                \"glyphType\": \"Sphere3D\",\n",
    "                \"glyphScale\": 3.0,\n",
    "                \"glyphSize\": 5.0,\n",
    "                \"useGlyphScale\": True,\n",
    "                \"sliceProjection\": False,\n",
    "                \"sliceProjectionUseFiducialColor\": True,\n",
    "                \"sliceProjectionOutlinedBehindSlicePlane\": False,\n",
    "                \"sliceProjectionColor\": [\n",
    "                    1.0,\n",
    "                    1.0,\n",
    "                    1.0\n",
    "                ],\n",
    "                \"sliceProjectionOpacity\": 0.6,\n",
    "                \"lineThickness\": 0.2,\n",
    "                \"lineColorFadingStart\": 1.0,\n",
    "                \"lineColorFadingEnd\": 10.0,\n",
    "                \"lineColorFadingSaturation\": 1.0,\n",
    "                \"lineColorFadingHueOffset\": 0.0,\n",
    "                \"handlesInteractive\": False,\n",
    "                \"translationHandleVisibility\": True,\n",
    "                \"rotationHandleVisibility\": True,\n",
    "                \"scaleHandleVisibility\": False,\n",
    "                \"interactionHandleScale\": 3.0,\n",
    "                \"snapMode\": \"toVisibleSurface\"\n",
    "            }\n",
    "        }\n",
    "    ]\n",
    "}   \n",
    "    return slicer_markup\n",
    "\n",
    "import subprocess\n",
    "def copy_from_cluster(patient_uid, destination_path):\n",
    "    subprocess.run(\n",
    "        [\n",
    "            \"scp\", \n",
    "            f\"jmccabe@little:/cluster/project0/lung-triage/lsut/detection/{patient_uid}/{patient_uid}.nii.gz\",\n",
    "            f\"{destination_path}/.\"\n",
    "        ],\n",
    "        check=True\n",
    "    )\n",
    "\n",
    "for patient_uid in list(reader1_nodule_samples['ScananonID'].unique()) + list(reader2_nodule_samples['ScananonID'].unique()):\n",
    "    markup_json = generate_json_markup(xml_nodule_data.query(f\"PatientUID == '{patient_uid}'\"))\n",
    "    reader = 'reader1' if patient_uid in reader1_nodule_samples['ScananonID'].unique() else 'reader2'\n",
    "\n",
    "\n",
    "    Path(f'RadiologistReview/tranche2/{reader}').mkdir(parents=True, exist_ok=True)\n",
    "\n",
    "    copy_from_cluster(patient_uid, f'RadiologistReview/tranche2/{reader}')\n",
    "    json.dump(markup_json, open(f'RadiologistReview/tranche2/{reader}/{patient_uid}.json', 'w'), indent=4)\n",
    "    "
   ]
  },
  {
   "cell_type": "code",
   "execution_count": null,
   "metadata": {},
   "outputs": [],
   "source": []
  }
 ],
 "metadata": {
  "kernelspec": {
   "display_name": "summit",
   "language": "python",
   "name": "python3"
  },
  "language_info": {
   "codemirror_mode": {
    "name": "ipython",
    "version": 3
   },
   "file_extension": ".py",
   "mimetype": "text/x-python",
   "name": "python",
   "nbconvert_exporter": "python",
   "pygments_lexer": "ipython3",
   "version": "3.10.13"
  }
 },
 "nbformat": 4,
 "nbformat_minor": 2
}
