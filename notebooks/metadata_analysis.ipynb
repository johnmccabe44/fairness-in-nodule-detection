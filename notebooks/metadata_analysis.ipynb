{
 "cells": [
  {
   "cell_type": "code",
   "execution_count": 47,
   "metadata": {},
   "outputs": [
    {
     "data": {
      "text/html": [
       "<div>\n",
       "<style scoped>\n",
       "    .dataframe tbody tr th:only-of-type {\n",
       "        vertical-align: middle;\n",
       "    }\n",
       "\n",
       "    .dataframe tbody tr th {\n",
       "        vertical-align: top;\n",
       "    }\n",
       "\n",
       "    .dataframe thead th {\n",
       "        text-align: right;\n",
       "    }\n",
       "</style>\n",
       "<table border=\"1\" class=\"dataframe\">\n",
       "  <thead>\n",
       "    <tr style=\"text-align: right;\">\n",
       "      <th>combined</th>\n",
       "      <th>1.0</th>\n",
       "      <th>2.0</th>\n",
       "      <th>3.0</th>\n",
       "    </tr>\n",
       "    <tr>\n",
       "      <th>tp</th>\n",
       "      <th></th>\n",
       "      <th></th>\n",
       "      <th></th>\n",
       "    </tr>\n",
       "  </thead>\n",
       "  <tbody>\n",
       "    <tr>\n",
       "      <th>Y0_BASELINE_A.mhd</th>\n",
       "      <td>858</td>\n",
       "      <td>4944</td>\n",
       "      <td>5359</td>\n",
       "    </tr>\n",
       "    <tr>\n",
       "      <th>Y0_NODULE_FOLLOWUP_3M.mhd</th>\n",
       "      <td>731</td>\n",
       "      <td>116</td>\n",
       "      <td>1017</td>\n",
       "    </tr>\n",
       "    <tr>\n",
       "      <th>Y0_NODULE_FOLLOWUP_6M.mhd</th>\n",
       "      <td>77</td>\n",
       "      <td>1</td>\n",
       "      <td>20</td>\n",
       "    </tr>\n",
       "    <tr>\n",
       "      <th>Y1_ALWAYS_SCAN_A.mhd</th>\n",
       "      <td>1386</td>\n",
       "      <td>102</td>\n",
       "      <td>167</td>\n",
       "    </tr>\n",
       "    <tr>\n",
       "      <th>Y1_NODULE_FOLLOWUP_3M.mhd</th>\n",
       "      <td>268</td>\n",
       "      <td>0</td>\n",
       "      <td>0</td>\n",
       "    </tr>\n",
       "    <tr>\n",
       "      <th>Y1_NODULE_FOLLOWUP_6M.mhd</th>\n",
       "      <td>26</td>\n",
       "      <td>0</td>\n",
       "      <td>0</td>\n",
       "    </tr>\n",
       "    <tr>\n",
       "      <th>Y1_RANDOMISATION.mhd</th>\n",
       "      <td>2966</td>\n",
       "      <td>16</td>\n",
       "      <td>306</td>\n",
       "    </tr>\n",
       "    <tr>\n",
       "      <th>Y2.mhd</th>\n",
       "      <td>2277</td>\n",
       "      <td>0</td>\n",
       "      <td>0</td>\n",
       "    </tr>\n",
       "    <tr>\n",
       "      <th>Y2_NODULE_FOLLOWUP_3M.mhd</th>\n",
       "      <td>73</td>\n",
       "      <td>0</td>\n",
       "      <td>0</td>\n",
       "    </tr>\n",
       "  </tbody>\n",
       "</table>\n",
       "</div>"
      ],
      "text/plain": [
       "combined                    1.0   2.0   3.0\n",
       "tp                                         \n",
       "Y0_BASELINE_A.mhd           858  4944  5359\n",
       "Y0_NODULE_FOLLOWUP_3M.mhd   731   116  1017\n",
       "Y0_NODULE_FOLLOWUP_6M.mhd    77     1    20\n",
       "Y1_ALWAYS_SCAN_A.mhd       1386   102   167\n",
       "Y1_NODULE_FOLLOWUP_3M.mhd   268     0     0\n",
       "Y1_NODULE_FOLLOWUP_6M.mhd    26     0     0\n",
       "Y1_RANDOMISATION.mhd       2966    16   306\n",
       "Y2.mhd                     2277     0     0\n",
       "Y2_NODULE_FOLLOWUP_3M.mhd    73     0     0"
      ]
     },
     "metadata": {},
     "output_type": "display_data"
    },
    {
     "data": {
      "text/plain": [
       "(5289, 8)"
      ]
     },
     "metadata": {},
     "output_type": "display_data"
    },
    {
     "data": {
      "text/plain": [
       "<Axes: >"
      ]
     },
     "execution_count": 47,
     "metadata": {},
     "output_type": "execute_result"
    },
    {
     "data": {
      "image/png": "[encoded data removed]",
      "text/plain": [
       "<Figure size 640x480 with 1 Axes>"
      ]
     },
     "metadata": {},
     "output_type": "display_data"
    }
   ],
   "source": [
    "from matplotlib import use\n",
    "import numpy as np\n",
    "import pandas as pd\n",
    "\n",
    "\n",
    "def read_metadata(file_name):\n",
    "    md = pd.read_csv(file_name)\n",
    "    md.head()\n",
    "\n",
    "\n",
    "    return md\n",
    "\n",
    "lung50_md = read_metadata('lung50_metadata.csv').assign(lung=1)\n",
    "veolity_md = read_metadata('veolity_metadata.csv').assign(veolity=2)\n",
    "\n",
    "lung50_md.shape, veolity_md.shape\n",
    "\n",
    "combined = (\n",
    "    lung50_md[['scan_id','slices','lung']].merge(\n",
    "        veolity_md[['scan_id','slices','veolity']],\n",
    "        how='outer',\n",
    "        left_on='scan_id',\n",
    "        right_on='scan_id',\n",
    "        suffixes=['_1', '_2']\n",
    "    )\n",
    "    .fillna(0)\n",
    "    .assign(tp=lambda df: df.scan_id.str.split('_',n=1).str[-1])\n",
    "    .assign(diff_in_slices=lambda df: df.slices_1-df.slices_2))\n",
    "\n",
    "\n",
    "display(pd.crosstab(\n",
    "    combined.tp,\n",
    "    combined.combined\n",
    "))\n",
    "\n",
    "combined[combined.tp=='Y0_BASELINE_A.mhd'].diff_in_slices.value_counts()\n",
    "\n",
    "useable = combined[(combined.tp=='Y0_BASELINE_A.mhd')&(combined.diff_in_slices==0)]\n",
    "\n",
    "display(useable.shape)\n",
    "useable.slices_1.hist()"
   ]
  }
 ],
 "metadata": {
  "kernelspec": {
   "display_name": "summit",
   "language": "python",
   "name": "python3"
  },
  "language_info": {
   "codemirror_mode": {
    "name": "ipython",
    "version": 3
   },
   "file_extension": ".py",
   "mimetype": "text/x-python",
   "name": "python",
   "nbconvert_exporter": "python",
   "pygments_lexer": "ipython3",
   "version": "3.11.4"
  },
  "orig_nbformat": 4
 },
 "nbformat": 4,
 "nbformat_minor": 2
}
