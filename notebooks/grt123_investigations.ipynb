{
 "cells": [
  {
   "cell_type": "code",
   "execution_count": null,
   "metadata": {},
   "outputs": [],
   "source": [
    "import matplotlib.patches as patches\n",
    "import matplotlib.pyplot as plt\n",
    "import numpy as np\n",
    "import pandas as pd\n",
    "import sys\n",
    "sys.path.append('/Users/john/Projects/SOTAEvaluationNoduleDetection/models/grt123')\n",
    "sys.path.append('/Users/john/Projects/SOTAEvaluationNoduleDetection/models/grt123/training')\n",
    "sys.path.append('/Users/john/Projects/SOTAEvaluationNoduleDetection/models/grt123/preprocessing/')\n",
    "from layers import nms,iou\n",
    "\n",
    "%matplotlib inline"
   ]
  },
  {
   "cell_type": "code",
   "execution_count": null,
   "metadata": {},
   "outputs": [],
   "source": [
    "\"\"\"\n",
    "\n",
    "double check that the process for creating the clan data is the same for\n",
    "dicom and mhd; this verifies the process before moving to the cluster\n",
    "\n",
    "\"\"\"\n",
    "dic_clean = np.load('/Users/john/Projects/SOTAEvaluationNoduleDetection/models/grt123/prep_result/dicom/summit-2264-sze_Y0_BASELINE_A_clean.npy')\n",
    "mhd_clean = np.load('/Users/john/Projects/SOTAEvaluationNoduleDetection/models/grt123/prep_result/mhd/summit-2264-sze_Y0_BASELINE_A_clean.npy')\n",
    "\n",
    "dic_lbl = np.load('/Users/john/Projects/SOTAEvaluationNoduleDetection/models/grt123/bbox_result/dicom/summit-2264-sze_Y0_BASELINE_A_lbb.npy')\n",
    "mhd_lbl = np.load('/Users/john/Projects/SOTAEvaluationNoduleDetection/models/grt123/bbox_result/mhd/summit-2264-sze_Y0_BASELINE_A_lbb.npy')\n",
    "\n",
    "dic_pbb = np.load('/Users/john/Projects/SOTAEvaluationNoduleDetection/models/grt123/bbox_result/dicom/summit-2264-sze_Y0_BASELINE_A_pbb.npy')\n",
    "mhd_pbb = np.load('/Users/john/Projects/SOTAEvaluationNoduleDetection/models/grt123/bbox_result/mhd/summit-2264-sze_Y0_BASELINE_A_pbb.npy')\n",
    "\n",
    "print('Do the _clean numpy arrays from mhd and dicom match?', np.array_equal(dic_clean, mhd_clean))\n",
    "print('Do the _label numpy arrays from mhd and dicom match?', np.array_equal(dic_lbl, mhd_lbl))\n",
    "print('Do the _pbb numpy arrays from mhd and dicom match?', np.array_equal(dic_pbb, mhd_pbb))"
   ]
  },
  {
   "cell_type": "code",
   "execution_count": null,
   "metadata": {},
   "outputs": [],
   "source": [
    "# find a scan that has been downloaded\n",
    "import os\n",
    "\n",
    "BBOX_PATH = '/Users/john/Projects/SOTAEvaluationNoduleDetection/models/grt123/bbox_result'\n",
    "list_test_scans = [\n",
    "    os.path.join(BBOX_PATH, lbb) \n",
    "    for lbb in os.listdir(BBOX_PATH) \n",
    "    if lbb.endswith('_lbb.npy') and \\\n",
    "        lbb.split('_',1)[0] in os.listdir('/Users/john/Projects/SOTAEvaluationNoduleDetection/scans/lung50')\n",
    "    ]\n",
    "\n",
    "\n",
    "list_test_scans"
   ]
  },
  {
   "cell_type": "code",
   "execution_count": null,
   "metadata": {},
   "outputs": [],
   "source": [
    "\"\"\"\n",
    "check the lbb and pbb pulled from cluster to check that things are consistent with\n",
    "what was produced locally\n",
    "\n",
    "\"\"\"\n",
    "from utils import *\n",
    "\n",
    "stem = 'summit-7895-qcw'\n",
    "\n",
    "lbl = np.load(f'{BBOX_PATH}/{stem}_Y0_BASELINE_A_lbb.npy')\n",
    "pbb = np.load(f'{BBOX_PATH}/{stem}_Y0_BASELINE_A_pbb.npy')\n",
    "pbb = nms(pbb,0.05)\n",
    "pbb = pbb[pbb[:,0]>-1]\n",
    "\n",
    "lbl_local = np.load(f'{BBOX_PATH}/mhd/{stem}_Y0_BASELINE_A_lbb.npy')\n",
    "pbb_local = np.load(f'{BBOX_PATH}/mhd/{stem}_Y0_BASELINE_A_pbb.npy')\n",
    "pbb_local = nms(pbb_local,0.05)\n",
    "pbb_local = pbb_local[pbb_local[:,0]>-1]\n",
    "\n",
    "print(np.array_equal(lbl_local, lbl))\n",
    "print(np.array_equal(np.int16(pbb_local), np.int16(pbb)))"
   ]
  }
 ],
 "metadata": {
  "language_info": {
   "name": "python"
  },
  "orig_nbformat": 4
 },
 "nbformat": 4,
 "nbformat_minor": 2
}
