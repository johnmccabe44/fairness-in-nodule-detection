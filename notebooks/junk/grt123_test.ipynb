{
 "cells": [
  {
   "cell_type": "code",
   "execution_count": 2,
   "metadata": {},
   "outputs": [
    {
     "data": {
      "text/plain": [
       "[('/Users/john/Projects/SOTAEvaluationNoduleDetection/scans/lung50/summit-9769-yta',\n",
       "  [],\n",
       "  ['summit-9769-yta_Y0_BASELINE_A.zraw', 'summit-9769-yta_Y0_BASELINE_A.mhd'])]"
      ]
     },
     "execution_count": 2,
     "metadata": {},
     "output_type": "execute_result"
    }
   ],
   "source": [
    "import os\n",
    "import pandas\n",
    "\n",
    "config = {\n",
    "    'metadatapath' : '/Users/john/Projects/SOTAEvaluationNoduleDetection/output/metadata',\n",
    "    'datapath':'/Users/john/Projects/SOTAEvaluationNoduleDetection/scans/lung50',\n",
    "    'preprocess_result_path':'./prep_result/',\n",
    "    'outputfile':'prediction.csv',\n",
    "    'detector_model':'net_detector',\n",
    "    'detector_param':'./model/detector.ckpt',\n",
    "    'classifier_model':'net_classifier',\n",
    "    'classifier_param':'./model/classifier.ckpt',\n",
    "    'n_gpu':1,\n",
    "    'n_worker_preprocessing':None,\n",
    "    'use_exsiting_preprocessing':False,\n",
    "    'skip_preprocessing':False,\n",
    "    'skip_detect':False\n",
    "}\n",
    "metadatapath = config['metadatapath']\n",
    "datapath = config['datapath']\n",
    "prep_result_path = config['preprocess_result_path']\n",
    "skip_prep = config['skip_preprocessing']\n",
    "skip_detect = config['skip_detect']"
   ]
  },
  {
   "cell_type": "code",
   "execution_count": 27,
   "metadata": {},
   "outputs": [],
   "source": [
    "import numpy as np\n",
    "import os\n",
    "import pydicom\n",
    "import SimpleITK as sitk\n",
    "\n",
    "def load_scan(path):\n",
    "    slices = [pydicom.read_file(path + '/' + s) for s in os.listdir(path)]\n",
    "    slices.sort(key = lambda x: float(x.ImagePositionPatient[2]))\n",
    "    if slices[0].ImagePositionPatient[2] == slices[1].ImagePositionPatient[2]:\n",
    "        sec_num = 2;\n",
    "        while slices[0].ImagePositionPatient[2] == slices[sec_num].ImagePositionPatient[2]:\n",
    "            sec_num = sec_num+1;\n",
    "        slice_num = int(len(slices) / sec_num)\n",
    "        slices.sort(key = lambda x:float(x.InstanceNumber))\n",
    "        slices = slices[0:slice_num]\n",
    "        slices.sort(key = lambda x:float(x.ImagePositionPatient[2]))\n",
    "    try:\n",
    "        slice_thickness = np.abs(slices[0].ImagePositionPatient[2] - slices[1].ImagePositionPatient[2])\n",
    "    except:\n",
    "        slice_thickness = np.abs(slices[0].SliceLocation - slices[1].SliceLocation)\n",
    "        \n",
    "    for s in slices:\n",
    "        s.SliceThickness = slice_thickness\n",
    "        \n",
    "    return slices\n",
    "\n",
    "def get_pixels_hu(slices):\n",
    "    image = np.stack([s.pixel_array for s in slices])\n",
    "    # Convert to int16 (from sometimes int16), \n",
    "    # should be possible as values should always be low enough (<32k)\n",
    "    image = image.astype(np.int16)\n",
    "    \n",
    "    # Convert to Hounsfield units (HU)\n",
    "    for slice_number in range(len(slices)):        \n",
    "        intercept = slices[slice_number].RescaleIntercept\n",
    "        slope = slices[slice_number].RescaleSlope\n",
    "        \n",
    "        if slope != 1:\n",
    "            image[slice_number] = slope * image[slice_number].astype(np.float64)\n",
    "            image[slice_number] = image[slice_number].astype(np.int16)\n",
    "            \n",
    "        image[slice_number] += np.int16(intercept)\n",
    "    \n",
    "    return np.array(image, dtype=np.int16), np.array([slices[0].SliceThickness] + list(slices[0].PixelSpacing), dtype=np.float32)\n",
    "\n",
    "\n",
    "def load_metaio_scan(path):\n",
    "    \"\"\"\n",
    "    Loads the scan from raw. Keeps all properties as part of the slices. \n",
    "    \"\"\"\n",
    "\n",
    "    # unique identifier can be found from file name\n",
    "    scan_uid = os.path.basename(path).split('.')[0]\n",
    "\n",
    "    # read in the scan\n",
    "    metadata = sitk.ReadImage(path+'.mhd')\n",
    "    image = np.array(sitk.GetArrayFromImage(metadata), dtype=np.int16)\n",
    "    # Pull out the salient bits of info needed\n",
    "    origin = np.array(metadata.GetOrigin(), dtype=np.float32)[::-1]\n",
    "    voxel_size = np.array(metadata.GetSpacing(),dtype=np.float32)[::-1]\n",
    "    orientation = np.array(metadata.GetDirection(),dtype=np.float32)\n",
    "\n",
    "    return image, voxel_size, origin, orientation\n"
   ]
  },
  {
   "cell_type": "code",
   "execution_count": 30,
   "metadata": {},
   "outputs": [
    {
     "data": {
      "text/plain": [
       "numpy.ndarray"
      ]
     },
     "metadata": {},
     "output_type": "display_data"
    },
    {
     "data": {
      "text/plain": [
       "(475, 512, 512)"
      ]
     },
     "metadata": {},
     "output_type": "display_data"
    },
    {
     "data": {
      "text/plain": [
       "dtype('int16')"
      ]
     },
     "metadata": {},
     "output_type": "display_data"
    },
    {
     "data": {
      "text/plain": [
       "numpy.ndarray"
      ]
     },
     "metadata": {},
     "output_type": "display_data"
    },
    {
     "data": {
      "text/plain": [
       "array([0.625   , 0.748047, 0.748047], dtype=float32)"
      ]
     },
     "metadata": {},
     "output_type": "display_data"
    },
    {
     "data": {
      "text/plain": [
       "dtype('float32')"
      ]
     },
     "metadata": {},
     "output_type": "display_data"
    },
    {
     "data": {
      "text/plain": [
       "numpy.ndarray"
      ]
     },
     "metadata": {},
     "output_type": "display_data"
    },
    {
     "data": {
      "text/plain": [
       "(475, 512, 512)"
      ]
     },
     "metadata": {},
     "output_type": "display_data"
    },
    {
     "data": {
      "text/plain": [
       "dtype('int16')"
      ]
     },
     "metadata": {},
     "output_type": "display_data"
    },
    {
     "data": {
      "text/plain": [
       "numpy.ndarray"
      ]
     },
     "metadata": {},
     "output_type": "display_data"
    },
    {
     "data": {
      "text/plain": [
       "array([0.625   , 0.748047, 0.748047], dtype=float32)"
      ]
     },
     "metadata": {},
     "output_type": "display_data"
    },
    {
     "data": {
      "text/plain": [
       "dtype('float32')"
      ]
     },
     "metadata": {},
     "output_type": "display_data"
    },
    {
     "data": {
      "text/plain": [
       "(True, True)"
      ]
     },
     "execution_count": 30,
     "metadata": {},
     "output_type": "execute_result"
    }
   ],
   "source": [
    "\"\"\"\n",
    "experiment to validate that loading a metaio scan results in the \n",
    "same output as the existing code for reading a dicom file\n",
    "\"\"\"\n",
    "case_path = '/Users/john/Projects/SOTAEvaluationNoduleDetection/scans/lung50/summit-2264-sze/summit-2264-sze_Y0_BASELINE_A/scans/3-SUMMIT_Lung_ASiR_V_50_/resources/DICOM/files'\n",
    "case = load_scan(case_path)\n",
    "case_pixels_1, spacing_1 = get_pixels_hu(case)\n",
    "\n",
    "case_path_2 = '/Users/john/Projects/SOTAEvaluationNoduleDetection/scans/lung50/summit-2264-sze/summit-2264-sze_Y0_BASELINE_A'\n",
    "case_pixels_2, spacing_2, origin_2, orientation_2 = load_metaio_scan(case_path_2)\n",
    "\n",
    "np.array_equal(case_pixels_1, case_pixels_2), np.array_equal(spacing_1, spacing_2)\n"
   ]
  },
  {
   "cell_type": "code",
   "execution_count": 6,
   "metadata": {},
   "outputs": [
    {
     "data": {
      "text/plain": [
       "array([[ -1.0058006 ,   9.34499563,  61.63537601,  25.57677225,\n",
       "          9.47987399],\n",
       "       [ -1.60796082,   9.50708356,  65.0438125 ,  25.25533536,\n",
       "          9.49339826],\n",
       "       [ -2.14207435,   9.29750488,  93.51342486, 297.32727012,\n",
       "          8.85282339],\n",
       "       ...,\n",
       "       [ -1.76541555, 161.40352019, 121.06568811, 214.43193464,\n",
       "          8.25465564],\n",
       "       [  2.08258772, 161.6329742 , 121.0517908 , 217.18792478,\n",
       "          8.36213585],\n",
       "       [ -1.09013808, 165.1447904 , 121.34341612, 217.28486838,\n",
       "          8.5587367 ]])"
      ]
     },
     "execution_count": 6,
     "metadata": {},
     "output_type": "execute_result"
    }
   ],
   "source": [
    "\"\"\"\n",
    "\n",
    "review the nodule prediction files\n",
    "\n",
    "\"\"\"\n",
    "import numpy as np\n",
    "\n",
    "lbb = np.load('/Users/john/Projects/SOTAEvaluationNoduleDetection/models/grt123/bbox_result/summit-2264-sze_Y0_BASELINE_A_lbb.npy')\n",
    "pbb = np.load('/Users/john/Projects/SOTAEvaluationNoduleDetection/models/grt123/bbox_result/summit-2264-sze_Y0_BASELINE_A_pbb.npy')\n",
    "\n",
    "pbb\n"
   ]
  },
  {
   "cell_type": "code",
   "execution_count": 6,
   "metadata": {},
   "outputs": [
    {
     "ename": "AssertionError",
     "evalue": "Error: index: 0, input_size: 10 is not divisiable by stride:4, file:harry",
     "output_type": "error",
     "traceback": [
      "\u001b[0;31m---------------------------------------------------------------------------\u001b[0m",
      "\u001b[0;31mAssertionError\u001b[0m                            Traceback (most recent call last)",
      "Cell \u001b[0;32mIn[6], line 6\u001b[0m\n\u001b[1;32m      3\u001b[0m stride \u001b[39m=\u001b[39m \u001b[39m4\u001b[39m\n\u001b[1;32m      4\u001b[0m filename \u001b[39m=\u001b[39m \u001b[39m'\u001b[39m\u001b[39mharry\u001b[39m\u001b[39m'\u001b[39m\n\u001b[0;32m----> 6\u001b[0m \u001b[39massert\u001b[39;00m input_size[i] \u001b[39m%\u001b[39m stride \u001b[39m==\u001b[39m \u001b[39m0\u001b[39m, \u001b[39mf\u001b[39m\u001b[39m'\u001b[39m\u001b[39mError: index: \u001b[39m\u001b[39m{\u001b[39;00mi\u001b[39m}\u001b[39;00m\u001b[39m, input_size: \u001b[39m\u001b[39m{\u001b[39;00minput_size[i]\u001b[39m}\u001b[39;00m\u001b[39m is not divisiable by stride:\u001b[39m\u001b[39m{\u001b[39;00mstride\u001b[39m}\u001b[39;00m\u001b[39m, file:\u001b[39m\u001b[39m{\u001b[39;00mfilename\u001b[39m}\u001b[39;00m\u001b[39m'\u001b[39m\n",
      "\u001b[0;31mAssertionError\u001b[0m: Error: index: 0, input_size: 10 is not divisiable by stride:4, file:harry"
     ]
    }
   ],
   "source": [
    "i = 0\n",
    "input_size = [10, 10, 10]\n",
    "stride = 4\n",
    "filename = 'harry'\n",
    "\n",
    "assert input_size[i] % stride == 0, f'Error: index: {i}, input_size: {input_size[i]} is not divisiable by stride:{stride}, file:{filename}'\n"
   ]
  }
 ],
 "metadata": {
  "kernelspec": {
   "display_name": "grt123",
   "language": "python",
   "name": "python3"
  },
  "language_info": {
   "codemirror_mode": {
    "name": "ipython",
    "version": 3
   },
   "file_extension": ".py",
   "mimetype": "text/x-python",
   "name": "python",
   "nbconvert_exporter": "python",
   "pygments_lexer": "ipython3",
   "version": "3.10.12"
  },
  "orig_nbformat": 4
 },
 "nbformat": 4,
 "nbformat_minor": 2
}
