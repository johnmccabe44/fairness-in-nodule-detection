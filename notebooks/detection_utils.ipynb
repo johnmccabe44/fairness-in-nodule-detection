{
 "cells": [
  {
   "cell_type": "code",
   "execution_count": 2,
   "metadata": {},
   "outputs": [],
   "source": [
    "import pandas as pd"
   ]
  },
  {
   "cell_type": "code",
   "execution_count": 4,
   "metadata": {},
   "outputs": [
    {
     "data": {
      "text/plain": [
       "Index(['form_instance_id', 'form_instance_status', 'participant_id',\n",
       "       'form_instance_index', 'nodule_brock_score', 'nodule_category',\n",
       "       'nodule_diameter_mm', 'nodule_lesion_id', 'nodule_lung_rads',\n",
       "       'nodule_mass', 'nodule_mass_core', 'nodule_mass_double_time_core',\n",
       "       'nodule_mass_doubling_time', 'nodule_reliable_segment', 'nodule_site',\n",
       "       'nodule_size_volume_cub_mm', 'nodule_slice_number',\n",
       "       'nodule_spiculation', 'nodule_subsolid_major_axis_diameter',\n",
       "       'nodule_type', 'nodule_volume_core', 'nodule_volume_doubling_time',\n",
       "       'nodule_volume_percentage_change',\n",
       "       'nodule_volume_volume_double_time_core', 'nodule_x_coordinate',\n",
       "       'nodule_y_coordinate', 'nodule_z_coordinate',\n",
       "       'radiology_report_management_plan_value', 'management_plan',\n",
       "       'radiology_report_malignancy_diagnosis',\n",
       "       'radiology_report_malignancy_criteria',\n",
       "       'radiology_report_malignancy_primary_order',\n",
       "       'radiology_report_scans_transfer_state', 'gender', 'age_group',\n",
       "       'ethnic_group', 'radiology_report_lesions_to_exclude', 'dataset'],\n",
       "      dtype='object')"
      ]
     },
     "execution_count": 4,
     "metadata": {},
     "output_type": "execute_result"
    }
   ],
   "source": [
    "\n",
    "dataset_dict = {'training':[], 'validation':[]}\n",
    "\n",
    "for dataset in dataset_dict.keys():\n",
    "\n",
    "    scan_list = pd.read_csv(f'../output/metadata/reduced/{dataset}_scans.csv')\n",
    "    nodules_metadata = pd.read_csv(f'../output/metadata/reduced/{dataset}_metadata.csv')\n",
    "\n",
    "    for scan_id in training_scan_list.scan_id.values:\n",
    "        study_id = scan_id.split('_',1)[0]\n",
    "\n",
    "        scan_dict = {\n",
    "            'box' : [],\n",
    "            'image' : f'{study_id}/{scan_id}.nii.gz'\n",
    "            'label' : []\n",
    "        }\n",
    "\n",
    "        for idx, row in training_nodules_metadata[training_nodules_metadata.study_id == study_id].iterrows():\n",
    "            scan_dict['box'].append([row.x, row.y, row.z, row.d, row.d, row.d])\n",
    "            scan_dict['label'].append(0)\n",
    "\n",
    "\n"
   ]
  }
 ],
 "metadata": {
  "kernelspec": {
   "display_name": "monai",
   "language": "python",
   "name": "python3"
  },
  "language_info": {
   "codemirror_mode": {
    "name": "ipython",
    "version": 3
   },
   "file_extension": ".py",
   "mimetype": "text/x-python",
   "name": "python",
   "nbconvert_exporter": "python",
   "pygments_lexer": "ipython3",
   "version": "3.9.17"
  }
 },
 "nbformat": 4,
 "nbformat_minor": 2
}
