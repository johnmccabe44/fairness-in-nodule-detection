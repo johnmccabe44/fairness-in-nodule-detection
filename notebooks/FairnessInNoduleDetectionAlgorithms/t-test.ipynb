{
 "cells": [
  {
   "cell_type": "markdown",
   "metadata": {},
   "source": [
    "# Significance Testing\n",
    "\n",
    "First Experiment 1: Model 1: Actionable Male vs Actionable Female"
   ]
  },
  {
   "cell_type": "code",
   "execution_count": 77,
   "metadata": {},
   "outputs": [
    {
     "name": "stdout",
     "output_type": "stream",
     "text": [
      "****************************************************************************************************\n",
      "Model: grt123 Experiment: test_balanced Group1: Female Group2: Male\n"
     ]
    },
    {
     "data": {
      "text/plain": [
       "'Group 1 CPM: 0.4624306261539459, Group 2 CPM: 0.3770189881324768'"
      ]
     },
     "metadata": {},
     "output_type": "display_data"
    },
    {
     "data": {
      "text/plain": [
       "'Difference:0.08541163802146912'"
      ]
     },
     "metadata": {},
     "output_type": "display_data"
    },
    {
     "name": "stdout",
     "output_type": "stream",
     "text": [
      "p-value = 0.0\n",
      "Mann-Whitney U test p-value = 9.563066073851892e-275\n",
      "****************************************************************************************************\n",
      "Model: detection Experiment: test_balanced Group1: Female Group2: Male\n"
     ]
    },
    {
     "data": {
      "text/plain": [
       "'Group 1 CPM: 0.5680882334709167, Group 2 CPM: 0.4922142028808594'"
      ]
     },
     "metadata": {},
     "output_type": "display_data"
    },
    {
     "data": {
      "text/plain": [
       "'Difference:0.07587403059005737'"
      ]
     },
     "metadata": {},
     "output_type": "display_data"
    },
    {
     "name": "stdout",
     "output_type": "stream",
     "text": [
      "p-value = 0.0\n",
      "Mann-Whitney U test p-value = 1.4147309767584617e-255\n",
      "****************************************************************************************************\n",
      "Model: grt123 Experiment: test_balanced Group1: White Group2: Asian or Asian British\n"
     ]
    },
    {
     "data": {
      "text/plain": [
       "'Group 1 CPM: 0.5201665759086609, Group 2 CPM: 0.3638194501399994'"
      ]
     },
     "metadata": {},
     "output_type": "display_data"
    },
    {
     "data": {
      "text/plain": [
       "'Difference:0.1563471257686615'"
      ]
     },
     "metadata": {},
     "output_type": "display_data"
    },
    {
     "name": "stdout",
     "output_type": "stream",
     "text": [
      "p-value = 0.0\n",
      "Mann-Whitney U test p-value = 0.0\n",
      "****************************************************************************************************\n",
      "Model: grt123 Experiment: test_balanced Group1: White Group2: Black\n"
     ]
    },
    {
     "data": {
      "text/plain": [
       "'Group 1 CPM: 0.5201665759086609, Group 2 CPM: 0.36265766620635986'"
      ]
     },
     "metadata": {},
     "output_type": "display_data"
    },
    {
     "data": {
      "text/plain": [
       "'Difference:0.15750890970230103'"
      ]
     },
     "metadata": {},
     "output_type": "display_data"
    },
    {
     "name": "stdout",
     "output_type": "stream",
     "text": [
      "p-value = 0.0\n",
      "Mann-Whitney U test p-value = 0.0\n",
      "****************************************************************************************************\n",
      "Model: grt123 Experiment: test_balanced Group1: Asian or Asian British Group2: Black\n"
     ]
    },
    {
     "data": {
      "text/plain": [
       "'Group 1 CPM: 0.3638194501399994, Group 2 CPM: 0.36265766620635986'"
      ]
     },
     "metadata": {},
     "output_type": "display_data"
    },
    {
     "data": {
      "text/plain": [
       "'Difference:0.0011617839336395264'"
      ]
     },
     "metadata": {},
     "output_type": "display_data"
    },
    {
     "name": "stdout",
     "output_type": "stream",
     "text": [
      "p-value = 0.49819563029221825\n",
      "Mann-Whitney U test p-value = 0.3690421518600526\n",
      "****************************************************************************************************\n",
      "Model: detection Experiment: test_balanced Group1: White Group2: Asian or Asian British\n"
     ]
    },
    {
     "data": {
      "text/plain": [
       "'Group 1 CPM: 0.5967673063278198, Group 2 CPM: 0.4741431176662445'"
      ]
     },
     "metadata": {},
     "output_type": "display_data"
    },
    {
     "data": {
      "text/plain": [
       "'Difference:0.12262418866157532'"
      ]
     },
     "metadata": {},
     "output_type": "display_data"
    },
    {
     "name": "stdout",
     "output_type": "stream",
     "text": [
      "p-value = 0.0\n",
      "Mann-Whitney U test p-value = 7.1681997174306795e-304\n",
      "****************************************************************************************************\n",
      "Model: detection Experiment: test_balanced Group1: White Group2: Black\n"
     ]
    },
    {
     "data": {
      "text/plain": [
       "'Group 1 CPM: 0.5967673063278198, Group 2 CPM: 0.5208383798599243'"
      ]
     },
     "metadata": {},
     "output_type": "display_data"
    },
    {
     "data": {
      "text/plain": [
       "'Difference:0.07592892646789551'"
      ]
     },
     "metadata": {},
     "output_type": "display_data"
    },
    {
     "name": "stdout",
     "output_type": "stream",
     "text": [
      "p-value = 8.160894139421973e-287\n",
      "Mann-Whitney U test p-value = 2.974037093326166e-219\n",
      "****************************************************************************************************\n",
      "Model: detection Experiment: test_balanced Group1: Asian or Asian British Group2: Black\n"
     ]
    },
    {
     "data": {
      "text/plain": [
       "'Group 1 CPM: 0.4741431176662445, Group 2 CPM: 0.5208383798599243'"
      ]
     },
     "metadata": {},
     "output_type": "display_data"
    },
    {
     "data": {
      "text/plain": [
       "'Difference:-0.04669526219367981'"
      ]
     },
     "metadata": {},
     "output_type": "display_data"
    },
    {
     "name": "stdout",
     "output_type": "stream",
     "text": [
      "p-value = 6.901392766438998e-108\n",
      "Mann-Whitney U test p-value = 2.1074221520323753e-97\n"
     ]
    }
   ],
   "source": [
    "from pdb import run\n",
    "from click import group\n",
    "from cv2 import mean\n",
    "import numpy as np\n",
    "import json\n",
    "import numpy as np\n",
    "import pandas as pd\n",
    "from pathlib import Path\n",
    "import os\n",
    "import sys\n",
    "import warnings\n",
    "import matplotlib.pyplot as plt\n",
    "from scipy import stats\n",
    "import seaborn as sns\n",
    "\n",
    "warnings.simplefilter('ignore')\n",
    "\n",
    "\n",
    "def run_stats_test(group1_path, group2_path):\n",
    "\n",
    "    group1_descriptions = group1_path.split('/')\n",
    "    group2_descriptions = group2_path.split('/')\n",
    "\n",
    "    print('*'*100)\n",
    "    print('Model:', group1_descriptions[-7] ,'Experiment:', group1_descriptions[-4], 'Group1:', group1_descriptions[-2], 'Group2:', group2_descriptions[-2])\n",
    "\n",
    "    data1 = np.load(group1_path)\n",
    "\n",
    "    data2 = np.load(group2_path)\n",
    "\n",
    "    operating_points = [0.125, 0.25, 0.5, 1, 2, 4, 8]\n",
    "    # get indexes of fpps rates\n",
    "    fps = np.linspace(0.125, 8, num=10000)\n",
    "    idxs = []\n",
    "    for fps_value in operating_points:\n",
    "        idxs.append(np.abs(fps - fps_value).argmin())\n",
    "\n",
    "    idxs\n",
    "\n",
    "    # for group 1 ... the CPM will be the average across these idxs\n",
    "    data1_op = []\n",
    "    data2_op = []\n",
    "    for bootstrap in range(1000):\n",
    "        data1_op.append(data1[bootstrap, idxs].mean())\n",
    "        data2_op.append(data2[bootstrap, idxs].mean())\n",
    "\n",
    "    # Convert list of arrays into one array\n",
    "    data1_op_array = np.array(data1_op)\n",
    "    data2_op_array = np.array(data2_op)\n",
    "\n",
    "    mean_data1 = np.mean(data1_op_array, axis=0)\n",
    "    mean_data2 = np.mean(data2_op_array, axis=0)\n",
    "\n",
    "    display(f'Group 1 CPM: {mean_data1}, Group 2 CPM: {mean_data2}')\n",
    "\n",
    "    differences = mean_data1 - mean_data2\n",
    "\n",
    "    display(f'Difference:{differences}')\n",
    "\n",
    "    from scipy.stats import ttest_ind\n",
    "\n",
    "    # Perform t-test for each operating point\n",
    "    t_stat, p_value = ttest_ind(data1_op_array[:], data2_op_array[:])\n",
    "\n",
    "    # Print the p-values\n",
    "    print(f'p-value = {p_value}')\n",
    "\n",
    "    u_stat, p_value = stats.mannwhitneyu(data1_op_array[:], data2_op_array[:])\n",
    "    print(f'Mann-Whitney U test p-value = {p_value}')\n",
    "\n",
    "\n",
    "group1_path = '/Users/john/Projects/SOTAEvaluationNoduleDetection/results/grt123/trained_summit/summit/test_balanced/gender_is_actionable/Female/all_fps.npy'\n",
    "group2_path = '/Users/john/Projects/SOTAEvaluationNoduleDetection/results/grt123/trained_summit/summit/test_balanced/gender_is_actionable/Male/all_fps.npy'\n",
    "run_stats_test(group1_path, group2_path)\n",
    "\n",
    "group1_path = '/Users/john/Projects/SOTAEvaluationNoduleDetection/results/detection/trained_summit/summit/test_balanced/gender_is_actionable/Female/all_fps.npy'\n",
    "group2_path = '/Users/john/Projects/SOTAEvaluationNoduleDetection/results/detection/trained_summit/summit/test_balanced/gender_is_actionable/Male/all_fps.npy'\n",
    "run_stats_test(group1_path, group2_path)\n",
    "\n",
    "group1_path = '/Users/john/Projects/SOTAEvaluationNoduleDetection/results/grt123/trained_summit/summit/test_balanced/ethnic_group_is_actionable/White/all_fps.npy'\n",
    "group2_path = '/Users/john/Projects/SOTAEvaluationNoduleDetection/results/grt123/trained_summit/summit/test_balanced/ethnic_group_is_actionable/Asian or Asian British/all_fps.npy'\n",
    "run_stats_test(group1_path, group2_path)\n",
    "\n",
    "group1_path = '/Users/john/Projects/SOTAEvaluationNoduleDetection/results/grt123/trained_summit/summit/test_balanced/ethnic_group_is_actionable/White/all_fps.npy'\n",
    "group2_path = '/Users/john/Projects/SOTAEvaluationNoduleDetection/results/grt123/trained_summit/summit/test_balanced/ethnic_group_is_actionable/Black/all_fps.npy'\n",
    "run_stats_test(group1_path, group2_path)\n",
    "\n",
    "group1_path = '/Users/john/Projects/SOTAEvaluationNoduleDetection/results/grt123/trained_summit/summit/test_balanced/ethnic_group_is_actionable/Asian or Asian British/all_fps.npy'\n",
    "group2_path = '/Users/john/Projects/SOTAEvaluationNoduleDetection/results/grt123/trained_summit/summit/test_balanced/ethnic_group_is_actionable/Black/all_fps.npy'\n",
    "run_stats_test(group1_path, group2_path)\n",
    "\n",
    "group1_path = '/Users/john/Projects/SOTAEvaluationNoduleDetection/results/detection/trained_summit/summit/test_balanced/ethnic_group_is_actionable/White/all_fps.npy'\n",
    "group2_path = '/Users/john/Projects/SOTAEvaluationNoduleDetection/results/detection/trained_summit/summit/test_balanced/ethnic_group_is_actionable/Asian or Asian British/all_fps.npy'\n",
    "run_stats_test(group1_path, group2_path)\n",
    "\n",
    "group1_path = '/Users/john/Projects/SOTAEvaluationNoduleDetection/results/detection/trained_summit/summit/test_balanced/ethnic_group_is_actionable/White/all_fps.npy'\n",
    "group2_path = '/Users/john/Projects/SOTAEvaluationNoduleDetection/results/detection/trained_summit/summit/test_balanced/ethnic_group_is_actionable/Black/all_fps.npy'\n",
    "run_stats_test(group1_path, group2_path)\n",
    "\n",
    "group1_path = '/Users/john/Projects/SOTAEvaluationNoduleDetection/results/detection/trained_summit/summit/test_balanced/ethnic_group_is_actionable/Asian or Asian British/all_fps.npy'\n",
    "group2_path = '/Users/john/Projects/SOTAEvaluationNoduleDetection/results/detection/trained_summit/summit/test_balanced/ethnic_group_is_actionable/Black/all_fps.npy'\n",
    "run_stats_test(group1_path, group2_path)"
   ]
  },
  {
   "cell_type": "code",
   "execution_count": 74,
   "metadata": {},
   "outputs": [
    {
     "name": "stdout",
     "output_type": "stream",
     "text": [
      "****************************************************************************************************\n",
      "Model: grt123 Experiment: balanced_white_only Group1: Female Group2: Male\n"
     ]
    },
    {
     "data": {
      "text/plain": [
       "'Group 1 CPM: 0.4405766725540161, Group 2 CPM: 0.4393600523471832'"
      ]
     },
     "metadata": {},
     "output_type": "display_data"
    },
    {
     "data": {
      "text/plain": [
       "'Difference:0.0012166202068328857'"
      ]
     },
     "metadata": {},
     "output_type": "display_data"
    },
    {
     "name": "stdout",
     "output_type": "stream",
     "text": [
      "p-value = 0.31677473603992146\n",
      "****************************************************************************************************\n",
      "Model: detection Experiment: balanced_white_only Group1: Female Group2: Male\n"
     ]
    },
    {
     "data": {
      "text/plain": [
       "'Group 1 CPM: 0.5107588171958923, Group 2 CPM: 0.4876268804073334'"
      ]
     },
     "metadata": {},
     "output_type": "display_data"
    },
    {
     "data": {
      "text/plain": [
       "'Difference:0.02313193678855896'"
      ]
     },
     "metadata": {},
     "output_type": "display_data"
    },
    {
     "name": "stdout",
     "output_type": "stream",
     "text": [
      "p-value = 4.3175970983082027e-76\n"
     ]
    }
   ],
   "source": [
    "\n",
    "group1_path = '/Users/john/Projects/SOTAEvaluationNoduleDetection/results/grt123/trained_summit/summit/balanced_white_only/gender_is_actionable/Female/all_fps.npy'\n",
    "group2_path = '/Users/john/Projects/SOTAEvaluationNoduleDetection/results/grt123/trained_summit/summit/balanced_white_only/gender_is_actionable/Male/all_fps.npy'\n",
    "run_stats_test(group1_path, group2_path)\n",
    "\n",
    "group1_path = '/Users/john/Projects/SOTAEvaluationNoduleDetection/results/detection/trained_summit/summit/balanced_white_only/gender_is_actionable/Female/all_fps.npy'\n",
    "group2_path = '/Users/john/Projects/SOTAEvaluationNoduleDetection/results/detection/trained_summit/summit/balanced_white_only/gender_is_actionable/Male/all_fps.npy'\n",
    "run_stats_test(group1_path, group2_path)"
   ]
  },
  {
   "cell_type": "code",
   "execution_count": 76,
   "metadata": {},
   "outputs": [
    {
     "name": "stdout",
     "output_type": "stream",
     "text": [
      "****************************************************************************************************\n",
      "Model: grt123 Experiment: male_only Group1: White Group2: Asian or Asian British\n"
     ]
    },
    {
     "data": {
      "text/plain": [
       "'Group 1 CPM: 0.4272054135799408, Group 2 CPM: 0.48259320855140686'"
      ]
     },
     "metadata": {},
     "output_type": "display_data"
    },
    {
     "data": {
      "text/plain": [
       "'Difference:-0.055387794971466064'"
      ]
     },
     "metadata": {},
     "output_type": "display_data"
    },
    {
     "name": "stdout",
     "output_type": "stream",
     "text": [
      "p-value = 3.316237417874421e-114\n",
      "****************************************************************************************************\n",
      "Model: grt123 Experiment: male_only Group1: White Group2: Black\n"
     ]
    },
    {
     "data": {
      "text/plain": [
       "'Group 1 CPM: 0.4272054135799408, Group 2 CPM: 0.4063628613948822'"
      ]
     },
     "metadata": {},
     "output_type": "display_data"
    },
    {
     "data": {
      "text/plain": [
       "'Difference:0.020842552185058594'"
      ]
     },
     "metadata": {},
     "output_type": "display_data"
    },
    {
     "name": "stdout",
     "output_type": "stream",
     "text": [
      "p-value = 4.043162316516266e-15\n",
      "****************************************************************************************************\n",
      "Model: grt123 Experiment: male_only Group1: Asian or Asian British Group2: Black\n"
     ]
    },
    {
     "data": {
      "text/plain": [
       "'Group 1 CPM: 0.48259320855140686, Group 2 CPM: 0.4063628613948822'"
      ]
     },
     "metadata": {},
     "output_type": "display_data"
    },
    {
     "data": {
      "text/plain": [
       "'Difference:0.07623034715652466'"
      ]
     },
     "metadata": {},
     "output_type": "display_data"
    },
    {
     "name": "stdout",
     "output_type": "stream",
     "text": [
      "p-value = 4.306339138851439e-133\n",
      "****************************************************************************************************\n",
      "Model: detection Experiment: male_only Group1: White Group2: Asian or Asian British\n"
     ]
    },
    {
     "data": {
      "text/plain": [
       "'Group 1 CPM: 0.5304210186004639, Group 2 CPM: 0.5836277008056641'"
      ]
     },
     "metadata": {},
     "output_type": "display_data"
    },
    {
     "data": {
      "text/plain": [
       "'Difference:-0.053206682205200195'"
      ]
     },
     "metadata": {},
     "output_type": "display_data"
    },
    {
     "name": "stdout",
     "output_type": "stream",
     "text": [
      "p-value = 2.1831386907508035e-100\n",
      "****************************************************************************************************\n",
      "Model: detection Experiment: male_only Group1: White Group2: Black\n"
     ]
    },
    {
     "data": {
      "text/plain": [
       "'Group 1 CPM: 0.5304210186004639, Group 2 CPM: 0.4928217828273773'"
      ]
     },
     "metadata": {},
     "output_type": "display_data"
    },
    {
     "data": {
      "text/plain": [
       "'Difference:0.03759923577308655'"
      ]
     },
     "metadata": {},
     "output_type": "display_data"
    },
    {
     "name": "stdout",
     "output_type": "stream",
     "text": [
      "p-value = 3.025259696154059e-52\n",
      "****************************************************************************************************\n",
      "Model: detection Experiment: male_only Group1: Asian or Asian British Group2: Black\n"
     ]
    },
    {
     "data": {
      "text/plain": [
       "'Group 1 CPM: 0.5836277008056641, Group 2 CPM: 0.4928217828273773'"
      ]
     },
     "metadata": {},
     "output_type": "display_data"
    },
    {
     "data": {
      "text/plain": [
       "'Difference:0.09080591797828674'"
      ]
     },
     "metadata": {},
     "output_type": "display_data"
    },
    {
     "name": "stdout",
     "output_type": "stream",
     "text": [
      "p-value = 1.1635562874892292e-235\n"
     ]
    }
   ],
   "source": [
    "group1_path = '/Users/john/Projects/SOTAEvaluationNoduleDetection/results/grt123/trained_summit/summit/male_only/ethnic_group_is_actionable/White/all_fps.npy'\n",
    "group2_path = '/Users/john/Projects/SOTAEvaluationNoduleDetection/results/grt123/trained_summit/summit/male_only/ethnic_group_is_actionable/Asian or Asian British/all_fps.npy'\n",
    "run_stats_test(group1_path, group2_path)\n",
    "\n",
    "group1_path = '/Users/john/Projects/SOTAEvaluationNoduleDetection/results/grt123/trained_summit/summit/male_only/ethnic_group_is_actionable/White/all_fps.npy'\n",
    "group2_path = '/Users/john/Projects/SOTAEvaluationNoduleDetection/results/grt123/trained_summit/summit/male_only/ethnic_group_is_actionable/Black/all_fps.npy'\n",
    "run_stats_test(group1_path, group2_path)\n",
    "\n",
    "group1_path = '/Users/john/Projects/SOTAEvaluationNoduleDetection/results/grt123/trained_summit/summit/male_only/ethnic_group_is_actionable/Asian or Asian British/all_fps.npy'\n",
    "group2_path = '/Users/john/Projects/SOTAEvaluationNoduleDetection/results/grt123/trained_summit/summit/male_only/ethnic_group_is_actionable/Black/all_fps.npy'\n",
    "run_stats_test(group1_path, group2_path)\n",
    "\n",
    "group1_path = '/Users/john/Projects/SOTAEvaluationNoduleDetection/results/detection/trained_summit/summit/male_only/ethnic_group_is_actionable/White/all_fps.npy'\n",
    "group2_path = '/Users/john/Projects/SOTAEvaluationNoduleDetection/results/detection/trained_summit/summit/male_only/ethnic_group_is_actionable/Asian or Asian British/all_fps.npy'\n",
    "run_stats_test(group1_path, group2_path)\n",
    "\n",
    "group1_path = '/Users/john/Projects/SOTAEvaluationNoduleDetection/results/detection/trained_summit/summit/male_only/ethnic_group_is_actionable/White/all_fps.npy'\n",
    "group2_path = '/Users/john/Projects/SOTAEvaluationNoduleDetection/results/detection/trained_summit/summit/male_only/ethnic_group_is_actionable/Black/all_fps.npy'\n",
    "run_stats_test(group1_path, group2_path)\n",
    "\n",
    "group1_path = '/Users/john/Projects/SOTAEvaluationNoduleDetection/results/detection/trained_summit/summit/male_only/ethnic_group_is_actionable/Asian or Asian British/all_fps.npy'\n",
    "group2_path = '/Users/john/Projects/SOTAEvaluationNoduleDetection/results/detection/trained_summit/summit/male_only/ethnic_group_is_actionable/Black/all_fps.npy'\n",
    "run_stats_test(group1_path, group2_path)"
   ]
  }
 ],
 "metadata": {
  "kernelspec": {
   "display_name": "summit",
   "language": "python",
   "name": "python3"
  },
  "language_info": {
   "codemirror_mode": {
    "name": "ipython",
    "version": 3
   },
   "file_extension": ".py",
   "mimetype": "text/x-python",
   "name": "python",
   "nbconvert_exporter": "python",
   "pygments_lexer": "ipython3",
   "version": "3.11.4"
  }
 },
 "nbformat": 4,
 "nbformat_minor": 2
}
